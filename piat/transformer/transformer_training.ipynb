{
 "cells": [
  {
   "cell_type": "code",
   "execution_count": 1,
   "outputs": [],
   "source": [
    "from src.data_preprocessing import load_processed_fairytales_dataset, save_experiment_input, shuffle\n",
    "from src.my_transformer import MyTransformer\n",
    "import torch\n",
    "from tqdm import tqdm"
   ],
   "metadata": {
    "collapsed": false,
    "ExecuteTime": {
     "end_time": "2023-09-02T19:09:13.481580200Z",
     "start_time": "2023-09-02T19:09:12.093584800Z"
    }
   },
   "id": "10a374ad85a355c7"
  },
  {
   "cell_type": "code",
   "execution_count": 2,
   "outputs": [
    {
     "name": "stderr",
     "output_type": "stream",
     "text": [
      "Reading files: 2124 files [00:00, 4148.45 files/s]\n",
      "Preprocessing: 100%|██████████| 10/10 [00:00<00:00, 2502.12it/s]\n",
      "Converting strings to integers: 100%|██████████| 10/10 [00:00<00:00, 9988.82it/s]\n",
      "Generating encoded pairs: 100%|██████████| 10/10 [00:00<00:00, 1666.72it/s]\n"
     ]
    }
   ],
   "source": [
    "encoding_pairs, decoding_pairs, vocab, reverse_vocab = load_processed_fairytales_dataset(how_many=10, context_size=50)"
   ],
   "metadata": {
    "collapsed": false,
    "ExecuteTime": {
     "end_time": "2023-09-02T19:09:14.040580900Z",
     "start_time": "2023-09-02T19:09:13.482580900Z"
    }
   },
   "id": "2e8cec7ba427657a"
  },
  {
   "cell_type": "code",
   "execution_count": 3,
   "outputs": [],
   "source": [
    "src_data = torch.tensor(encoding_pairs, dtype=torch.long)\n",
    "tgt_data = torch.tensor(decoding_pairs, dtype=torch.long)"
   ],
   "metadata": {
    "collapsed": false,
    "ExecuteTime": {
     "end_time": "2023-09-02T19:09:14.074581600Z",
     "start_time": "2023-09-02T19:09:14.033582900Z"
    }
   },
   "id": "c59eb8ae72a8fbdb"
  },
  {
   "cell_type": "code",
   "execution_count": 4,
   "outputs": [
    {
     "name": "stdout",
     "output_type": "stream",
     "text": [
      "Saved successfully\n"
     ]
    }
   ],
   "source": [
    "experiment_number = 8  # experiment_number = get_next_folder_number(Path('./models'))\n",
    "save_experiment_input(src_data, tgt_data, vocab, reverse_vocab, experiment_number)"
   ],
   "metadata": {
    "collapsed": false,
    "ExecuteTime": {
     "end_time": "2023-09-02T19:09:14.135578300Z",
     "start_time": "2023-09-02T19:09:14.063584Z"
    }
   },
   "id": "750e0730f8c628a5"
  },
  {
   "cell_type": "code",
   "execution_count": 5,
   "outputs": [],
   "source": [
    "# configuration\n",
    "d_model = 512  # dimensionality of the input vectors\n",
    "num_heads = 8  # number of transformer heads (multi-head attention)\n",
    "drop_prob = 0.1  # dropout\n",
    "batch_size = 10\n",
    "max_sequence_length = 50  # longest sequence in corpus (or limit) - the input length is always padded to this\n",
    "ffn_hidden = 2048  # feed-forward part size (expanding dimensionality)\n",
    "num_layers = 5  # Transformer layers\n",
    "src_vocab_size = len(vocab)\n",
    "target_vocab_size = len(vocab)"
   ],
   "metadata": {
    "collapsed": false,
    "ExecuteTime": {
     "end_time": "2023-09-02T19:09:14.144578100Z",
     "start_time": "2023-09-02T19:09:14.110581100Z"
    }
   },
   "id": "23b245d094a8e167"
  },
  {
   "cell_type": "code",
   "execution_count": 6,
   "outputs": [],
   "source": [
    "optimus_prime = MyTransformer(src_vocab_size, target_vocab_size, d_model, num_heads, num_layers, ffn_hidden,\n",
    "                              max_sequence_length, drop_prob)"
   ],
   "metadata": {
    "collapsed": false,
    "ExecuteTime": {
     "end_time": "2023-09-02T19:09:14.385578700Z",
     "start_time": "2023-09-02T19:09:14.123579100Z"
    }
   },
   "id": "505fff12687e7c03"
  },
  {
   "cell_type": "code",
   "execution_count": null,
   "outputs": [
    {
     "name": "stderr",
     "output_type": "stream",
     "text": [
      "Learning epoch: 1, average loss: 7.4212:  26%|██▌       | 130/497 [00:10<00:30, 12.09it/s]\n"
     ]
    }
   ],
   "source": [
    "device = torch.device(\"cuda\" if torch.cuda.is_available() else \"cpu\")\n",
    "optimus_prime.to(device)\n",
    "src_data = src_data.to(device)\n",
    "tgt_data = tgt_data.to(device)\n",
    "\n",
    "num_epochs = 50\n",
    "\n",
    "criterion = torch.nn.CrossEntropyLoss(ignore_index=0).to(device)\n",
    "optimizer = torch.optim.Adam(optimus_prime.parameters(), lr=0.01)\n",
    "\n",
    "average_loss = 0\n",
    "for epoch in range(1, num_epochs + 1):\n",
    "    p_bar = tqdm(range(0, len(src_data), batch_size), desc=f\"Learning epoch: {epoch}, average loss: {average_loss:.4f}\")\n",
    "    optimus_prime.train()\n",
    "    src_data, tgt_data = shuffle(src_data, tgt_data)\n",
    "    total_loss_in_epoch = 0.0\n",
    "    for batch in p_bar:\n",
    "        src_batch = src_data[batch:batch + batch_size].to(device)\n",
    "        tgt_batch = tgt_data[batch:batch + batch_size].to(device)\n",
    "\n",
    "        optimizer.zero_grad()\n",
    "\n",
    "        output = optimus_prime(src_batch, tgt_batch)\n",
    "        output = output.view(-1, target_vocab_size)\n",
    "\n",
    "        tgt_batch = tgt_batch.view(-1)\n",
    "\n",
    "        loss = criterion(output, tgt_batch)\n",
    "        loss.backward()\n",
    "\n",
    "        optimizer.step()\n",
    "\n",
    "        total_loss_in_epoch += loss.item()\n",
    "\n",
    "        # if not (batch % (10000 * batch_size)):\n",
    "        #     torch.save(optimus_prime, f'./models/{experiment_number}/model_{datetime.datetime.now().strftime(\"%Y_%m_%d__%H_%M_%S\")}.pth')\n",
    "\n",
    "        p_bar.set_description(\n",
    "            desc=f\"Learning epoch: {epoch}, average loss: {(total_loss_in_epoch / ((batch // batch_size) + 1)):.4f}\")\n",
    "\n",
    "    if not epoch % 5:\n",
    "        torch.save(optimus_prime, f'./models/{experiment_number}/model_after_{epoch}_epoch.pth')"
   ],
   "metadata": {
    "collapsed": false,
    "ExecuteTime": {
     "start_time": "2023-09-02T19:09:14.393579800Z"
    }
   },
   "id": "7960ff0ae6ef55"
  },
  {
   "cell_type": "code",
   "execution_count": null,
   "outputs": [],
   "source": [],
   "metadata": {
    "collapsed": false
   },
   "id": "2f648961f9974b1c"
  },
  {
   "cell_type": "code",
   "execution_count": null,
   "outputs": [],
   "source": [],
   "metadata": {
    "collapsed": false
   },
   "id": "87826981bda755f6"
  }
 ],
 "metadata": {
  "kernelspec": {
   "display_name": "Python 3",
   "language": "python",
   "name": "python3"
  },
  "language_info": {
   "codemirror_mode": {
    "name": "ipython",
    "version": 2
   },
   "file_extension": ".py",
   "mimetype": "text/x-python",
   "name": "python",
   "nbconvert_exporter": "python",
   "pygments_lexer": "ipython2",
   "version": "2.7.6"
  }
 },
 "nbformat": 4,
 "nbformat_minor": 5
}
