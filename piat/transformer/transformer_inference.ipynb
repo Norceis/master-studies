{
 "cells": [
  {
   "cell_type": "code",
   "execution_count": 1,
   "id": "initial_id",
   "metadata": {
    "collapsed": true,
    "ExecuteTime": {
     "end_time": "2023-09-10T11:15:04.689423600Z",
     "start_time": "2023-09-10T11:15:03.636408300Z"
    }
   },
   "outputs": [],
   "source": [
    "from src.my_transformer_v2 import generate_fairytale_transformer"
   ]
  },
  {
   "cell_type": "code",
   "execution_count": 2,
   "outputs": [
    {
     "data": {
      "text/plain": "'Dawno dawno temu za górami za lasami w wiosce krasnoludków. W dawno uratowanie górami lesie. był pewnego pewnego pewnego był był był postanowił postanowił nie był był był. nie nie nie nie nie dawno temu. Dnia dnia to podążać wiedział bardzo Wiedział zrażali temu Podczas bardzo że nie się nie szczęśliwe mógł mógł. Nie mógł. Nie mógł uwierzyć w której wszyscy byli bardzo szczęśliwy że nie mógł uwierzyć w której wszyscy byli bardzo szczęśliwy że nie mógł uwierzyć w której wszyscy byli bardzo szczęśliwy że musi być bardzo szczęśliwy że musi być bardzo szczęśliwy że musi być bardzo szczęśliwy że musi być bardzo szczęśliwy że nie mógł uwierzyć w to może być. Był pełen radości ale nie mógł uwierzyć w to co się w to może być. W to może być. W to może być. W to może być. W to może być. W którym miało moc w którym miało moc w to może pan o pomoc. W którym pomoc. W lesie. W lesie. W lesie. W lesie. W lesie. W lesie. '"
     },
     "execution_count": 2,
     "metadata": {},
     "output_type": "execute_result"
    }
   ],
   "source": [
    "generate_fairytale_transformer(input_text='Dawno dawno temu za górami za lasami w wiosce krasnoludków', \n",
    "                   how_many_sentences=20, \n",
    "                   experiment_number=14,\n",
    "                   model_name='model_after_25_epoch.pth',\n",
    ")"
   ],
   "metadata": {
    "collapsed": false,
    "ExecuteTime": {
     "end_time": "2023-09-10T11:15:11.228491800Z",
     "start_time": "2023-09-10T11:15:05.529500Z"
    }
   },
   "id": "14e96abd1dddefe2"
  },
  {
   "cell_type": "code",
   "execution_count": 4,
   "outputs": [],
   "source": [],
   "metadata": {
    "collapsed": false,
    "ExecuteTime": {
     "end_time": "2023-09-04T18:45:59.358629Z",
     "start_time": "2023-09-04T18:45:59.315592200Z"
    }
   },
   "id": "1837b13a08254f4"
  }
 ],
 "metadata": {
  "kernelspec": {
   "display_name": "Python 3",
   "language": "python",
   "name": "python3"
  },
  "language_info": {
   "codemirror_mode": {
    "name": "ipython",
    "version": 2
   },
   "file_extension": ".py",
   "mimetype": "text/x-python",
   "name": "python",
   "nbconvert_exporter": "python",
   "pygments_lexer": "ipython2",
   "version": "2.7.6"
  }
 },
 "nbformat": 4,
 "nbformat_minor": 5
}
