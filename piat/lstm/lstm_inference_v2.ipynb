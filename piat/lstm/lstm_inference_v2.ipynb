{
 "cells": [
  {
   "cell_type": "code",
   "execution_count": 1,
   "id": "initial_id",
   "metadata": {
    "collapsed": true,
    "ExecuteTime": {
     "end_time": "2023-09-11T16:35:53.577987800Z",
     "start_time": "2023-09-11T16:35:52.547397800Z"
    }
   },
   "outputs": [],
   "source": [
    "from src.my_lstm_v2 import generate_fairytale_lstm"
   ]
  },
  {
   "cell_type": "code",
   "execution_count": 2,
   "outputs": [
    {
     "data": {
      "text/plain": "'Dawno dawno temu za górami za lasami. mieszkał W mieszkał krainie w żył starej lesie norce żyły piękna kolorowe o mała nazwie zuzanna wszystko i. miała Codziennie była podczas sobie oczy ale i postanowił nie zawsze różne się plan na. swoich Jednak drzewo to nie tylko z dala. Rycerz filip przyjął różdżkę od czaryny misia i podziękował jej. Wrócił do wieży gotowy na walkę ze straszliwym smokiem. Gdy wszedł na dziedziniec zauważył że smok już tam czekał. Jego oczka błyszczały grozą a łuski świeciły niczym złote gwiazdy. Rycerz filip wymierzył smokowi swoją tarczę i wziął różdżkę do ręki. Powiedział zaklęcie i magiczne iskry zaczęły tańczyć na końcówce różdżki. '"
     },
     "execution_count": 2,
     "metadata": {},
     "output_type": "execute_result"
    }
   ],
   "source": [
    "generate_fairytale_lstm(input_text='dawno dawno temu za górami za lasami',\n",
    "                        context_len=50,\n",
    "                        how_many_sentences=10,\n",
    "                        experiment_number=3,\n",
    "                        model_name='model_after_80_epoch.pth',\n",
    "                        )"
   ],
   "metadata": {
    "collapsed": false,
    "ExecuteTime": {
     "end_time": "2023-09-11T16:36:03.684426400Z",
     "start_time": "2023-09-11T16:35:58.339806300Z"
    }
   },
   "id": "d1b74347dee43c2e"
  },
  {
   "cell_type": "code",
   "execution_count": 4,
   "outputs": [],
   "source": [],
   "metadata": {
    "collapsed": false,
    "ExecuteTime": {
     "end_time": "2023-09-07T21:31:47.614727800Z",
     "start_time": "2023-09-07T21:31:47.571693300Z"
    }
   },
   "id": "e5135b147b8fe1ef"
  }
 ],
 "metadata": {
  "kernelspec": {
   "display_name": "Python 3",
   "language": "python",
   "name": "python3"
  },
  "language_info": {
   "codemirror_mode": {
    "name": "ipython",
    "version": 2
   },
   "file_extension": ".py",
   "mimetype": "text/x-python",
   "name": "python",
   "nbconvert_exporter": "python",
   "pygments_lexer": "ipython2",
   "version": "2.7.6"
  }
 },
 "nbformat": 4,
 "nbformat_minor": 5
}
