{
 "cells": [
  {
   "cell_type": "code",
   "execution_count": 1,
   "outputs": [],
   "source": [
    "from src.data_preprocessing import load_raw_fairytales_dataset, load_processed_fairytales_dataset, \\\n",
    "    preprocess_fairytale_string, generate_vocabulary, encode_list_of_strings, generate_pairs_of_samples\n",
    "from tqdm import tqdm\n",
    "import torch"
   ],
   "metadata": {
    "collapsed": false,
    "ExecuteTime": {
     "end_time": "2023-08-30T18:10:24.622564300Z",
     "start_time": "2023-08-30T18:10:23.306568400Z"
    }
   },
   "id": "44de4eea1cb30b63"
  },
  {
   "cell_type": "code",
   "execution_count": 2,
   "outputs": [
    {
     "name": "stderr",
     "output_type": "stream",
     "text": [
      "Reading files: 2124 files [00:00, 4061.22 files/s]\n",
      "100%|██████████| 2124/2124 [00:00<00:00, 3401.16it/s]\n"
     ]
    }
   ],
   "source": [
    "tales = load_raw_fairytales_dataset()\n",
    "preprocessed_fairytales = []\n",
    "for tale in tqdm(tales):\n",
    "    preprocessed_fairytales.append(preprocess_fairytale_string(tale))"
   ],
   "metadata": {
    "collapsed": false,
    "ExecuteTime": {
     "end_time": "2023-08-30T18:10:26.351238Z",
     "start_time": "2023-08-30T18:10:25.179738200Z"
    }
   },
   "id": "be8d8830c5086482"
  },
  {
   "cell_type": "code",
   "execution_count": 3,
   "outputs": [
    {
     "data": {
      "text/plain": "['<bos>',\n 'dawno',\n 'dawno',\n 'temu',\n 'w',\n 'małej',\n 'wiosce',\n 'zwanej',\n 'doliną',\n 'radosnych',\n 'mieszkańców',\n 'żył',\n 'pewien',\n 'dzielny',\n 'chłopiec',\n 'o',\n 'imieniu',\n 'bolek',\n '<eos>',\n '<bos>',\n 'był',\n 'on',\n 'mały',\n 'ale',\n 'pełen',\n 'odwagi',\n 'i',\n 'fantazji',\n '<eos>',\n '<bos>',\n 'każdego',\n 'dnia',\n 'bolek',\n 'wyruszał',\n 'na',\n 'poszukiwanie',\n 'przygód',\n 'które',\n 'czekały',\n 'na',\n 'niego',\n 'za',\n 'żywopłotem',\n 'na',\n 'granicy',\n 'wioski',\n '<eos>',\n '<bos>',\n 'pewnego',\n 'pięknego',\n 'poranka',\n 'bolek',\n 'postanowił',\n 'zwiedzić',\n 'pobliski',\n 'las',\n '<eos>',\n '<bos>',\n 'spakował',\n 'swoje',\n 'ukochane',\n 'kanapki',\n 'z',\n 'masłem',\n 'orzechowym',\n 'napełnił',\n 'butelkę',\n 'wodą',\n 'i',\n 'ruszył',\n 'w',\n 'drogę',\n '<eos>',\n '<bos>',\n 'kiedy',\n 'dotarł',\n 'do',\n 'lasu',\n 'zobaczył',\n 'tajemniczą',\n 'ścieżkę',\n 'którą',\n 'jeszcze',\n 'żaden',\n 'mieszkaniec',\n 'doliny',\n 'nie',\n 'śmiał',\n 'podążać',\n '<eos>',\n '<bos>',\n 'oczywiście',\n 'bolek',\n 'postanowił',\n 'że',\n 'to',\n 'jest',\n 'dokładnie',\n 'to',\n 'czego',\n 'potrzebuje',\n 'wraz',\n 'ze',\n 'swoim',\n 'małym',\n 'plecakiem',\n 'na',\n 'plecach',\n 'bolek',\n 'wkroczył',\n 'na',\n 'nieznane',\n 'terytorium',\n '<eos>',\n '<bos>',\n 'las',\n 'był',\n 'pełen',\n 'szemrzących',\n 'drzew',\n 'i',\n 'śpiewających',\n 'ptaków',\n '<eos>',\n '<bos>',\n 'bolek',\n 'stał',\n 'zachwycony',\n 'kiedy',\n 'zebrał',\n 'kilka',\n 'pięknych',\n 'kolorowych',\n 'kwiatów',\n 'które',\n 'później',\n 'zaniesie',\n 'swojej',\n 'mamie',\n '<eos>',\n '<bos>',\n 'wszystko',\n 'wydawało',\n 'się',\n 'urokliwe',\n 'aż',\n 'do',\n 'momentu',\n 'kiedy',\n 'usłyszał',\n 'głośne',\n 'trzaskanie',\n 'gałęzi',\n '<eos>',\n '<bos>',\n 'bolek',\n 'podążył',\n 'za',\n 'źródłem',\n 'dźwięku',\n 'i',\n 'odkrył',\n 'że',\n 'to',\n 'nie',\n 'była',\n 'zwykła',\n 'gałązka',\n 'ale',\n 'mała',\n 'potłuczona',\n 'skrzydła',\n 'syreny',\n 'imelii',\n '<eos>',\n '<bos>',\n 'syrena',\n 'leżała',\n 'pokonana',\n 'na',\n 'ziemi',\n 'i',\n 'wydawała',\n 'smutne',\n 'dźwięki',\n '<eos>',\n '<bos>',\n 'bolek',\n 'nie',\n 'mógł',\n 'przejść',\n 'obojętnie',\n 'obok',\n 'takiej',\n 'potrzebującej',\n 'duszy',\n '<eos>',\n '<bos>',\n 'niezwłocznie',\n 'bolek',\n 'wyciągnął',\n 'swoją',\n 'małą',\n 'apteczkę',\n 'z',\n 'plecaka',\n 'i',\n 'delikatnie',\n 'opatrzył',\n 'skrzydełka',\n 'syreny',\n 'imelii',\n '<eos>',\n '<bos>',\n 'syrena',\n 'była',\n 'tak',\n 'wdzięczna',\n 'za',\n 'pomoc',\n 'że',\n 'obiecała',\n 'bolkowi',\n 'jedną',\n 'życzącą',\n 'gałkę',\n 'która',\n 'spełni',\n 'dla',\n 'niego',\n 'największe',\n 'marzenie',\n '<eos>',\n '<bos>',\n 'bolek',\n 'był',\n 'zachwycony',\n 'i',\n 'wpatrywał',\n 'się',\n 'w',\n 'czarujące',\n 'oczy',\n 'syreny',\n 'zastanawiając',\n 'się',\n 'jakie',\n 'marzenie',\n 'spełnić',\n '<eos>',\n '<bos>',\n 'po',\n 'chwili',\n 'namysłu',\n 'bolek',\n 'z',\n 'uśmiechem',\n 'na',\n 'twarzy',\n 'wyszeptał',\n 'na',\n 'ucho',\n 'syreny',\n 'życzenie',\n '<eos>',\n '<bos>',\n 'potem',\n 'pożegnał',\n 'się',\n 'i',\n 'ruszył',\n 'dalej',\n 'starym',\n 'traktem',\n 'wypatrując',\n 'kolejnej',\n 'przygody',\n '<eos>',\n '<bos>',\n 'wspaniałe',\n 'lasy',\n 'ukazały',\n 'mu',\n 'swoje',\n 'zachwycające',\n 'tajemnice',\n '–',\n 'spotkał',\n 'magiczne',\n 'stworzenia',\n 'jak',\n 'wróżki',\n 'i',\n 'krasnoludki',\n 'i',\n 'odkrył',\n 'ukryty',\n 'skarb',\n '<eos>',\n '<bos>',\n 'po',\n 'kilku',\n 'godzinach',\n 'wspaniałych',\n 'przygód',\n 'bolek',\n 'zrozumiał',\n 'że',\n 'zaczyna',\n 'już',\n 'zmierzchać',\n '<eos>',\n '<bos>',\n 'postanowił',\n 'zawrócić',\n 'do',\n 'wioski',\n 'aby',\n 'podzielić',\n 'się',\n 'swoimi',\n 'opowieściami',\n 'z',\n 'mieszkańcami',\n 'doliny',\n 'radosnych',\n 'mieszkańców',\n '<eos>',\n '<bos>',\n 'kiedy',\n 'wracał',\n 'zatrzymał',\n 'się',\n 'na',\n 'chwilę',\n 'aby',\n 'przypomnieć',\n 'sobie',\n 'swoje',\n 'marzenie',\n 'i',\n 'zobaczyć',\n 'czy',\n 'się',\n 'spełniło',\n '<eos>',\n '<bos>',\n 'nagle',\n 'pojawiła',\n 'się',\n 'syrena',\n 'imelia',\n 'unosząc',\n 'się',\n 'nad',\n 'wioską',\n 'w',\n 'promieniach',\n 'zachodzącego',\n 'słońca',\n '<eos>',\n '<bos>',\n 'miała',\n 'w',\n 'ręce',\n 'piękny',\n 'kolorowy',\n 'balon',\n 'który',\n 'przypominał',\n 'bolkowi',\n 'o',\n 'jego',\n 'najbardziej',\n 'ukochanym',\n 'odcinku',\n 'ulubionego',\n 'programu',\n 'telewizyjnego',\n '<eos>',\n '<bos>',\n 'był',\n 'spełnieniem',\n 'jego',\n 'marzenia',\n '–',\n 'mógł',\n 'lecieć',\n 'ponad',\n 'doliną',\n 'radosnych',\n 'mieszkańców',\n 'na',\n 'swym',\n 'magicznym',\n 'balonie',\n 'bolek',\n 'podziękował',\n 'syrenie',\n 'imelii',\n 'z',\n 'całego',\n 'serca',\n 'i',\n 'wspiął',\n 'się',\n 'na',\n 'balon',\n 'rozdając',\n 'uśmiechy',\n 'i',\n 'machając',\n 'mieszkańcom',\n 'wsi',\n 'którzy',\n 'oglądali',\n 'go',\n 'ze',\n 'zdumieniem',\n '<eos>',\n '<bos>',\n 'i',\n 'tak',\n 'świat',\n 'stał',\n 'się',\n 'ogromnym',\n 'placem',\n 'zabaw',\n 'dla',\n 'małego',\n 'bolka',\n 'który',\n 'od',\n 'tego',\n 'czasu',\n 'razem',\n 'ze',\n 'swoim',\n 'magicznym',\n 'balonem',\n 'docierał',\n 'do',\n 'najodleglejszych',\n 'zakątków',\n 'świata',\n 'przynosząc',\n 'ze',\n 'sobą',\n 'uśmiechy',\n 'i',\n 'radość',\n 'wszędzie',\n 'tam',\n 'gdzie',\n 'się',\n 'pojawiał',\n '<eos>',\n '<bos>',\n 'a',\n 'dolina',\n 'radosnych',\n 'mieszkańców',\n 'gdzie',\n 'wszystko',\n 'się',\n 'zaczęło',\n 'była',\n 'najszczęśliwszym',\n 'miejscem',\n 'na',\n 'ziemi',\n 'dzięki',\n 'chłopcu',\n 'który',\n 'spełnił',\n 'jedno',\n 'życzenie',\n 'i',\n 'odmienił',\n 'losy',\n 'wszystkich',\n 'mieszkańców',\n 'na',\n 'zawsze',\n '<eos>']"
     },
     "execution_count": 3,
     "metadata": {},
     "output_type": "execute_result"
    }
   ],
   "source": [
    "preprocessed_fairytales[0]"
   ],
   "metadata": {
    "collapsed": false,
    "ExecuteTime": {
     "end_time": "2023-08-30T18:10:26.929037600Z",
     "start_time": "2023-08-30T18:10:26.894017600Z"
    }
   },
   "id": "97c821044e1b4830"
  },
  {
   "cell_type": "code",
   "execution_count": 4,
   "outputs": [
    {
     "data": {
      "text/plain": "44559"
     },
     "execution_count": 4,
     "metadata": {},
     "output_type": "execute_result"
    }
   ],
   "source": [
    "fairytale_vocab, fairytale_reverse_vocab = generate_vocabulary(preprocessed_fairytales)\n",
    "len(fairytale_vocab.keys())"
   ],
   "metadata": {
    "collapsed": false,
    "ExecuteTime": {
     "end_time": "2023-08-30T18:10:27.712626200Z",
     "start_time": "2023-08-30T18:10:27.458627900Z"
    }
   },
   "id": "230b109387ff6dac"
  },
  {
   "cell_type": "code",
   "execution_count": 9,
   "outputs": [
    {
     "data": {
      "text/plain": "['<eos>']"
     },
     "execution_count": 9,
     "metadata": {},
     "output_type": "execute_result"
    }
   ],
   "source": [
    "fairytale_reverse_vocab[3]"
   ],
   "metadata": {
    "collapsed": false,
    "ExecuteTime": {
     "end_time": "2023-08-30T18:11:52.277386900Z",
     "start_time": "2023-08-30T18:11:52.257391400Z"
    }
   },
   "id": "b58417a125bc07b3"
  },
  {
   "cell_type": "code",
   "execution_count": 4,
   "outputs": [],
   "source": [
    "encoded_strings = encode_list_of_strings(preprocessed_fairytales, fairytale_vocab)"
   ],
   "metadata": {
    "collapsed": false
   },
   "id": "8c1852bcad78432d"
  },
  {
   "cell_type": "code",
   "execution_count": 5,
   "outputs": [],
   "source": [
    "encoding_pairs, decoding_pairs = [], []\n",
    "\n",
    "for tale in tqdm(encoded_strings):\n",
    "    enc, dec = generate_pairs_of_samples(tale, 100)\n",
    "    encoding_pairs.append(enc)\n",
    "    decoding_pairs.append(dec)\n",
    "    \n",
    "encoding_pairs = [item for sublist in encoding_pairs for item in sublist]\n",
    "decoding_pairs = [item for sublist in decoding_pairs for item in sublist]"
   ],
   "metadata": {
    "collapsed": false
   },
   "id": "3da717671384e512"
  },
  {
   "cell_type": "code",
   "execution_count": 2,
   "outputs": [
    {
     "name": "stderr",
     "output_type": "stream",
     "text": [
      "Reading files: 2124 files [00:00, 4061.20 files/s]\n",
      "Preprocessing: 100%|██████████| 2124/2124 [00:00<00:00, 3569.44it/s]\n",
      "Converting strings to integers: 100%|██████████| 2124/2124 [00:00<00:00, 13970.45it/s]\n",
      "Generating encoded pairs: 100%|██████████| 2124/2124 [00:08<00:00, 257.19it/s]\n"
     ]
    }
   ],
   "source": [
    "encoding_pairs, decoding_pairs, vocab, reverse_vocab = load_processed_fairytales_dataset(context_size=100)"
   ],
   "metadata": {
    "collapsed": false,
    "ExecuteTime": {
     "end_time": "2023-08-29T17:17:43.219748900Z",
     "start_time": "2023-08-29T17:17:33.286283500Z"
    }
   },
   "id": "a8bf0564bbcc3e1d"
  },
  {
   "cell_type": "code",
   "execution_count": 3,
   "outputs": [
    {
     "data": {
      "text/plain": "tensor([[ 0,  0,  0,  ...,  0,  0,  2],\n        [ 0,  0,  0,  ...,  0,  2,  4],\n        [ 0,  0,  0,  ...,  2,  4,  4],\n        ...,\n        [ 0,  0,  0,  ..., 54, 55, 56],\n        [ 0,  0,  0,  ..., 55, 56, 57],\n        [ 0,  0,  0,  ..., 56, 57, 58]])"
     },
     "execution_count": 3,
     "metadata": {},
     "output_type": "execute_result"
    }
   ],
   "source": [
    "src_tensor = torch.tensor(encoding_pairs[:64])\n",
    "src_tensor"
   ],
   "metadata": {
    "collapsed": false,
    "ExecuteTime": {
     "end_time": "2023-08-29T17:17:43.264748700Z",
     "start_time": "2023-08-29T17:17:43.222752300Z"
    }
   },
   "id": "509315cc27697bdc"
  },
  {
   "cell_type": "code",
   "execution_count": 4,
   "outputs": [
    {
     "data": {
      "text/plain": "tensor([[3233, 1683, 4688,  ...,   14, 3835,  563],\n        [1291, 2875, 4328,  ..., 3619, 4193,    7],\n        [1491, 2326, 3902,  ..., 3120,  430, 4765],\n        ...,\n        [ 760, 1247, 4240,  ..., 3172, 2204, 4937],\n        [2938, 3536, 4715,  ...,  588, 2238, 3246],\n        [3981,  135, 1625,  ..., 4205,  634, 4904]])"
     },
     "execution_count": 4,
     "metadata": {},
     "output_type": "execute_result"
    }
   ],
   "source": [
    "src_data_random = torch.randint(1, 5000, (64, 100))\n",
    "src_data_random"
   ],
   "metadata": {
    "collapsed": false,
    "ExecuteTime": {
     "end_time": "2023-08-29T17:17:43.273749700Z",
     "start_time": "2023-08-29T17:17:43.236751300Z"
    }
   },
   "id": "c39ee9f87daf6e60"
  },
  {
   "cell_type": "code",
   "execution_count": 5,
   "outputs": [
    {
     "data": {
      "text/plain": "44562"
     },
     "execution_count": 5,
     "metadata": {},
     "output_type": "execute_result"
    }
   ],
   "source": [
    "len(vocab)"
   ],
   "metadata": {
    "collapsed": false,
    "ExecuteTime": {
     "end_time": "2023-08-29T17:17:43.274749700Z",
     "start_time": "2023-08-29T17:17:43.253756400Z"
    }
   },
   "id": "6206f92b5dea8c0c"
  },
  {
   "cell_type": "code",
   "execution_count": 13,
   "outputs": [
    {
     "data": {
      "text/plain": "['dawno']"
     },
     "execution_count": 13,
     "metadata": {},
     "output_type": "execute_result"
    }
   ],
   "source": [
    "reverse_vocab[44563]"
   ],
   "metadata": {
    "collapsed": false,
    "ExecuteTime": {
     "end_time": "2023-08-29T17:18:17.848379200Z",
     "start_time": "2023-08-29T17:18:17.833363900Z"
    }
   },
   "id": "caa332e05cb3dcec"
  },
  {
   "cell_type": "code",
   "execution_count": 7,
   "outputs": [
    {
     "data": {
      "text/plain": "[(2, ['<bos>']),\n (4, ['dawno']),\n (5, ['temu']),\n (6, ['w']),\n (7, ['małej']),\n (8, ['wiosce']),\n (9, ['zwanej']),\n (10, ['doliną']),\n (11, ['radosnych']),\n (12, ['mieszkańców'])]"
     },
     "execution_count": 7,
     "metadata": {},
     "output_type": "execute_result"
    }
   ],
   "source": [
    "list(reverse_vocab.items())[:10]\n"
   ],
   "metadata": {
    "collapsed": false,
    "ExecuteTime": {
     "end_time": "2023-08-29T17:17:45.303222600Z",
     "start_time": "2023-08-29T17:17:45.250584Z"
    }
   },
   "id": "7686fd48fab21426"
  },
  {
   "cell_type": "code",
   "execution_count": 8,
   "outputs": [
    {
     "data": {
      "text/plain": "['dawno']"
     },
     "execution_count": 8,
     "metadata": {},
     "output_type": "execute_result"
    }
   ],
   "source": [
    "reverse_vocab"
   ],
   "metadata": {
    "collapsed": false,
    "ExecuteTime": {
     "end_time": "2023-08-29T17:17:47.555300600Z",
     "start_time": "2023-08-29T17:17:47.540307100Z"
    }
   },
   "id": "6295d6b767d33d01"
  }
 ],
 "metadata": {
  "kernelspec": {
   "display_name": "Python 3",
   "language": "python",
   "name": "python3"
  },
  "language_info": {
   "codemirror_mode": {
    "name": "ipython",
    "version": 2
   },
   "file_extension": ".py",
   "mimetype": "text/x-python",
   "name": "python",
   "nbconvert_exporter": "python",
   "pygments_lexer": "ipython2",
   "version": "2.7.6"
  }
 },
 "nbformat": 4,
 "nbformat_minor": 5
}
