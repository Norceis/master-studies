{
 "cells": [
  {
   "cell_type": "markdown",
   "metadata": {},
   "source": [
    "# Laboratorium 4 (4 pkt.)\n",
    "\n",
    "Celem czwartego laboratorium jest zapoznanie się oraz zaimplementowanie algorytmów głębokiego uczenia aktywnego. Zaimplementowane algorytmy będą testowane z wykorzystaniem wcześniej przygotowanych środowisk: *FrozenLake* i *Pacman* oraz środowiska z OpenAI - *CartPole*.\n"
   ]
  },
  {
   "cell_type": "markdown",
   "metadata": {},
   "source": [
    "Dołączenie standardowych bibliotek"
   ]
  },
  {
   "cell_type": "code",
   "execution_count": 1,
   "metadata": {},
   "outputs": [],
   "source": [
    "from collections import deque\n",
    "import gym\n",
    "import numpy as np\n",
    "from tqdm import tqdm"
   ]
  },
  {
   "cell_type": "markdown",
   "metadata": {},
   "source": [
    "Dołączenie bibliotek ze środowiskami:"
   ]
  },
  {
   "cell_type": "code",
   "execution_count": 2,
   "metadata": {},
   "outputs": [],
   "source": [
    "from env.FrozenLakeMDP import frozenLake\n",
    "from env.FrozenLakeMDPExtended import frozenLake as frozenLakeExtended"
   ]
  },
  {
   "cell_type": "markdown",
   "metadata": {},
   "source": [
    "Dołączenie bibliotek do obsługi sieci neuronowych"
   ]
  },
  {
   "cell_type": "code",
   "execution_count": 3,
   "metadata": {},
   "outputs": [],
   "source": [
    "import tensorflow as tf"
   ]
  },
  {
   "cell_type": "markdown",
   "metadata": {},
   "source": [
    "## Zadanie 1 - Deep Q-Network\n",
    "\n",
    "<p style='text-align: justify;'>\n",
    "Celem ćwiczenie jest zaimplementowanie algorytmu Deep Q-Network. Wartoscią oczekiwaną sieci jest:\n",
    "\\begin{equation}\n",
    "        Q(s_t, a_t) = r_{t+1} + \\gamma \\text{max}_a Q(s_{t + 1}, a)\n",
    "\\end{equation}\n",
    "</p>"
   ]
  },
  {
   "cell_type": "code",
   "execution_count": 4,
   "metadata": {},
   "outputs": [],
   "source": [
    "class DQNAgent:\n",
    "    def __init__(self, action_size, state_size, learning_rate, model):\n",
    "        self.action_size = action_size\n",
    "        self.state_size = state_size\n",
    "        self.memory = deque(maxlen=2000)\n",
    "        self.gamma = 0.95    # discount rate\n",
    "        self.epsilon = 1.0  # exploration rate\n",
    "        self.epsilon_min = 0.01\n",
    "        self.epsilon_decay_diff = 0.04\n",
    "        self.epsilon_decay_dot = 0.99\n",
    "        self.learning_rate = learning_rate\n",
    "        self.model = model\n",
    "\n",
    "    def remember(self, state, action, reward, next_state, done):\n",
    "        #Function adds information to the memory about last action and its results\n",
    "        # if reward or np.random.random() < 0.05:\n",
    "        self.memory.append((state, action, reward, next_state, done))\n",
    "\n",
    "    def get_action(self, state):\n",
    "        \"\"\"\n",
    "        Compute the action to take in the current state, including exploration.\n",
    "        With probability self.epsilon, we should take a random action.\n",
    "            otherwise - the best policy action (self.get_best_action).\n",
    "\n",
    "        Note: To pick randomly from a list, use random.choice(list).\n",
    "              To pick True or False with a given probablity, generate uniform number in [0, 1]\n",
    "              and compare it with your probability\n",
    "        \"\"\"\n",
    "\n",
    "        if np.random.random() < self.epsilon:\n",
    "            return np.random.choice(action_size)\n",
    "\n",
    "        return self.get_best_action(state)\n",
    "\n",
    "    def get_best_action(self, state):\n",
    "        \"\"\"\n",
    "        Compute the best action to take in a state.\n",
    "        \"\"\"\n",
    "\n",
    "        prediction = self.model.predict(state, verbose=0)\n",
    "        best_action = tf.argmax(prediction[0]).numpy()\n",
    "        return best_action\n",
    "\n",
    "    def replay(self, batch_size):\n",
    "        \"\"\"\n",
    "        Function learn network using randomly selected actions from the memory.\n",
    "        First calculates Q value for the next state and choose action with the biggest value.\n",
    "        Target value is calculated according to:\n",
    "                Q(s,a) := (r + gamma * max_a(Q(s', a)))\n",
    "        except the situation when the next action is the last action, in such case Q(s, a) := r.\n",
    "        In order to change only those weights responsible for chosing given action, the rest values should be those\n",
    "        returned by the network for state state.\n",
    "        The network should be trained on batch_size samples.\n",
    "        \"\"\"\n",
    "\n",
    "        sample_idx = np.random.choice(len(self.memory), size=batch_size, replace=False)\n",
    "        batch_list = [self.memory[idx] for idx in sample_idx]\n",
    "\n",
    "        states, actions, rewards, next_states, dones = [np.array(x).reshape((batch_size, state_size if i == 0 or i == 3 else 1)) for i, x in enumerate(zip(*batch_list))]\n",
    "\n",
    "        next_state_preds = np.max(self.model.predict(next_states, verbose=0), axis=1).reshape((batch_size, 1))\n",
    "        targets = np.where(dones, rewards, rewards + self.gamma * next_state_preds)\n",
    "\n",
    "        predictions = self.model.predict(states, verbose=0)\n",
    "        predictions[np.arange(len(actions)), actions[:, 0]] = targets[:, 0]\n",
    "        self.model.fit(states, predictions, verbose=0)\n",
    "\n",
    "    def update_epsilon_value(self):\n",
    "        if self.epsilon > self.epsilon_min:\n",
    "            self.epsilon -= self.epsilon_decay_diff\n",
    "        else:\n",
    "            self.epsilon = self.epsilon_min"
   ]
  },
  {
   "cell_type": "markdown",
   "metadata": {},
   "source": [
    "Czas przygotować model sieci, która będzie się uczyła poruszania po środowisku *FrozenLake*, warstwa wejściowa powinna mieć tyle neuronów ile jest możlliwych stanów, warstwa wyjściowa tyle neuronów ile jest możliwych akcji do wykonania:"
   ]
  },
  {
   "cell_type": "code",
   "execution_count": 5,
   "metadata": {},
   "outputs": [
    {
     "name": "stdout",
     "output_type": "stream",
     "text": [
      "Model: \"sequential\"\n",
      "_________________________________________________________________\n",
      " Layer (type)                Output Shape              Param #   \n",
      "=================================================================\n",
      " dense (Dense)               (None, 32)                2080      \n",
      "                                                                 \n",
      " dense_1 (Dense)             (None, 32)                1056      \n",
      "                                                                 \n",
      " dense_2 (Dense)             (None, 4)                 132       \n",
      "                                                                 \n",
      "=================================================================\n",
      "Total params: 3,268\n",
      "Trainable params: 3,268\n",
      "Non-trainable params: 0\n",
      "_________________________________________________________________\n"
     ]
    }
   ],
   "source": [
    "env = frozenLake(\"8x8\")\n",
    "state_size = env.get_number_of_states()\n",
    "action_size = len(env.get_possible_actions(None))\n",
    "learning_rate = 0.001\n",
    "\n",
    "model = tf.keras.Sequential()\n",
    "model.add(tf.keras.layers.Dense(32, input_shape=(state_size,), activation='relu'))\n",
    "model.add(tf.keras.layers.Dense(32, activation='relu'))\n",
    "model.add(tf.keras.layers.Dense(action_size, activation='linear'))\n",
    "model.compile(loss=tf.keras.losses.mse, optimizer=tf.keras.optimizers.Adam(learning_rate=learning_rate), metrics=['accuracy'])#, run_eagerly=True)\n",
    "model.summary()"
   ]
  },
  {
   "cell_type": "markdown",
   "metadata": {},
   "source": [
    " Czas nauczyć agenta poruszania się po środowisku *FrozenLake*, jako stan przyjmij wektor o liczbie elementów równej liczbie możliwych stanów, z wartością 1 ustawioną w komórce o indeksie równym aktualnemu stanowi, pozostałe elementy mają być wypełnione zerami:\n",
    "* 1 pkt < 35 epok,\n",
    "* 0.5 pkt < 60 epok,\n",
    "* 0.25 pkt - w pozostałych przypadkach."
   ]
  },
  {
   "cell_type": "code",
   "execution_count": 6,
   "metadata": {},
   "outputs": [
    {
     "name": "stdout",
     "output_type": "stream",
     "text": [
      "epoch #0\tmean reward = 0.000\tepsilon = 0.975\n",
      "epoch #1\tmean reward = 0.000\tepsilon = 0.950\n",
      "epoch #2\tmean reward = 0.010\tepsilon = 0.925\n",
      "epoch #3\tmean reward = 0.010\tepsilon = 0.900\n",
      "epoch #4\tmean reward = 0.010\tepsilon = 0.875\n",
      "epoch #5\tmean reward = 0.020\tepsilon = 0.850\n",
      "epoch #6\tmean reward = 0.020\tepsilon = 0.825\n",
      "epoch #7\tmean reward = 0.020\tepsilon = 0.800\n",
      "epoch #8\tmean reward = 0.060\tepsilon = 0.775\n",
      "epoch #9\tmean reward = 0.030\tepsilon = 0.750\n",
      "epoch #10\tmean reward = 0.110\tepsilon = 0.725\n",
      "epoch #11\tmean reward = 0.080\tepsilon = 0.700\n",
      "epoch #12\tmean reward = 0.100\tepsilon = 0.675\n",
      "epoch #13\tmean reward = 0.090\tepsilon = 0.650\n",
      "epoch #14\tmean reward = 0.030\tepsilon = 0.625\n",
      "epoch #15\tmean reward = 0.000\tepsilon = 0.600\n",
      "epoch #16\tmean reward = 0.050\tepsilon = 0.575\n",
      "epoch #17\tmean reward = 0.120\tepsilon = 0.550\n",
      "epoch #18\tmean reward = 0.050\tepsilon = 0.525\n",
      "epoch #19\tmean reward = 0.270\tepsilon = 0.500\n",
      "epoch #20\tmean reward = 0.050\tepsilon = 0.475\n",
      "epoch #21\tmean reward = 0.150\tepsilon = 0.450\n",
      "epoch #22\tmean reward = 0.190\tepsilon = 0.425\n",
      "epoch #23\tmean reward = 0.240\tepsilon = 0.400\n",
      "epoch #24\tmean reward = 0.350\tepsilon = 0.375\n",
      "epoch #25\tmean reward = 0.430\tepsilon = 0.350\n",
      "epoch #26\tmean reward = 0.470\tepsilon = 0.325\n",
      "epoch #27\tmean reward = 0.500\tepsilon = 0.300\n",
      "epoch #28\tmean reward = 0.520\tepsilon = 0.275\n",
      "epoch #29\tmean reward = 0.650\tepsilon = 0.250\n",
      "epoch #30\tmean reward = 0.560\tepsilon = 0.225\n",
      "epoch #31\tmean reward = 0.550\tepsilon = 0.200\n",
      "epoch #32\tmean reward = 0.740\tepsilon = 0.175\n",
      "epoch #33\tmean reward = 0.730\tepsilon = 0.150\n",
      "epoch #34\tmean reward = 0.740\tepsilon = 0.125\n",
      "epoch #35\tmean reward = 0.830\tepsilon = 0.100\n",
      "epoch #36\tmean reward = 0.840\tepsilon = 0.075\n",
      "epoch #37\tmean reward = 0.780\tepsilon = 0.050\n",
      "epoch #38\tmean reward = 0.900\tepsilon = 0.025\n",
      "epoch #39\tmean reward = 0.990\tepsilon = -0.000\n",
      "You Win!\n"
     ]
    }
   ],
   "source": [
    "agent = DQNAgent(action_size, state_size, learning_rate, model)\n",
    "\n",
    "# agent.model.load_weights('test')\n",
    "\n",
    "agent.epsilon = 1\n",
    "agent.epsilon_decay_diff = 0.025\n",
    "# agent.epsilon_decay_dot = 0.98\n",
    "agent.gamma = 0.95\n",
    "batch_size = 64\n",
    "EPISODES = 1000\n",
    "for e in range(EPISODES):\n",
    "    summary = []\n",
    "    # pbar = tqdm(range(1000))\n",
    "    for _ in range(100):\n",
    "        total_reward = 0\n",
    "        env_state = env.reset()\n",
    "        state = np.zeros((1, state_size))\n",
    "        state[0, env_state] = 1\n",
    "        state = tf.convert_to_tensor(state, dtype=tf.float32)\n",
    "\n",
    "        while True:\n",
    "            action = agent.get_action(state)\n",
    "            next_state_env, reward, done, _ = env.step(action)\n",
    "            total_reward += reward\n",
    "            next_state = np.zeros((1, state_size))\n",
    "            next_state[0, next_state_env] = 1\n",
    "            next_state = tf.convert_to_tensor(next_state, dtype=tf.float32)\n",
    "\n",
    "            agent.remember(state, action, reward, next_state, done)\n",
    "            state = next_state\n",
    "            if done:\n",
    "                break\n",
    "\n",
    "        if len(agent.memory) > batch_size:\n",
    "            agent.replay(batch_size)\n",
    "\n",
    "        summary.append(total_reward)\n",
    "        # pbar.set_description(f'training epoch')\n",
    "\n",
    "    agent.update_epsilon_value()\n",
    "    print(\"epoch #{}\\tmean reward = {:.3f}\\tepsilon = {:.3f}\".format(e, np.mean(summary), agent.epsilon))\n",
    "    agent.model.save_weights('test')\n",
    "    if np.mean(summary) > 0.9:\n",
    "        print (\"You Win!\")\n",
    "        break"
   ]
  },
  {
   "cell_type": "markdown",
   "metadata": {},
   "source": [
    "Czas przygotować model sieci, która będzie się uczyła poruszania po środowisku *FrozenLakeExtended*, tym razem stan nie jest określany poprzez pojedynczą liczbę, a przez 3 tablice:\n",
    "* pierwsza zawierająca informacje o celu,\n",
    "* druga zawierająca informacje o dziurach,\n",
    "* trzecia zawierająca informację o położeniu gracza."
   ]
  },
  {
   "cell_type": "code",
   "execution_count": 31,
   "metadata": {},
   "outputs": [
    {
     "name": "stdout",
     "output_type": "stream",
     "text": [
      "Model: \"sequential_6\"\n",
      "_________________________________________________________________\n",
      " Layer (type)                Output Shape              Param #   \n",
      "=================================================================\n",
      " dense_24 (Dense)            (None, 32)                1568      \n",
      "                                                                 \n",
      " dense_25 (Dense)            (None, 64)                2112      \n",
      "                                                                 \n",
      " dense_26 (Dense)            (None, 32)                2080      \n",
      "                                                                 \n",
      " dense_27 (Dense)            (None, 4)                 132       \n",
      "                                                                 \n",
      "=================================================================\n",
      "Total params: 5,892\n",
      "Trainable params: 5,892\n",
      "Non-trainable params: 0\n",
      "_________________________________________________________________\n"
     ]
    }
   ],
   "source": [
    "env = frozenLakeExtended(\"4x4\")\n",
    "\n",
    "state_size = env.get_number_of_states()\n",
    "action_size = len(env.get_possible_actions(None))\n",
    "learning_rate = 0.001\n",
    "\n",
    "model = tf.keras.Sequential()\n",
    "model.add(tf.keras.layers.Dense(32, input_shape=(3 * state_size,), activation='relu'))\n",
    "model.add(tf.keras.layers.Dense(64, activation='relu'))\n",
    "model.add(tf.keras.layers.Dense(32, activation='relu'))\n",
    "model.add(tf.keras.layers.Dense(action_size, activation='linear'))\n",
    "model.compile(loss=tf.keras.losses.mse, optimizer=tf.keras.optimizers.Adam(learning_rate=learning_rate), metrics=['accuracy'])#, run_eagerly=True)\n",
    "model.summary()"
   ]
  },
  {
   "cell_type": "markdown",
   "metadata": {},
   "source": [
    " Czas nauczyć agenta poruszania się po środowisku *FrozenLakeExtended*, jako stan przyjmij wektor składający się ze wszystkich trzech tablic (2 pkt.):"
   ]
  },
  {
   "cell_type": "code",
   "execution_count": 32,
   "outputs": [],
   "source": [
    "class DQNAgent:\n",
    "    def __init__(self, action_size, state_size, learning_rate, model):\n",
    "        self.action_size = action_size\n",
    "        self.state_size = state_size\n",
    "        self.memory = deque(maxlen=2000)\n",
    "        self.gamma = 0.95    # discount rate\n",
    "        self.epsilon = 1.0  # exploration rate\n",
    "        self.epsilon_min = 0.01\n",
    "        self.epsilon_decay_diff = 0.04\n",
    "        self.epsilon_decay_dot = 0.99\n",
    "        self.learning_rate = learning_rate\n",
    "        self.model = model\n",
    "\n",
    "    def remember(self, state, action, reward, next_state, done):\n",
    "        #Function adds information to the memory about last action and its results\n",
    "        # if reward or np.random.random() < 0.05:\n",
    "        self.memory.append((state, action, reward, next_state, done))\n",
    "\n",
    "    def get_action(self, state):\n",
    "        \"\"\"\n",
    "        Compute the action to take in the current state, including exploration.\n",
    "        With probability self.epsilon, we should take a random action.\n",
    "            otherwise - the best policy action (self.get_best_action).\n",
    "\n",
    "        Note: To pick randomly from a list, use random.choice(list).\n",
    "              To pick True or False with a given probablity, generate uniform number in [0, 1]\n",
    "              and compare it with your probability\n",
    "        \"\"\"\n",
    "\n",
    "        if np.random.random() < self.epsilon:\n",
    "            return np.random.choice(action_size)\n",
    "\n",
    "        return self.get_best_action(state)\n",
    "\n",
    "    def get_best_action(self, state):\n",
    "        \"\"\"\n",
    "        Compute the best action to take in a state.\n",
    "        \"\"\"\n",
    "\n",
    "        prediction = self.model.predict(state, verbose=0)\n",
    "        best_action = tf.argmax(prediction[0]).numpy()\n",
    "        return best_action\n",
    "\n",
    "    def replay(self, batch_size):\n",
    "        \"\"\"\n",
    "        Function learn network using randomly selected actions from the memory.\n",
    "        First calculates Q value for the next state and choose action with the biggest value.\n",
    "        Target value is calculated according to:\n",
    "                Q(s,a) := (r + gamma * max_a(Q(s', a)))\n",
    "        except the situation when the next action is the last action, in such case Q(s, a) := r.\n",
    "        In order to change only those weights responsible for chosing given action, the rest values should be those\n",
    "        returned by the network for state state.\n",
    "        The network should be trained on batch_size samples.\n",
    "        \"\"\"\n",
    "\n",
    "        sample_idx = np.random.choice(len(self.memory), size=batch_size, replace=False)\n",
    "        batch_list = [self.memory[idx] for idx in sample_idx]\n",
    "\n",
    "        states, actions, rewards, next_states, dones = [np.array(x).reshape((batch_size, 48 if i == 0 or i == 3 else 1)) for i, x in enumerate(zip(*batch_list))]\n",
    "\n",
    "        next_state_preds = np.max(self.model.predict(next_states, verbose=0), axis=1).reshape((batch_size, 1))\n",
    "        targets = np.where(dones, rewards, rewards + self.gamma * next_state_preds)\n",
    "\n",
    "        predictions = self.model.predict(states, verbose=0)\n",
    "        predictions[np.arange(len(actions)), actions[:, 0]] = targets[:, 0]\n",
    "        self.model.fit(states, predictions, verbose=0)\n",
    "\n",
    "    def update_epsilon_value(self):\n",
    "        if self.epsilon > self.epsilon_min:\n",
    "            self.epsilon -= self.epsilon_decay_diff\n",
    "        else:\n",
    "            self.epsilon = self.epsilon_min"
   ],
   "metadata": {
    "collapsed": false
   }
  },
  {
   "cell_type": "code",
   "execution_count": 33,
   "metadata": {},
   "outputs": [
    {
     "name": "stderr",
     "output_type": "stream",
     "text": [
      "training epoch: 100%|██████████| 100/100 [00:26<00:00,  3.78it/s]\n"
     ]
    },
    {
     "name": "stdout",
     "output_type": "stream",
     "text": [
      "epoch #0\tmean reward = 0.010\tepsilon = 0.760\n"
     ]
    },
    {
     "name": "stderr",
     "output_type": "stream",
     "text": [
      "training epoch: 100%|██████████| 100/100 [00:28<00:00,  3.57it/s]\n"
     ]
    },
    {
     "name": "stdout",
     "output_type": "stream",
     "text": [
      "epoch #1\tmean reward = 0.100\tepsilon = 0.720\n"
     ]
    },
    {
     "name": "stderr",
     "output_type": "stream",
     "text": [
      "training epoch: 100%|██████████| 100/100 [00:28<00:00,  3.49it/s]\n"
     ]
    },
    {
     "name": "stdout",
     "output_type": "stream",
     "text": [
      "epoch #2\tmean reward = 0.080\tepsilon = 0.680\n"
     ]
    },
    {
     "name": "stderr",
     "output_type": "stream",
     "text": [
      "training epoch: 100%|██████████| 100/100 [00:29<00:00,  3.42it/s]\n"
     ]
    },
    {
     "name": "stdout",
     "output_type": "stream",
     "text": [
      "epoch #3\tmean reward = 0.260\tepsilon = 0.640\n"
     ]
    },
    {
     "name": "stderr",
     "output_type": "stream",
     "text": [
      "training epoch: 100%|██████████| 100/100 [00:30<00:00,  3.23it/s]\n"
     ]
    },
    {
     "name": "stdout",
     "output_type": "stream",
     "text": [
      "epoch #4\tmean reward = 0.200\tepsilon = 0.600\n"
     ]
    },
    {
     "name": "stderr",
     "output_type": "stream",
     "text": [
      "training epoch: 100%|██████████| 100/100 [00:34<00:00,  2.86it/s]\n"
     ]
    },
    {
     "name": "stdout",
     "output_type": "stream",
     "text": [
      "epoch #5\tmean reward = 0.250\tepsilon = 0.560\n"
     ]
    },
    {
     "name": "stderr",
     "output_type": "stream",
     "text": [
      "training epoch: 100%|██████████| 100/100 [00:37<00:00,  2.70it/s]\n"
     ]
    },
    {
     "name": "stdout",
     "output_type": "stream",
     "text": [
      "epoch #6\tmean reward = 0.260\tepsilon = 0.520\n"
     ]
    },
    {
     "name": "stderr",
     "output_type": "stream",
     "text": [
      "training epoch: 100%|██████████| 100/100 [00:38<00:00,  2.57it/s]\n"
     ]
    },
    {
     "name": "stdout",
     "output_type": "stream",
     "text": [
      "epoch #7\tmean reward = 0.280\tepsilon = 0.480\n"
     ]
    },
    {
     "name": "stderr",
     "output_type": "stream",
     "text": [
      "training epoch: 100%|██████████| 100/100 [00:41<00:00,  2.44it/s]\n"
     ]
    },
    {
     "name": "stdout",
     "output_type": "stream",
     "text": [
      "epoch #8\tmean reward = 0.400\tepsilon = 0.440\n"
     ]
    },
    {
     "name": "stderr",
     "output_type": "stream",
     "text": [
      "training epoch: 100%|██████████| 100/100 [00:39<00:00,  2.53it/s]\n"
     ]
    },
    {
     "name": "stdout",
     "output_type": "stream",
     "text": [
      "epoch #9\tmean reward = 0.450\tepsilon = 0.400\n"
     ]
    },
    {
     "name": "stderr",
     "output_type": "stream",
     "text": [
      "training epoch: 100%|██████████| 100/100 [00:39<00:00,  2.51it/s]\n"
     ]
    },
    {
     "name": "stdout",
     "output_type": "stream",
     "text": [
      "epoch #10\tmean reward = 0.550\tepsilon = 0.360\n"
     ]
    },
    {
     "name": "stderr",
     "output_type": "stream",
     "text": [
      "training epoch: 100%|██████████| 100/100 [00:49<00:00,  2.04it/s]\n"
     ]
    },
    {
     "name": "stdout",
     "output_type": "stream",
     "text": [
      "epoch #11\tmean reward = 0.620\tepsilon = 0.320\n"
     ]
    },
    {
     "name": "stderr",
     "output_type": "stream",
     "text": [
      "training epoch: 100%|██████████| 100/100 [00:47<00:00,  2.11it/s]\n"
     ]
    },
    {
     "name": "stdout",
     "output_type": "stream",
     "text": [
      "epoch #12\tmean reward = 0.620\tepsilon = 0.280\n"
     ]
    },
    {
     "name": "stderr",
     "output_type": "stream",
     "text": [
      "training epoch: 100%|██████████| 100/100 [00:44<00:00,  2.24it/s]\n"
     ]
    },
    {
     "name": "stdout",
     "output_type": "stream",
     "text": [
      "epoch #13\tmean reward = 0.690\tepsilon = 0.240\n"
     ]
    },
    {
     "name": "stderr",
     "output_type": "stream",
     "text": [
      "training epoch: 100%|██████████| 100/100 [00:50<00:00,  1.99it/s]\n"
     ]
    },
    {
     "name": "stdout",
     "output_type": "stream",
     "text": [
      "epoch #14\tmean reward = 0.650\tepsilon = 0.200\n"
     ]
    },
    {
     "name": "stderr",
     "output_type": "stream",
     "text": [
      "training epoch: 100%|██████████| 100/100 [00:47<00:00,  2.13it/s]\n"
     ]
    },
    {
     "name": "stdout",
     "output_type": "stream",
     "text": [
      "epoch #15\tmean reward = 0.720\tepsilon = 0.160\n"
     ]
    },
    {
     "name": "stderr",
     "output_type": "stream",
     "text": [
      "training epoch: 100%|██████████| 100/100 [00:48<00:00,  2.08it/s]\n"
     ]
    },
    {
     "name": "stdout",
     "output_type": "stream",
     "text": [
      "epoch #16\tmean reward = 0.820\tepsilon = 0.120\n"
     ]
    },
    {
     "name": "stderr",
     "output_type": "stream",
     "text": [
      "training epoch: 100%|██████████| 100/100 [00:47<00:00,  2.10it/s]\n"
     ]
    },
    {
     "name": "stdout",
     "output_type": "stream",
     "text": [
      "epoch #17\tmean reward = 0.890\tepsilon = 0.080\n"
     ]
    },
    {
     "name": "stderr",
     "output_type": "stream",
     "text": [
      "training epoch: 100%|██████████| 100/100 [00:58<00:00,  1.72it/s]\n"
     ]
    },
    {
     "name": "stdout",
     "output_type": "stream",
     "text": [
      "epoch #18\tmean reward = 0.890\tepsilon = 0.040\n"
     ]
    },
    {
     "name": "stderr",
     "output_type": "stream",
     "text": [
      "training epoch: 100%|██████████| 100/100 [00:48<00:00,  2.08it/s]\n"
     ]
    },
    {
     "name": "stdout",
     "output_type": "stream",
     "text": [
      "epoch #19\tmean reward = 0.950\tepsilon = -0.000\n",
      "You Win!\n"
     ]
    }
   ],
   "source": [
    "agent = DQNAgent(action_size, state_size, learning_rate, model)\n",
    "\n",
    "agent.epsilon = 0.8\n",
    "\n",
    "batch_size = 64\n",
    "EPISODES = 2000\n",
    "for e in range(EPISODES):\n",
    "    summary = []\n",
    "    pbar = tqdm(range(100))\n",
    "    for _ in pbar:\n",
    "        total_reward = 0\n",
    "        env_state = np.array(env.reset()).reshape(-1)\n",
    "\n",
    "        state = tf.convert_to_tensor(env_state[np.newaxis, :], dtype=tf.float32)\n",
    "\n",
    "        while True:\n",
    "            action = agent.get_action(state)\n",
    "            next_state_env, reward, done, _ = env.step(action)\n",
    "            total_reward += reward\n",
    "            next_state = tf.convert_to_tensor(np.array(next_state_env).reshape(-1)[np.newaxis, :], dtype=tf.float32)\n",
    "            agent.remember(state, action, reward, next_state, done)\n",
    "            state = next_state\n",
    "            if done:\n",
    "                break\n",
    "\n",
    "        if len(agent.memory) > batch_size:\n",
    "            agent.replay(batch_size)\n",
    "\n",
    "        summary.append(total_reward)\n",
    "        pbar.set_description(f'training epoch')\n",
    "\n",
    "    agent.update_epsilon_value()\n",
    "    print(\"epoch #{}\\tmean reward = {:.3f}\\tepsilon = {:.3f}\".format(e, np.mean(summary), agent.epsilon))\n",
    "    agent.model.save_weights('test')\n",
    "    if np.mean(summary) > 0.9:\n",
    "        print (\"You Win!\")\n",
    "        break"
   ]
  },
  {
   "cell_type": "markdown",
   "metadata": {},
   "source": [
    "Czas przygotować model sieci, która będzie się uczyła działania w środowisku [*CartPool*](https://gym.openai.com/envs/CartPole-v0/):"
   ]
  },
  {
   "cell_type": "code",
   "execution_count": 4,
   "outputs": [],
   "source": [
    "class DQNAgent:\n",
    "    def __init__(self, action_size, state_size, learning_rate, model):\n",
    "        self.action_size = action_size\n",
    "        self.state_size = state_size\n",
    "        self.memory = deque(maxlen=2000)\n",
    "        self.gamma = 0.95    # discount rate\n",
    "        self.epsilon = 1.0  # exploration rate\n",
    "        self.epsilon_min = 0.01\n",
    "        self.epsilon_decay_diff = 0.04\n",
    "        self.epsilon_decay_dot = 0.99\n",
    "        self.learning_rate = learning_rate\n",
    "        self.model = model\n",
    "\n",
    "    def remember(self, state, action, reward, next_state, done):\n",
    "        #Function adds information to the memory about last action and its results\n",
    "        # if reward or np.random.random() < 0.05:\n",
    "        self.memory.append((state, action, reward, next_state, done))\n",
    "\n",
    "    def get_action(self, state):\n",
    "        \"\"\"\n",
    "        Compute the action to take in the current state, including exploration.\n",
    "        With probability self.epsilon, we should take a random action.\n",
    "            otherwise - the best policy action (self.get_best_action).\n",
    "\n",
    "        Note: To pick randomly from a list, use random.choice(list).\n",
    "              To pick True or False with a given probablity, generate uniform number in [0, 1]\n",
    "              and compare it with your probability\n",
    "        \"\"\"\n",
    "\n",
    "        if np.random.random() < self.epsilon:\n",
    "            return np.random.choice(action_size)\n",
    "\n",
    "        return self.get_best_action(state)\n",
    "\n",
    "    def get_best_action(self, state):\n",
    "        \"\"\"\n",
    "        Compute the best action to take in a state.\n",
    "        \"\"\"\n",
    "\n",
    "        prediction = self.model.predict(state, verbose=0)\n",
    "        best_action = tf.argmax(prediction[0]).numpy()\n",
    "        return best_action\n",
    "\n",
    "    def replay(self, batch_size):\n",
    "        \"\"\"\n",
    "        Function learn network using randomly selected actions from the memory.\n",
    "        First calculates Q value for the next state and choose action with the biggest value.\n",
    "        Target value is calculated according to:\n",
    "                Q(s,a) := (r + gamma * max_a(Q(s', a)))\n",
    "        except the situation when the next action is the last action, in such case Q(s, a) := r.\n",
    "        In order to change only those weights responsible for chosing given action, the rest values should be those\n",
    "        returned by the network for state state.\n",
    "        The network should be trained on batch_size samples.\n",
    "        \"\"\"\n",
    "\n",
    "        sample_idx = np.random.choice(len(self.memory), size=batch_size, replace=False)\n",
    "        batch_list = [self.memory[idx] for idx in sample_idx]\n",
    "\n",
    "        states, actions, rewards, next_states, dones = [np.array(x).reshape((batch_size, 4 if i == 0 or i == 3 else 1)) for i, x in enumerate(zip(*batch_list))]\n",
    "\n",
    "        next_state_preds = np.max(self.model.predict(next_states, verbose=0), axis=1).reshape((batch_size, 1))\n",
    "        targets = np.where(dones, rewards, rewards + self.gamma * next_state_preds)\n",
    "\n",
    "        predictions = self.model.predict(states, verbose=0)\n",
    "        predictions[np.arange(len(actions)), actions[:, 0]] = targets[:, 0]\n",
    "        self.model.fit(states, predictions, verbose=0)\n",
    "\n",
    "    def update_epsilon_value(self):\n",
    "        if self.epsilon > self.epsilon_min:\n",
    "            self.epsilon -= self.epsilon_decay_diff\n",
    "        else:\n",
    "            self.epsilon = self.epsilon_min"
   ],
   "metadata": {
    "collapsed": false
   }
  },
  {
   "cell_type": "code",
   "execution_count": 5,
   "metadata": {},
   "outputs": [
    {
     "name": "stdout",
     "output_type": "stream",
     "text": [
      "Model: \"sequential\"\n",
      "_________________________________________________________________\n",
      " Layer (type)                Output Shape              Param #   \n",
      "=================================================================\n",
      " dense (Dense)               (None, 32)                160       \n",
      "                                                                 \n",
      " dense_1 (Dense)             (None, 64)                2112      \n",
      "                                                                 \n",
      " dense_2 (Dense)             (None, 2)                 130       \n",
      "                                                                 \n",
      "=================================================================\n",
      "Total params: 2,402\n",
      "Trainable params: 2,402\n",
      "Non-trainable params: 0\n",
      "_________________________________________________________________\n"
     ]
    }
   ],
   "source": [
    "env = gym.make(\"CartPole-v1\").env\n",
    "state_size = env.observation_space.shape[0]\n",
    "action_size = env.action_space.n\n",
    "learning_rate = 0.001\n",
    "\n",
    "model = tf.keras.Sequential()\n",
    "model.add(tf.keras.layers.Dense(32, input_shape=(state_size,), activation='relu'))\n",
    "model.add(tf.keras.layers.Dense(64, activation='relu'))\n",
    "model.add(tf.keras.layers.Dense(action_size, activation='linear'))\n",
    "model.compile(loss=tf.keras.losses.mse, optimizer=tf.keras.optimizers.Adam(learning_rate=learning_rate), metrics=['accuracy'])#, run_eagerly=True)\n",
    "model.summary()"
   ]
  },
  {
   "cell_type": "markdown",
   "metadata": {},
   "source": [
    "Czas nauczyć agenta gry w środowisku *CartPool*:\n",
    "* 1 pkt < 10 epok,\n",
    "* 0.5 pkt < 20 epok,\n",
    "* 0.25 pkt - w pozostałych przypadkach."
   ]
  },
  {
   "cell_type": "code",
   "execution_count": 6,
   "metadata": {},
   "outputs": [
    {
     "name": "stderr",
     "output_type": "stream",
     "text": [
      "  0%|          | 0/100 [00:00<?, ?it/s]C:\\Users\\student\\PycharmProjects\\JK\\venv\\lib\\site-packages\\gym\\utils\\passive_env_checker.py:233: DeprecationWarning: `np.bool8` is a deprecated alias for `np.bool_`.  (Deprecated NumPy 1.24)\n",
      "  if not isinstance(terminated, (bool, np.bool8)):\n",
      "training epoch: 100%|██████████| 100/100 [00:44<00:00,  2.27it/s]\n"
     ]
    },
    {
     "name": "stdout",
     "output_type": "stream",
     "text": [
      "epoch #0\tmean reward = 13.100\tepsilon = 0.450\n"
     ]
    },
    {
     "name": "stderr",
     "output_type": "stream",
     "text": [
      "training epoch: 100%|██████████| 100/100 [02:00<00:00,  1.20s/it]\n"
     ]
    },
    {
     "name": "stdout",
     "output_type": "stream",
     "text": [
      "epoch #1\tmean reward = 39.300\tepsilon = 0.400\n"
     ]
    },
    {
     "name": "stderr",
     "output_type": "stream",
     "text": [
      "training epoch: 100%|██████████| 100/100 [02:36<00:00,  1.56s/it]\n"
     ]
    },
    {
     "name": "stdout",
     "output_type": "stream",
     "text": [
      "epoch #2\tmean reward = 48.200\tepsilon = 0.350\n"
     ]
    },
    {
     "name": "stderr",
     "output_type": "stream",
     "text": [
      "training epoch: 100%|██████████| 100/100 [04:11<00:00,  2.51s/it]\n"
     ]
    },
    {
     "name": "stdout",
     "output_type": "stream",
     "text": [
      "epoch #3\tmean reward = 71.900\tepsilon = 0.300\n"
     ]
    },
    {
     "name": "stderr",
     "output_type": "stream",
     "text": [
      "training epoch: 100%|██████████| 100/100 [08:22<00:00,  5.02s/it]\n"
     ]
    },
    {
     "name": "stdout",
     "output_type": "stream",
     "text": [
      "epoch #4\tmean reward = 142.420\tepsilon = 0.250\n"
     ]
    },
    {
     "name": "stderr",
     "output_type": "stream",
     "text": [
      "training epoch: 100%|██████████| 100/100 [11:33<00:00,  6.93s/it]\n"
     ]
    },
    {
     "name": "stdout",
     "output_type": "stream",
     "text": [
      "epoch #5\tmean reward = 185.900\tepsilon = 0.200\n"
     ]
    },
    {
     "name": "stderr",
     "output_type": "stream",
     "text": [
      "training epoch: 100%|██████████| 100/100 [17:03<00:00, 10.24s/it]\n"
     ]
    },
    {
     "name": "stdout",
     "output_type": "stream",
     "text": [
      "epoch #6\tmean reward = 272.810\tepsilon = 0.150\n",
      "You Win!\n"
     ]
    }
   ],
   "source": [
    "agent = DQNAgent(action_size, state_size, learning_rate, model)\n",
    "\n",
    "agent.epsilon = 0.5\n",
    "agent.epsilon_decay_diff = 0.05\n",
    "batch_size = 128\n",
    "EPISODES = 1000\n",
    "for e in range(EPISODES):\n",
    "    summary = []\n",
    "    pbar = tqdm(range(100))\n",
    "    for _ in pbar:\n",
    "        total_reward = 0\n",
    "        env_state = env.reset()[0]\n",
    "        state = tf.convert_to_tensor(env_state[np.newaxis, :], dtype=tf.float32)\n",
    "\n",
    "        for time in range(300):\n",
    "            action = agent.get_action(state)\n",
    "            next_state_env, reward, done, _, _ = env.step(action)\n",
    "            total_reward += reward\n",
    "            next_state = tf.convert_to_tensor(next_state_env[np.newaxis, :], dtype=tf.float32)\n",
    "            agent.remember(state, action, reward, next_state, done)\n",
    "            state = next_state\n",
    "            if done:\n",
    "                break\n",
    "\n",
    "        if len(agent.memory) > batch_size:\n",
    "            agent.replay(batch_size)\n",
    "\n",
    "        summary.append(total_reward)\n",
    "        pbar.set_description(f'training epoch')\n",
    "\n",
    "    agent.update_epsilon_value()\n",
    "    print(\"epoch #{}\\tmean reward = {:.3f}\\tepsilon = {:.3f}\".format(e, np.mean(summary), agent.epsilon))\n",
    "    agent.model.save_weights('test')\n",
    "    if np.mean(summary) > 195:\n",
    "        print (\"You Win!\")\n",
    "        break"
   ]
  },
  {
   "cell_type": "code",
   "execution_count": null,
   "outputs": [],
   "source": [],
   "metadata": {
    "collapsed": false
   }
  }
 ],
 "metadata": {
  "kernelspec": {
   "display_name": "Python 3",
   "language": "python",
   "name": "python3"
  },
  "language_info": {
   "codemirror_mode": {
    "name": "ipython",
    "version": 3
   },
   "file_extension": ".py",
   "mimetype": "text/x-python",
   "name": "python",
   "nbconvert_exporter": "python",
   "pygments_lexer": "ipython3",
   "version": "3.7.5"
  }
 },
 "nbformat": 4,
 "nbformat_minor": 4
}
