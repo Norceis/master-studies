{
 "cells": [
  {
   "cell_type": "markdown",
   "metadata": {},
   "source": [
    "# Laboratorium 1 (1 pkt)\n",
    "\n",
    "Celem pierwszego laboratorium jest zapoznanie się oraz zaimplementowanie algorytmów uczenia pasywnego. Zaimplementowane algorytmy będą testowane z wykorzystaniem wcześniej przygotowanego środowiska przedstawionego na schemacie poniżej:\n",
    "![MDP, Markov Decision Process](assets/images/mdp.png)"
   ]
  },
  {
   "cell_type": "markdown",
   "metadata": {},
   "source": [
    "Dołączenie biblioteki ze środowiskiem"
   ]
  },
  {
   "cell_type": "code",
   "execution_count": 19,
   "metadata": {},
   "outputs": [],
   "source": [
    "from env.simpleMDP import simpleMDP\n",
    "import numpy as np"
   ]
  },
  {
   "cell_type": "markdown",
   "metadata": {},
   "source": [
    "Zapoznanie się z przygotowanym środowiskiem"
   ]
  },
  {
   "cell_type": "code",
   "execution_count": 20,
   "metadata": {},
   "outputs": [
    {
     "name": "stdout",
     "output_type": "stream",
     "text": [
      "['s0', 's1', 's2']\n",
      "State: s0 action: a0 list of possible next states:  {'s0': 0.5, 's2': 0.5}\n",
      "State: s0 action: a1 list of possible next states:  {'s2': 1}\n",
      "State: s1 action: a0 list of possible next states:  {'s0': 0.7, 's1': 0.1, 's2': 0.2}\n",
      "State: s1 action: a1 list of possible next states:  {'s1': 0.95, 's2': 0.05}\n",
      "State: s2 action: a0 list of possible next states:  {'s0': 0.4, 's2': 0.6}\n",
      "State: s2 action: a1 list of possible next states:  {'s0': 0.3, 's1': 0.3, 's2': 0.4}\n"
     ]
    }
   ],
   "source": [
    "mdp = simpleMDP()\n",
    "\n",
    "states = mdp.get_all_states()\n",
    "print(states)\n",
    "\n",
    "for s in states:\n",
    "    actions = mdp.get_possible_actions(s)\n",
    "    for a in actions:\n",
    "        next_states = mdp.get_next_states(s, a)\n",
    "        print(\"State: \" + s + \" action: \" + a + \" \" + \"list of possible next states: \", next_states)\n"
   ]
  },
  {
   "cell_type": "markdown",
   "metadata": {},
   "source": [
    "## Zadanie 1 - Ocena strategii (*Policy evaluation*) (0.3 pkt)\n",
    "\n",
    "<p style='text-align: justify;'>\n",
    "Celem ćwiczenie jest zaimplementowanie algorytmu oceny strategii. Algorytm wyznacza funkcję oceny (wartości) strategii wykorzystując równanie Bellmana. Odbywa się to w sposób iteracyjny zgodnie ze wzorem:\n",
    "\\begin{equation}\n",
    "\t        V_{k + 1}(s) = \\sum_a \\pi(a | s) \\sum_{s'} \\sum_r p(s', r|s, a)[r + \\gamma V_k(s')]\n",
    "\\end{equation}\n",
    "</p>"
   ]
  },
  {
   "cell_type": "markdown",
   "metadata": {},
   "source": [
    "Pierwszym krokiem jest zainicjalizowanie strategii, która będzie podlegała ocenie. W tym zadaniu ocenie będzie podlegała strategia stochastyczna, w której będzie prawdopodobieństwo wyboru każdej z możliwych opcji będzie takie samo."
   ]
  },
  {
   "cell_type": "code",
   "execution_count": 21,
   "metadata": {},
   "outputs": [
    {
     "name": "stdout",
     "output_type": "stream",
     "text": [
      "[{'a0': 0.5, 'a1': 0.5}, {'a0': 0.5, 'a1': 0.5}, {'a0': 0.5, 'a1': 0.5}]\n"
     ]
    }
   ],
   "source": [
    "policy = dict()\n",
    "\n",
    "for s in states:\n",
    "    actions = mdp.get_possible_actions(s)\n",
    "    action_prob = 1 / len(actions)\n",
    "    policy[s] = dict()\n",
    "    for a in actions:\n",
    "        policy[s][a] = action_prob\n",
    "\n",
    "print(list(policy.values()))"
   ]
  },
  {
   "cell_type": "code",
   "execution_count": 22,
   "outputs": [
    {
     "name": "stdout",
     "output_type": "stream",
     "text": [
      "0.5\n",
      "0.5\n",
      "0.5\n",
      "0.5\n",
      "0.5\n",
      "0.5\n"
     ]
    }
   ],
   "source": [
    "for state in policy:\n",
    "    for action in policy[state]:\n",
    "        print(policy[state][action])"
   ],
   "metadata": {
    "collapsed": false
   }
  },
  {
   "cell_type": "code",
   "execution_count": 23,
   "outputs": [
    {
     "data": {
      "text/plain": "0.5"
     },
     "execution_count": 23,
     "metadata": {},
     "output_type": "execute_result"
    }
   ],
   "source": [
    "list(mdp.get_next_states('s0', 'a0').values())[0]"
   ],
   "metadata": {
    "collapsed": false
   }
  },
  {
   "cell_type": "code",
   "execution_count": 24,
   "outputs": [
    {
     "data": {
      "text/plain": "0"
     },
     "execution_count": 24,
     "metadata": {},
     "output_type": "execute_result"
    }
   ],
   "source": [
    "V_one = {'s0': 0, 's1': 0, 's2': 0}\n",
    "V_two = {'s0': 0, 's1': 0, 's2': 0}\n",
    "\n",
    "list(V_two.values())[-1]"
   ],
   "metadata": {
    "collapsed": false
   }
  },
  {
   "cell_type": "code",
   "execution_count": 25,
   "outputs": [
    {
     "name": "stdout",
     "output_type": "stream",
     "text": [
      "<class 'str'>\n",
      "<class 'str'>\n"
     ]
    }
   ],
   "source": [
    "next_states = mdp.get_next_states('s0', 'a0')\n",
    "for state in next_states:\n",
    "    print(type(state))"
   ],
   "metadata": {
    "collapsed": false
   }
  },
  {
   "cell_type": "markdown",
   "metadata": {},
   "source": [
    "Implementacja algorytmu oceny strategii - podejście z dwiema tablicami"
   ]
  },
  {
   "cell_type": "code",
   "execution_count": null,
   "outputs": [],
   "source": [
    "def policy_eval_two_arrays(mdp, policy, gamma, theta):\n",
    "    \"\"\"\n",
    "    This function uses the two-array approach to evaluate the specified policy for the specified MDP:\n",
    "\n",
    "    'mdp' - model of the environment, use following functions:\n",
    "        get_all_states - return list of all states available in the environment\n",
    "        get_possible_actions - return list of possible actions for the given state\n",
    "        get_next_states - return list of possible next states with a probability for transition from state by taking\n",
    "                          action into next_state\n",
    "        get_reward - return the reward after taking action in state and landing on next_state\n",
    "\n",
    "\n",
    "    'policy' - the stochastic policy (action probability for each state), for the given mdp, too evaluate\n",
    "    'gamma' - discount factor for MDP\n",
    "    'theta' - algorithm should stop when minimal difference between previous evaluation of policy and current is smaller\n",
    "              than theta\n",
    "    \"\"\"\n",
    "    V_one = dict()\n",
    "    V_two = dict()\n",
    "\n",
    "    for state in mdp.get_all_states():\n",
    "        V_one[state] = 0\n",
    "        V_two[state] = 0\n",
    "\n",
    "    turn = 0\n",
    "\n",
    "    while True:\n",
    "\n",
    "        for state in mdp.get_all_states():\n",
    "\n",
    "            starting_value = 0\n",
    "\n",
    "            for action in policy[state]:\n",
    "                next_states = mdp.get_next_states(state, action)\n",
    "                other_value = 0\n",
    "\n",
    "                for next_state in next_states:\n",
    "                    if not turn % 2:\n",
    "                        other_value += next_states[next_state] * (mdp.get_reward(state, action, next_state) + gamma * V_one[next_state])\n",
    "                    else:\n",
    "                        other_value += next_states[next_state] * (mdp.get_reward(state, action, next_state) + gamma * V_two[next_state])\n",
    "\n",
    "                starting_value += policy[state][action] * other_value\n",
    "\n",
    "            if not turn % 2:\n",
    "                V_two[state] = starting_value\n",
    "            else:\n",
    "                V_one[state] = starting_value\n",
    "\n",
    "        turn += 1\n",
    "\n",
    "        if abs(list(V_two.values())[-1] - list(V_one.values())[-1]) < theta:\n",
    "            if not turn % 2:\n",
    "                return V_one\n",
    "            return V_two"
   ],
   "metadata": {
    "collapsed": false,
    "pycharm": {
     "name": "#%%\n"
    }
   }
  },
  {
   "cell_type": "markdown",
   "source": [
    "Sprawdzenie poprawności zaimplementowanego algorytmu"
   ],
   "metadata": {
    "collapsed": false,
    "pycharm": {
     "name": "#%% md\n"
    }
   }
  },
  {
   "cell_type": "code",
   "execution_count": null,
   "outputs": [],
   "source": [
    "V = policy_eval_two_arrays(mdp, policy, 0.9, 0.0001)\n",
    "\n",
    "assert np.isclose(V['s0'], 1.46785443374683)\n",
    "assert np.isclose(V['s1'], 4.55336594491180)\n",
    "assert np.isclose(V['s2'], 1.68544141660991)"
   ],
   "metadata": {
    "collapsed": false,
    "pycharm": {
     "name": "#%%\n"
    }
   }
  },
  {
   "cell_type": "markdown",
   "source": [
    "Implementacja algorytmu oceny strategii - obliczenia w miejscu"
   ],
   "metadata": {
    "collapsed": false,
    "pycharm": {
     "name": "#%% md\n"
    }
   }
  },
  {
   "cell_type": "code",
   "execution_count": null,
   "outputs": [],
   "source": [
    "def policy_eval_in_place(mdp, policy, gamma, theta):\n",
    "    \"\"\"\n",
    "    This function uses the in-place approach to evaluate the specified policy for the specified MDP:\n",
    "\n",
    "    'mdp' - model of the environment, use following functions:\n",
    "        get_all_states - return list of all states available in the environment\n",
    "        get_possible_actions - return list of possible actions for the given state\n",
    "        get_next_states - return list of possible next states with a probability for transition from state by taking\n",
    "                          action into next_state\n",
    "        get_reward - return the reward after taking action in state and landing on next_state\n",
    "\n",
    "\n",
    "    'policy' - the stochastic policy (action probability for each state), for the given mdp, too evaluate.\n",
    "    'gamma' - discount factor for MDP\n",
    "    'theta' - algorithm should stop when minimal difference between previous evaluation of policy and current is smaller\n",
    "              than theta\n",
    "    \"\"\"\n",
    "    V = dict()\n",
    "\n",
    "    for state in mdp.get_all_states():\n",
    "        V[state] = 0\n",
    "\n",
    "    while True:\n",
    "        last_value = list(V.values())[-1]\n",
    "        for state in mdp.get_all_states():\n",
    "\n",
    "            starting_value = 0\n",
    "            for action in policy[state]:\n",
    "                next_states = mdp.get_next_states(state, action)\n",
    "                other_value = 0\n",
    "\n",
    "                for next_state in next_states:\n",
    "                        other_value += next_states[next_state] * (mdp.get_reward(state, action, next_state) + gamma * V[next_state])\n",
    "\n",
    "                starting_value += policy[state][action] * other_value\n",
    "\n",
    "            V[state] = starting_value\n",
    "\n",
    "\n",
    "        if abs(list(V.values())[-1] - last_value) < theta:\n",
    "            return V"
   ],
   "metadata": {
    "collapsed": false,
    "pycharm": {
     "name": "#%%\n"
    }
   }
  },
  {
   "cell_type": "markdown",
   "source": [
    "Sprawdzenie poprawności zaimplementowanego algorytmu"
   ],
   "metadata": {
    "collapsed": false,
    "pycharm": {
     "name": "#%% md\n"
    }
   }
  },
  {
   "cell_type": "code",
   "execution_count": null,
   "outputs": [],
   "source": [
    "V = policy_eval_in_place(mdp, policy, 0.9, 0.0001)\n",
    "print(V)\n",
    "assert np.isclose(V['s0'], 1.4681508097651)\n",
    "assert np.isclose(V['s1'], 4.5536768132712)\n",
    "assert np.isclose(V['s2'], 1.6857723431614)"
   ],
   "metadata": {
    "collapsed": false,
    "pycharm": {
     "name": "#%%\n"
    }
   }
  },
  {
   "cell_type": "markdown",
   "source": [
    "## Zadanie 2 - Iteracyjne doskonalenie strategii (*Policy iteration*) (0.3 pkt)\n",
    "\n",
    "<p style='text-align: justify;'>\n",
    "Celem ćwiczenia jest zaimplementowanie algorytmu iteracyjnego doskonalenia strategii. Zadaniem algorytmu jest wyznaczenie optymalnej strategii dla danego środowiska. Pierwszym krokiem algorytmu jest zainicjalizowanie strategii losowymi akcjami, następnie jej ocenienie oraz poprawa, zgodnie ze wzorem:\n",
    "\\begin{equation}\n",
    "    \\pi(s) \\leftarrow  \\text{argmax}_a \\sum_{s'} \\sum_r p(s', r|s, a)[r + \\gamma V(s')]\n",
    "\\end{equation}\n",
    "Jeżeli poprawiona strategia będzie się różniła od poprzedniej, należy ją ponownie ocenić i poprawić. Algorytm kończy działanie w momencie kiedy poprawiona strategia będzie dokładnie taka sama, jak ta poddawana poprawie.\n",
    "</p>"
   ],
   "metadata": {
    "collapsed": false,
    "pycharm": {
     "name": "#%% md\n"
    }
   }
  },
  {
   "cell_type": "markdown",
   "source": [
    "Zaimplementuj funkcję do oceny strategii, tylko tym razem przyjmij, że strategia przekazywana na wejściu będzie deteministyczna "
   ],
   "metadata": {
    "collapsed": false,
    "pycharm": {
     "name": "#%% md\n"
    }
   }
  },
  {
   "cell_type": "code",
   "execution_count": null,
   "outputs": [],
   "source": [
    "def deterministic_policy_eval_in_place(mdp, policy, gamma, theta):\n",
    "    \"\"\"\n",
    "    This function uses the in-place approach to evaluate the specified deterministic policy for the specified MDP:\n",
    "\n",
    "        'mdp' - model of the environment, use following functions:\n",
    "        get_all_states - return list of all states available in the environment\n",
    "        get_possible_actions - return list of possible actions for the given state\n",
    "        get_next_states - return list of possible next states with a probability for transition from state by taking\n",
    "                          action into next_state\n",
    "        get_reward - return the reward after taking action in state and landing on next_state\n",
    "\n",
    "\n",
    "        'policy' - the deterministic policy (action probability for each state), for the given mdp, too evaluate\n",
    "        'gamma' - discount factor for MDP\n",
    "        'theta' - algorithm should stop when minimal difference between previous evaluation of policy and current is\n",
    "                  smaller than theta\n",
    "    \"\"\"\n",
    "    V = dict()\n",
    "\n",
    "    for state in mdp.get_all_states():\n",
    "        V[state] = 0\n",
    "\n",
    "    while True:\n",
    "        last_value = list(V.values())[-1]\n",
    "        for state in mdp.get_all_states():\n",
    "\n",
    "            starting_value = 0\n",
    "            action = policy[state]\n",
    "            next_states = mdp.get_next_states(state, action)\n",
    "\n",
    "            for next_state in next_states:\n",
    "                    starting_value += next_states[next_state] * (mdp.get_reward(state, action, next_state) + gamma * V[next_state])\n",
    "\n",
    "            V[state] = starting_value\n",
    "\n",
    "\n",
    "        if abs(list(V.values())[-1] - last_value) < theta:\n",
    "            return V"
   ],
   "metadata": {
    "collapsed": false,
    "pycharm": {
     "name": "#%%\n"
    }
   }
  },
  {
   "cell_type": "markdown",
   "source": [
    "Zaimplementuj funkcję do poprawy strategii `policy` na podstawie funkcji oceny `value_function` wyznaczonej dla niej "
   ],
   "metadata": {
    "collapsed": false,
    "pycharm": {
     "name": "#%% md\n"
    }
   }
  },
  {
   "cell_type": "code",
   "execution_count": null,
   "outputs": [],
   "source": [
    "def policy_improvement(mdp, policy, value_function, gamma):\n",
    "    \"\"\"\n",
    "            This function improves specified deterministic policy for the specified MDP using value_function:\n",
    "\n",
    "           'mdp' - model of the environment, use following functions:\n",
    "                get_all_states - return list of all states available in the environment\n",
    "                get_possible_actions - return list of possible actions for the given state\n",
    "                get_next_states - return list of possible next states with a probability for transition from state by taking\n",
    "                                  action into next_state\n",
    "                \n",
    "                get_reward - return the reward after taking action in state and landing on next_state\n",
    "\n",
    "\n",
    "           'policy' - the deterministic policy (action for each state), for the given mdp, too improve.\n",
    "           'value_function' - the value function, for the given policy.\n",
    "            'gamma' - discount factor for MDP\n",
    "\n",
    "           Function returns False if policy was improved or True otherwise\n",
    "       \"\"\"\n",
    "\n",
    "    policy_stable = True\n",
    "\n",
    "\n",
    "    for state in mdp.get_all_states():\n",
    "\n",
    "        state_action_values = dict()\n",
    "        actions = mdp.get_possible_actions(state)\n",
    "\n",
    "        for action in actions:\n",
    "\n",
    "            state_action_values[action] = 0\n",
    "            next_states = mdp.get_next_states(state, action)\n",
    "\n",
    "            for next_state in next_states:\n",
    "                state_action_values[action] += next_states[next_state] * (mdp.get_reward(state, action, next_state) + gamma * value_function[next_state])\n",
    "\n",
    "\n",
    "        max_value_action = max(state_action_values, key=state_action_values.get)\n",
    "\n",
    "        if policy[state] != max_value_action:\n",
    "            policy_stable = False\n",
    "            policy[state] = max_value_action\n",
    "\n",
    "\n",
    "    return policy_stable"
   ],
   "metadata": {
    "collapsed": false,
    "pycharm": {
     "name": "#%%\n"
    }
   }
  },
  {
   "cell_type": "markdown",
   "source": [
    "Zaimplementuj funkcję do iteracyjnego doskonalenia strategii"
   ],
   "metadata": {
    "collapsed": false,
    "pycharm": {
     "name": "#%% md\n"
    }
   }
  },
  {
   "cell_type": "code",
   "execution_count": null,
   "outputs": [],
   "source": [
    "def policy_iteration(mdp, gamma, theta):\n",
    "\n",
    "    \"\"\"\n",
    "            This function calculate optimal policy for the specified MDP:\n",
    "\n",
    "           'mdp' - model of the environment, use following functions:\n",
    "                get_all_states - return list of all states available in the environment\n",
    "                get_possible_actions - return list of possible actions for the given state\n",
    "                get_next_states - return list of possible next states with a probability for transition from state by taking\n",
    "                                  action into next_state\n",
    "                \n",
    "                get_reward - return the reward after taking action in state and landing on next_state\n",
    "\n",
    "\n",
    "           'gamma' - discount factor for MDP\n",
    "           'theta' - algorithm should stop when minimal difference between previous evaluation of policy and current is smaller\n",
    "                      than theta\n",
    "           Function returns optimal policy and value function for the policy\n",
    "       \"\"\"\n",
    "\n",
    "    policy = dict()\n",
    "\n",
    "    for s in states:\n",
    "        actions = mdp.get_possible_actions(s)\n",
    "        policy[s] = actions[0]\n",
    "\n",
    "    V = deterministic_policy_eval_in_place(mdp, policy, gamma, theta)\n",
    "    policy_stable = False\n",
    "\n",
    "    while not policy_stable:\n",
    "        policy_stable = policy_improvement(mdp, policy, V, gamma)\n",
    "        V = deterministic_policy_eval_in_place(mdp, policy, gamma, theta)\n",
    "\n",
    "    return policy, V"
   ],
   "metadata": {
    "collapsed": false,
    "pycharm": {
     "name": "#%%\n"
    }
   }
  },
  {
   "cell_type": "code",
   "execution_count": null,
   "outputs": [],
   "source": [],
   "metadata": {
    "collapsed": false,
    "pycharm": {
     "name": "#%%\n"
    }
   }
  },
  {
   "cell_type": "markdown",
   "source": [
    "Sprawdzenie poprawności zaimplementowanego algorytmu"
   ],
   "metadata": {
    "collapsed": false,
    "pycharm": {
     "name": "#%% md\n"
    }
   }
  },
  {
   "cell_type": "code",
   "execution_count": null,
   "outputs": [],
   "source": [
    "optimal_policy, optimal_value = policy_iteration(mdp, 0.9, 0.001)\n",
    "assert optimal_policy['s0'] == 'a1'\n",
    "assert optimal_policy['s1'] == 'a0'\n",
    "assert optimal_policy['s2'] == 'a1'\n",
    "\n",
    "assert np.isclose(optimal_value['s0'], 3.78536612814300)\n",
    "assert np.isclose(optimal_value['s1'], 7.29865364527343)\n",
    "assert np.isclose(optimal_value['s2'], 4.20683179007964)"
   ],
   "metadata": {
    "collapsed": false,
    "pycharm": {
     "name": "#%%\n"
    }
   }
  },
  {
   "cell_type": "markdown",
   "source": [
    "## Zadanie 3 - Iteracyjne obliczanie funkcji wartości (*Value iteration*) (0.4 pkt)\n",
    "\n",
    "<p style='text-align: justify;'>\n",
    "Celem ćwiczenia jest zaimplementowanie algorytmu iteracyjnego obliczania funkcji wartości. Algorytm ten łączy w sobie dwa wyżej wspomniane podejścia oceny i wyznaczania optymalnej strategii. Najpierw wyznaczana jest optymalna funkcja wartości stanu zgodnie ze wzorem:\n",
    "\\begin{equation}\n",
    "    V(s) \\leftarrow  \\max_a \\sum_{s'} \\sum_r p(s', r|s, a)[r + \\gamma V(s')].\n",
    "\\end{equation}\n",
    "Po wyznaczeniu optymalnej funkcji wartości dla każdego stanu określana jest strategia postępowania w każdym możliwym stanie zgodnie ze wzorem:\n",
    "\\begin{equation}\n",
    "    \\pi(s) = \\text{argmax}_a \\sum_{s'} \\sum_r p(s', r|s, a)[r + \\gamma V(s')].\n",
    "\\end{equation}\n",
    "</p>"
   ],
   "metadata": {
    "collapsed": false,
    "pycharm": {
     "name": "#%% md\n"
    }
   }
  },
  {
   "cell_type": "markdown",
   "source": [
    "Implementacja algorytmu do iteracyjnego obliczania funkcji wartości"
   ],
   "metadata": {
    "collapsed": false,
    "pycharm": {
     "name": "#%% md\n"
    }
   }
  },
  {
   "cell_type": "code",
   "execution_count": null,
   "outputs": [],
   "source": [
    "def value_iteration(mdp, gamma, theta):\n",
    "    \"\"\"\n",
    "            This function calculate optimal policy for the specified MDP using Value Iteration approach:\n",
    "\n",
    "            'mdp' - model of the environment, use following functions:\n",
    "                get_all_states - return list of all states available in the environment\n",
    "                get_possible_actions - return list of possible actions for the given state\n",
    "                get_next_states - return list of possible next states with a probability for transition from state by taking\n",
    "                                  action into next_state\n",
    "                get_reward - return the reward after taking action in state and landing on next_state\n",
    "\n",
    "\n",
    "            'gamma' - discount factor for MDP\n",
    "            'theta' - algorithm should stop when minimal difference between previous evaluation of policy and current is\n",
    "                      smaller than theta\n",
    "            Function returns optimal policy and value function for the policy\n",
    "       \"\"\"\n",
    "\n",
    "    V = dict()\n",
    "    for state in mdp.get_all_states():\n",
    "        V[state] = 0\n",
    "\n",
    "    last_value = list(V.values())[-1]\n",
    "    policy = dict()\n",
    "    for current_state in mdp.get_all_states():\n",
    "        policy[current_state] = mdp.get_possible_actions(current_state)[0]\n",
    "\n",
    "    # init with a policy with first avail action for each state\n",
    "\n",
    "    while True:\n",
    "        last_value = list(V.values())[-1]\n",
    "        for current_state in mdp.get_all_states():\n",
    "            actions = mdp.get_possible_actions(current_state)\n",
    "            state_action_values = dict()\n",
    "\n",
    "            for action in actions:\n",
    "\n",
    "                state_action_values[action] = 0\n",
    "                next_states = mdp.get_next_states(current_state, action)\n",
    "\n",
    "                for next_state in next_states:\n",
    "                    state_action_values[action] += next_states[next_state] * (mdp.get_reward(current_state, action, next_state) + gamma * V[next_state])\n",
    "\n",
    "            V[current_state] = max(list(state_action_values.values()))\n",
    "        if abs(list(V.values())[-1] - last_value) < theta:\n",
    "            break\n",
    "\n",
    "    for current_state in mdp.get_all_states():\n",
    "\n",
    "        state_action_values = dict()\n",
    "        actions = mdp.get_possible_actions(current_state)\n",
    "\n",
    "        for action in actions:\n",
    "\n",
    "            state_action_values[action] = 0\n",
    "            next_states = mdp.get_next_states(current_state, action)\n",
    "\n",
    "            for next_state in next_states:\n",
    "                state_action_values[action] += next_states[next_state] * (mdp.get_reward(current_state, action, next_state) + gamma * V[next_state])\n",
    "\n",
    "        max_value_action = max(state_action_values, key=state_action_values.get)\n",
    "\n",
    "        if policy[current_state] != max_value_action:\n",
    "            policy[current_state] = max_value_action\n",
    "\n",
    "    return policy, V"
   ],
   "metadata": {
    "collapsed": false,
    "pycharm": {
     "name": "#%%\n"
    }
   }
  },
  {
   "cell_type": "code",
   "execution_count": null,
   "outputs": [],
   "source": [
    "def value_iteration(mdp, gamma, theta):\n",
    "    \"\"\"\n",
    "            This function calculate optimal policy for the specified MDP using Value Iteration approach:\n",
    "\n",
    "            'mdp' - model of the environment, use following functions:\n",
    "                get_all_states - return list of all states available in the environment\n",
    "                get_possible_actions - return list of possible actions for the given state\n",
    "                get_next_states - return list of possible next states with a probability for transition from state by taking\n",
    "                                  action into next_state\n",
    "                get_reward - return the reward after taking action in state and landing on next_state\n",
    "\n",
    "\n",
    "            'gamma' - discount factor for MDP\n",
    "            'theta' - algorithm should stop when minimal difference between previous evaluation of policy and current is\n",
    "                      smaller than theta\n",
    "            Function returns optimal policy and value function for the policy\n",
    "       \"\"\"\n",
    "\n",
    "\n",
    "\n",
    "    V = dict()\n",
    "\n",
    "    for state in mdp.get_all_states():\n",
    "        V[state] = 0\n",
    "\n",
    "    last_value = list(V.values())[-1]\n",
    "    policy = dict()\n",
    "    for current_state in mdp.get_all_states():\n",
    "        policy[current_state] = mdp.get_possible_actions(current_state)[0]\n",
    "\n",
    "    # init with a policy with first avail action for each state\n",
    "\n",
    "    while True:\n",
    "        last_value = list(V.values())[-1]\n",
    "        for current_state in mdp.get_all_states():\n",
    "            actions = mdp.get_possible_actions(current_state)\n",
    "            state_action_values = dict()\n",
    "\n",
    "            for action in actions:\n",
    "\n",
    "                state_action_values[action] = 0\n",
    "                next_states = mdp.get_next_states(current_state, action)\n",
    "\n",
    "                for next_state in next_states:\n",
    "                    state_action_values[action] += next_states[next_state] * (mdp.get_reward(current_state, action, next_state) + gamma * V[next_state])\n",
    "\n",
    "            V[current_state] = max(list(state_action_values.values()))\n",
    "        if abs(list(V.values())[-1] - last_value) < theta:\n",
    "            break\n",
    "\n",
    "    for current_state in mdp.get_all_states():\n",
    "\n",
    "        state_action_values = dict()\n",
    "        actions = mdp.get_possible_actions(current_state)\n",
    "\n",
    "        for action in actions:\n",
    "\n",
    "            state_action_values[action] = 0\n",
    "            next_states = mdp.get_next_states(current_state, action)\n",
    "\n",
    "            for next_state in next_states:\n",
    "                state_action_values[action] += next_states[next_state] * (mdp.get_reward(current_state, action, next_state) + gamma * V[next_state])\n",
    "\n",
    "        max_value_action = max(state_action_values, key=state_action_values.get)\n",
    "\n",
    "        if policy[current_state] != max_value_action:\n",
    "            policy[current_state] = max_value_action\n",
    "\n",
    "    return policy, V"
   ],
   "metadata": {
    "collapsed": false,
    "pycharm": {
     "name": "#%%\n"
    }
   }
  },
  {
   "cell_type": "markdown",
   "metadata": {},
   "source": [
    "Sprawdzenie poprawności zaimplementowanego algorytmu"
   ]
  },
  {
   "cell_type": "code",
   "execution_count": 36,
   "outputs": [],
   "source": [
    "optimal_policy, optimal_value = value_iteration(mdp, 0.9, 0.001)\n",
    "\n",
    "assert optimal_policy['s0'] == 'a1'\n",
    "assert optimal_policy['s1'] == 'a0'\n",
    "assert optimal_policy['s2'] == 'a1'\n",
    "\n",
    "assert np.isclose(optimal_value['s0'], 3.78536612814300)\n",
    "assert np.isclose(optimal_value['s1'], 7.29865364527343)\n",
    "assert np.isclose(optimal_value['s2'], 4.20683179007964)"
   ],
   "metadata": {
    "collapsed": false
   }
  }
 ],
 "metadata": {
  "kernelspec": {
   "display_name": "Python 3",
   "language": "python",
   "name": "python3"
  },
  "language_info": {
   "codemirror_mode": {
    "name": "ipython",
    "version": 3
   },
   "file_extension": ".py",
   "mimetype": "text/x-python",
   "name": "python",
   "nbconvert_exporter": "python",
   "pygments_lexer": "ipython3",
   "version": "3.7.5"
  }
 },
 "nbformat": 4,
 "nbformat_minor": 4
}