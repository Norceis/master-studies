{
 "cells": [
  {
   "cell_type": "markdown",
   "id": "bedecc37",
   "metadata": {
    "pycharm": {
     "name": "#%% md\n"
    }
   },
   "source": [
    "## Laboratorium 4 - algorytm Najbliższej Średniej (NM)\n",
    "\n",
    "\n",
    "### Opis\n",
    "Celem laboratorium jest implementacja klasyfikatora najbliższej średniej NM (*Nearest Mean*).\n",
    "\n",
    "\n",
    "### Zadanie\n",
    "\n",
    "Należy wykonać następujące czynności w celu realizacji niniejszego zadania:\n",
    "* Wczytaj dane.\n",
    "* **Zaimplementuj klasyfikator najbliższej średniej (NM) z zastosowaniem odległości Euklidesa**.\n",
    "* Zaimplementuj funkcję, która zwraca macierz kowariancji (*uwaga: biblioteka `numpy` posiada gotową implementację `cov` z którą możesz porównać wynik*).\n",
    "\n",
    "    \\begin{equation*}\n",
    "    C = \\frac{1}{n - 1} (X - \\bar X)(X - \\bar X)^T\n",
    "    \\end{equation*}\n",
    "\n",
    "    gdzie:\n",
    "    * $X$ to macierz, \n",
    "    * $\\bar X$ to wektor ze średnimi wartościami cech. \n",
    "\n",
    "* **Zaimplementuj klasyfikator najbliższej średniej (NM) z zastosowaniem odległości Machalanobisa**.\n",
    "\n",
    "    \\begin{equation*}\n",
    "    D_j = \\sqrt{ (x - \\mu_j)^T S_j^{-1}(x - \\mu_j) },\n",
    "    \\end{equation*}\n",
    "\n",
    "    gdzie:\n",
    "    * $D_j$ to odległość klasyfikowanej próbki do $j$-tej klasy (grupy, klastra), \n",
    "    * $\\mu_j$ to wektor ze średnimi wartościami cech w obrębie $j$-tej klasy, \n",
    "    * $S_j^{-1}$ to odwrócona macierz kowariancji $j$-tej klasy, \n",
    "    * a $x$ to klasyfikowana próbka.\n",
    "\n",
    "* Opisz wyniki klasyfikatorów i porównaj je z klasyfikatorem *k*NN (porównaj w kontekście różnych metryk - obowiązkowo tablica pomyłek).\n",
    "\n",
    "> Podpowiedź 1: Do obliczenia macierzy odwrotnej możesz użyć gotową implementację, np. funkcję `linalg.inv` z biblioteki `numpy`.\n",
    "\n",
    "> Podpowiedź 2: Do wszelkich podstawowych operacji na macierzach (mnożenie, transpozycja, dodawanie, odejmowanie, itp.) możesz zastosować gotową implementację, np. bibliotekę `numpy`.\n",
    "\n",
    "> UWAGA 1: W niniejszym zadaniu jest dowolność implementacji (nie trzeba trzymać się struktury z poprzedniego zadania), jednak algorytm NM należy zaimplementować samodzielnie bez korzystania z istniających rozwiązań (jak np. z biblioteki `scikit-learn`).\n",
    "\n",
    "> UWAGA 2: Wszystkie wykonane elementy zadania powinny posiadać stosowne komentarze i opisy.\n",
    "\n",
    "\n",
    "**Pamiętaj, wyniki powinny być czytelnie opisane oraz zaprezentowane graficznie (jeżeli jest taka możliwość).**\n",
    "\n",
    "Przykład (na podstawie tablicy pomyłek):\n",
    "\n",
    "**Źle** (nie wiadomo co jest poniżej zaprezentowane, kolumny ani wiersze nie są podpisane, nie wiadomo które z nich prezentują predykcje, a które właściwe etykiety):\n",
    "```\n",
    "array([[2, 0, 0],\n",
    "       [0, 0, 1],\n",
    "       [1, 0, 2]])\n",
    "```\n",
    "\n",
    "\n",
    "<span style=\"text-decoration:underline\">Referencje</span>\n",
    "\n",
    "1. Mahalanobis, P C, _On test and measures of group divergence : theoretical formulae_, Journal and Proceedings of Asiatic Society of Bengal (New Series) Vol. 26, pp. 541-588. 1930. (URL: http://library.isical.ac.in:8080/xmlui/bitstream/handle/10263/1639/029.pdf)\n",
    "2. McLachlan, Goeffrey J. _Mahalanobis distance_, Resonance, pp. 20-26. 1999. (URL: https://www.ias.ac.in/article/fulltext/reso/004/06/0020-0026)"
   ]
  },
  {
   "cell_type": "markdown",
   "id": "23a7414c",
   "metadata": {
    "pycharm": {
     "name": "#%% md\n"
    }
   },
   "source": [
    "NM"
   ]
  },
  {
   "cell_type": "code",
   "execution_count": 70,
   "id": "fb76faeb",
   "metadata": {
    "pycharm": {
     "name": "#%%\n"
    }
   },
   "outputs": [
    {
     "data": {
      "text/plain": "        0         1         2         3         4         5         6   \\\n0     36.0  0.000000  0.325831  0.024266  0.703508  0.454962  0.495454   \n1      5.0  0.230769  0.842476  0.095004  0.699710  0.587664  0.687900   \n2     29.0  0.000000  0.748562  0.070003  0.454741  0.791479  0.820838   \n3     35.0  0.153846  0.814872  0.103998  0.591342  0.791981  0.838695   \n4     32.0  0.461538  0.793384  0.085556  0.523369  0.807735  0.838695   \n...    ...       ...       ...       ...       ...       ...       ...   \n2239  31.0  0.153846  0.888591  0.631373  0.940717  0.566912  0.813351   \n2240  29.0  0.384615  0.649516  0.083071  0.414323  0.693427  0.747146   \n2241  12.0  0.538462  0.876392  0.103914  0.571506  0.758792  0.758740   \n2242  28.0  0.769231  0.779316  0.094852  0.438814  0.691993  0.995541   \n2243  14.0  0.230769  0.764458  0.111424  0.644177  0.807591  0.776314   \n\n            7         8         9         10        11        12        13  \\\n0     0.186267  0.385109  0.153731  0.305450  0.512751  0.332917  0.379755   \n1     0.356208  0.407041  0.171017  0.252791  0.379455  0.204207  0.172717   \n2     0.704091  0.091261  0.017223  0.033927  0.073304  0.034294  0.035405   \n3     0.600227  0.167316  0.035574  0.406714  0.529557  0.351359  0.300249   \n4     0.735215  0.056424  0.012777  0.137020  0.259345  0.116085  0.103741   \n...        ...       ...       ...       ...       ...       ...       ...   \n2239  0.036798  0.977847  0.999337  0.075008  0.072099  0.046594  0.038122   \n2240  0.709980  0.159751  0.030691  0.072038  0.120475  0.020127  0.041457   \n2241  0.441793  0.145231  0.046227  0.477821  0.554340  0.434899  0.401871   \n2242  0.783562  0.030697  0.015465  0.578124  0.701170  0.540490  0.429988   \n2243  0.532271  0.065391  0.004521  0.576264  0.624048  0.507002  0.520678   \n\n            14        15  \n0     0.097674  0.422129  \n1     0.138704  0.459842  \n2     0.020092  0.071054  \n3     0.246043  0.599974  \n4     0.075136  0.258137  \n...        ...       ...  \n2239  0.044660  0.100357  \n2240  0.010220  0.117377  \n2241  0.169536  0.805418  \n2242  0.371596  0.805269  \n2243  0.247312  0.621758  \n\n[2244 rows x 16 columns]",
      "text/html": "<div>\n<style scoped>\n    .dataframe tbody tr th:only-of-type {\n        vertical-align: middle;\n    }\n\n    .dataframe tbody tr th {\n        vertical-align: top;\n    }\n\n    .dataframe thead th {\n        text-align: right;\n    }\n</style>\n<table border=\"1\" class=\"dataframe\">\n  <thead>\n    <tr style=\"text-align: right;\">\n      <th></th>\n      <th>0</th>\n      <th>1</th>\n      <th>2</th>\n      <th>3</th>\n      <th>4</th>\n      <th>5</th>\n      <th>6</th>\n      <th>7</th>\n      <th>8</th>\n      <th>9</th>\n      <th>10</th>\n      <th>11</th>\n      <th>12</th>\n      <th>13</th>\n      <th>14</th>\n      <th>15</th>\n    </tr>\n  </thead>\n  <tbody>\n    <tr>\n      <th>0</th>\n      <td>36.0</td>\n      <td>0.000000</td>\n      <td>0.325831</td>\n      <td>0.024266</td>\n      <td>0.703508</td>\n      <td>0.454962</td>\n      <td>0.495454</td>\n      <td>0.186267</td>\n      <td>0.385109</td>\n      <td>0.153731</td>\n      <td>0.305450</td>\n      <td>0.512751</td>\n      <td>0.332917</td>\n      <td>0.379755</td>\n      <td>0.097674</td>\n      <td>0.422129</td>\n    </tr>\n    <tr>\n      <th>1</th>\n      <td>5.0</td>\n      <td>0.230769</td>\n      <td>0.842476</td>\n      <td>0.095004</td>\n      <td>0.699710</td>\n      <td>0.587664</td>\n      <td>0.687900</td>\n      <td>0.356208</td>\n      <td>0.407041</td>\n      <td>0.171017</td>\n      <td>0.252791</td>\n      <td>0.379455</td>\n      <td>0.204207</td>\n      <td>0.172717</td>\n      <td>0.138704</td>\n      <td>0.459842</td>\n    </tr>\n    <tr>\n      <th>2</th>\n      <td>29.0</td>\n      <td>0.000000</td>\n      <td>0.748562</td>\n      <td>0.070003</td>\n      <td>0.454741</td>\n      <td>0.791479</td>\n      <td>0.820838</td>\n      <td>0.704091</td>\n      <td>0.091261</td>\n      <td>0.017223</td>\n      <td>0.033927</td>\n      <td>0.073304</td>\n      <td>0.034294</td>\n      <td>0.035405</td>\n      <td>0.020092</td>\n      <td>0.071054</td>\n    </tr>\n    <tr>\n      <th>3</th>\n      <td>35.0</td>\n      <td>0.153846</td>\n      <td>0.814872</td>\n      <td>0.103998</td>\n      <td>0.591342</td>\n      <td>0.791981</td>\n      <td>0.838695</td>\n      <td>0.600227</td>\n      <td>0.167316</td>\n      <td>0.035574</td>\n      <td>0.406714</td>\n      <td>0.529557</td>\n      <td>0.351359</td>\n      <td>0.300249</td>\n      <td>0.246043</td>\n      <td>0.599974</td>\n    </tr>\n    <tr>\n      <th>4</th>\n      <td>32.0</td>\n      <td>0.461538</td>\n      <td>0.793384</td>\n      <td>0.085556</td>\n      <td>0.523369</td>\n      <td>0.807735</td>\n      <td>0.838695</td>\n      <td>0.735215</td>\n      <td>0.056424</td>\n      <td>0.012777</td>\n      <td>0.137020</td>\n      <td>0.259345</td>\n      <td>0.116085</td>\n      <td>0.103741</td>\n      <td>0.075136</td>\n      <td>0.258137</td>\n    </tr>\n    <tr>\n      <th>...</th>\n      <td>...</td>\n      <td>...</td>\n      <td>...</td>\n      <td>...</td>\n      <td>...</td>\n      <td>...</td>\n      <td>...</td>\n      <td>...</td>\n      <td>...</td>\n      <td>...</td>\n      <td>...</td>\n      <td>...</td>\n      <td>...</td>\n      <td>...</td>\n      <td>...</td>\n      <td>...</td>\n    </tr>\n    <tr>\n      <th>2239</th>\n      <td>31.0</td>\n      <td>0.153846</td>\n      <td>0.888591</td>\n      <td>0.631373</td>\n      <td>0.940717</td>\n      <td>0.566912</td>\n      <td>0.813351</td>\n      <td>0.036798</td>\n      <td>0.977847</td>\n      <td>0.999337</td>\n      <td>0.075008</td>\n      <td>0.072099</td>\n      <td>0.046594</td>\n      <td>0.038122</td>\n      <td>0.044660</td>\n      <td>0.100357</td>\n    </tr>\n    <tr>\n      <th>2240</th>\n      <td>29.0</td>\n      <td>0.384615</td>\n      <td>0.649516</td>\n      <td>0.083071</td>\n      <td>0.414323</td>\n      <td>0.693427</td>\n      <td>0.747146</td>\n      <td>0.709980</td>\n      <td>0.159751</td>\n      <td>0.030691</td>\n      <td>0.072038</td>\n      <td>0.120475</td>\n      <td>0.020127</td>\n      <td>0.041457</td>\n      <td>0.010220</td>\n      <td>0.117377</td>\n    </tr>\n    <tr>\n      <th>2241</th>\n      <td>12.0</td>\n      <td>0.538462</td>\n      <td>0.876392</td>\n      <td>0.103914</td>\n      <td>0.571506</td>\n      <td>0.758792</td>\n      <td>0.758740</td>\n      <td>0.441793</td>\n      <td>0.145231</td>\n      <td>0.046227</td>\n      <td>0.477821</td>\n      <td>0.554340</td>\n      <td>0.434899</td>\n      <td>0.401871</td>\n      <td>0.169536</td>\n      <td>0.805418</td>\n    </tr>\n    <tr>\n      <th>2242</th>\n      <td>28.0</td>\n      <td>0.769231</td>\n      <td>0.779316</td>\n      <td>0.094852</td>\n      <td>0.438814</td>\n      <td>0.691993</td>\n      <td>0.995541</td>\n      <td>0.783562</td>\n      <td>0.030697</td>\n      <td>0.015465</td>\n      <td>0.578124</td>\n      <td>0.701170</td>\n      <td>0.540490</td>\n      <td>0.429988</td>\n      <td>0.371596</td>\n      <td>0.805269</td>\n    </tr>\n    <tr>\n      <th>2243</th>\n      <td>14.0</td>\n      <td>0.230769</td>\n      <td>0.764458</td>\n      <td>0.111424</td>\n      <td>0.644177</td>\n      <td>0.807591</td>\n      <td>0.776314</td>\n      <td>0.532271</td>\n      <td>0.065391</td>\n      <td>0.004521</td>\n      <td>0.576264</td>\n      <td>0.624048</td>\n      <td>0.507002</td>\n      <td>0.520678</td>\n      <td>0.247312</td>\n      <td>0.621758</td>\n    </tr>\n  </tbody>\n</table>\n<p>2244 rows × 16 columns</p>\n</div>"
     },
     "execution_count": 70,
     "metadata": {},
     "output_type": "execute_result"
    }
   ],
   "source": [
    "import pandas as pd\n",
    "import numpy as np\n",
    "import matplotlib.pyplot as plt\n",
    "from sklearn.metrics import confusion_matrix, ConfusionMatrixDisplay, f1_score, balanced_accuracy_score\n",
    "import random\n",
    "plt.rcParams[\"figure.figsize\"] = (10, 10)\n",
    "\n",
    "def normalize2(dataframe):\n",
    "    return (dataframe-dataframe.min())/(dataframe.max()-dataframe.min())\n",
    "\n",
    "with open('./dataset/dataset.npz', 'rb') as f:\n",
    "    data = np.load(f)\n",
    "    train, test = data['train'], data['test']\n",
    "train = pd.DataFrame(train)\n",
    "test = pd.DataFrame(test)\n",
    "\n",
    "trainclass = train[[0]]\n",
    "testclass = test[[0]]\n",
    "trainfeatures = train.drop(columns = 0)\n",
    "testfeatures = test.drop(columns = 0)\n",
    "\n",
    "trainfeatures = normalize2(trainfeatures) #dane są normalizowane, zwiększa to znacząco efektywność modelu\n",
    "testfeatures = normalize2(testfeatures)\n",
    "\n",
    "train = pd.concat([trainclass, trainfeatures], axis=1)\n",
    "test = pd.concat([testclass, testfeatures], axis=1)\n",
    "\n",
    "train"
   ]
  },
  {
   "cell_type": "code",
   "execution_count": 71,
   "id": "8f69056e",
   "metadata": {
    "pycharm": {
     "name": "#%%\n"
    }
   },
   "outputs": [],
   "source": [
    "list_of_classes = [1.0, 33.0]\n",
    "list_of_features = [0, 9, 14]\n",
    "\n",
    "treningowy = train[(train[0] == list_of_classes[0]) | (train[0] == list_of_classes[1])]\n",
    "testowy = test[(test[0] == list_of_classes[0]) | (test[0] == list_of_classes[1])]\n",
    "\n",
    "treningowy3 = train[train[0] == list_of_classes[0]]\n",
    "treningowy5 = train[train[0] == list_of_classes[1]]"
   ]
  },
  {
   "cell_type": "code",
   "execution_count": 72,
   "id": "bbdbaef9",
   "metadata": {
    "pycharm": {
     "name": "#%%\n"
    }
   },
   "outputs": [
    {
     "data": {
      "text/plain": "<Figure size 720x720 with 1 Axes>",
      "image/png": "[encoded data removed]"
     },
     "metadata": {
      "needs_background": "light"
     },
     "output_type": "display_data"
    }
   ],
   "source": [
    "cechytestowe3 = treningowy3.loc[:, list_of_features]\n",
    "cechytestowe5 = treningowy5.loc[:, list_of_features]\n",
    "plt.figure()\n",
    "plt.scatter(cechytestowe3[list_of_features[1]], cechytestowe3[list_of_features[2]], color = 'green', label='Class 1')\n",
    "plt.scatter(cechytestowe5[list_of_features[1]], cechytestowe5[list_of_features[2]], color ='magenta', label='Class 2')\n",
    "plt.xlabel('First feature')\n",
    "plt.ylabel('Second feature')\n",
    "plt.legend()\n",
    "plt.show()"
   ]
  },
  {
   "cell_type": "markdown",
   "id": "fd613fbb",
   "metadata": {
    "pycharm": {
     "name": "#%% md\n"
    }
   },
   "source": [
    "<h1><center><font size=\"6\">Klasyfikator NM z odległością Euklidesa</font></center></h1>"
   ]
  },
  {
   "cell_type": "code",
   "execution_count": 73,
   "id": "f9f1086b",
   "metadata": {
    "pycharm": {
     "name": "#%%\n"
    }
   },
   "outputs": [],
   "source": [
    "def edist(p1, p2, features):\n",
    "    distance_elements = []\n",
    "    for i in range(0, len(features)):\n",
    "        distance_elements.append((p1[features[i]]-p2[features[i]])**2)\n",
    "    distance = sum(distance_elements)**(1/2)\n",
    "    return distance"
   ]
  },
  {
   "cell_type": "code",
   "execution_count": 74,
   "id": "e9823b8f",
   "metadata": {
    "pycharm": {
     "name": "#%%\n"
    }
   },
   "outputs": [],
   "source": [
    "def model(train, test, list_of_classes, list_of_features):\n",
    "\n",
    "    for i in range(len(list_of_classes)):\n",
    "        if i == 0:\n",
    "            treningowy = train[(train[0] == list_of_classes[0])]\n",
    "            testowy = test[(test[0] == list_of_classes[0])]\n",
    "        else:\n",
    "            treningowy = pd.concat([treningowy, train[(train[0] == list_of_classes[i])]], axis=0)\n",
    "            testowy = pd.concat([testowy, test[(test[0] == list_of_classes[i])]], axis=0)\n",
    "\n",
    "    testowy = testowy.loc[:, list_of_features]\n",
    "    testowy['Observed class'] = None\n",
    "    testowy.rename(columns={0:'Class'}, inplace=True)\n",
    "    treningowy = treningowy.loc[:, list_of_features]\n",
    "\n",
    "    features = []\n",
    "    for i in range(1, len(list_of_features)):\n",
    "        features.append(i)\n",
    "\n",
    "    mean_features = []\n",
    "    for uniq_class in range(len(list_of_classes)):\n",
    "        temp_list = []\n",
    "        for feature in list_of_features:\n",
    "            temp_list.append(treningowy[(treningowy[0] == list_of_classes[uniq_class])].mean()[feature])\n",
    "        mean_features.append(temp_list)\n",
    "    mean_features = np.asarray(mean_features)\n",
    "\n",
    "    for i in range(len(testowy.iloc[:])):\n",
    "        distancelist = []\n",
    "        for j in range(len(mean_features)):\n",
    "            distance = edist(testowy.values[i], mean_features[j], features)\n",
    "            distancelist.append((distance, mean_features[j,0]))\n",
    "        distancelist = sorted(distancelist, key=lambda tup: tup[0])\n",
    "        testowy.iloc[i, -1] = distancelist[0][1]\n",
    "\n",
    "    true_class = list(testowy.loc[:, 'Class'])\n",
    "    model_class = list(testowy.loc[:, 'Observed class'])\n",
    "    return true_class, model_class"
   ]
  },
  {
   "cell_type": "code",
   "execution_count": 93,
   "id": "c343b606",
   "metadata": {
    "pycharm": {
     "name": "#%%\n"
    }
   },
   "outputs": [
    {
     "data": {
      "text/plain": "1.0"
     },
     "execution_count": 93,
     "metadata": {},
     "output_type": "execute_result"
    }
   ],
   "source": [
    "list_of_classes = [4.0, 6.0]\n",
    "list_of_features = [0, 5, 7]\n",
    "true_class, model_class = model(train, test, list_of_classes, list_of_features)\n",
    "balanced_accuracy_score(true_class, model_class)"
   ]
  },
  {
   "cell_type": "code",
   "execution_count": 94,
   "outputs": [
    {
     "data": {
      "text/plain": "<Figure size 720x720 with 2 Axes>",
      "image/png": "[encoded data removed]"
     },
     "metadata": {
      "needs_background": "light"
     },
     "output_type": "display_data"
    }
   ],
   "source": [
    "confusion = confusion_matrix(true_class, model_class)\n",
    "display = ConfusionMatrixDisplay(confusion, display_labels=list_of_classes)\n",
    "display.plot(cmap='binary')\n",
    "plt.show()"
   ],
   "metadata": {
    "collapsed": false,
    "pycharm": {
     "name": "#%%\n"
    }
   }
  },
  {
   "cell_type": "markdown",
   "id": "4cb0aacd",
   "metadata": {
    "pycharm": {
     "name": "#%% md\n"
    }
   },
   "source": [
    "<h1><center><font size=\"6\">Macierz kowariancji</font></center></h1>"
   ]
  },
  {
   "cell_type": "code",
   "execution_count": 77,
   "id": "702e1c2a",
   "metadata": {
    "pycharm": {
     "name": "#%%\n"
    }
   },
   "outputs": [],
   "source": [
    "def covar_matrix(train, list_of_features, number_class): #obliczanie macierzy kowariancji dla danej klasy\n",
    "\n",
    "    treningowy = train[(train[0] == number_class)]\n",
    "    treningowy = treningowy.loc[:, list_of_features]\n",
    "\n",
    "    features = []\n",
    "    for i in range(1, len(list_of_features)):\n",
    "        features.append(i)\n",
    "\n",
    "    mean_features = []\n",
    "    for feature in list_of_features:\n",
    "        mean_features.append(treningowy[(treningowy[0] == number_class)].mean()[feature])\n",
    "    mean_features = np.asarray(mean_features)\n",
    "\n",
    "    matrix_help = np.empty(shape=(1,len(list_of_features)-1))\n",
    "    treningowy = np.asarray(treningowy)\n",
    "\n",
    "    for sample in range(len(treningowy)):\n",
    "        if treningowy[sample][0] == number_class:\n",
    "            row = []\n",
    "            for element in range(1, len(list_of_features)):\n",
    "                row.append(treningowy[sample][element]-mean_features[element])\n",
    "            matrix_help = np.vstack([matrix_help, row])\n",
    "    matrix_help = np.delete(matrix_help, obj=0, axis=0)\n",
    "\n",
    "    return 1/(len(matrix_help)-1) * matrix_help.T @ matrix_help"
   ]
  },
  {
   "cell_type": "markdown",
   "id": "e5ac8be2",
   "metadata": {
    "pycharm": {
     "name": "#%% md\n"
    }
   },
   "source": [
    "<h1><center><font size=\"6\">Klasyfikator NM z odległością Mahalanobisa</font></center></h1>"
   ]
  },
  {
   "cell_type": "code",
   "execution_count": 78,
   "id": "018c2b1c",
   "metadata": {
    "pycharm": {
     "name": "#%%\n"
    }
   },
   "outputs": [],
   "source": [
    "def mean_class(train, list_of_features, number_class): #obliczanie wartości średniej wektora klasy\n",
    "\n",
    "    treningowy = train[(train[0] == number_class)]\n",
    "    treningowy = treningowy.loc[:, list_of_features]\n",
    "\n",
    "    features = []\n",
    "    for i in range(1, len(list_of_features)):\n",
    "        features.append(i)\n",
    "\n",
    "    mean_features = []\n",
    "    for feature in list_of_features:\n",
    "        mean_features.append(treningowy[(treningowy[0] == number_class)].mean()[feature])\n",
    "    mean_features = np.asarray(mean_features)\n",
    "    return mean_features\n",
    "\n",
    "def mahal(covar_matrix, mean_class, xtest): # obliczanie odległości mahalanobisa\n",
    "\n",
    "    difference = []\n",
    "    for element in range(1, len(xtest)):\n",
    "        difference.append(xtest[element] - mean_class[element])\n",
    "    difference = np.asarray(difference)\n",
    "    difference = difference.reshape(1,len(xtest)-1)\n",
    "\n",
    "    return (np.matmul(np.matmul(difference, np.linalg.pinv(covar_matrix)), difference.T))**(1/2)"
   ]
  },
  {
   "cell_type": "code",
   "execution_count": 79,
   "outputs": [],
   "source": [
    "def mahalanobis_model(train, test, list_of_classes, list_of_features):\n",
    "\n",
    "    for i in range(len(list_of_classes)):\n",
    "        if i == 0:\n",
    "            treningowy = train[(train[0] == list_of_classes[0])]\n",
    "            testowy = test[(test[0] == list_of_classes[0])]\n",
    "        else:\n",
    "            treningowy = pd.concat([treningowy, train[(train[0] == list_of_classes[i])]], axis=0)\n",
    "            testowy = pd.concat([testowy, test[(test[0] == list_of_classes[i])]], axis=0)\n",
    "\n",
    "    testowy = testowy.loc[:, list_of_features]\n",
    "    testowy.rename(columns={0:'Class'}, inplace=True)\n",
    "    testowy_classified = testowy.copy(deep=False)\n",
    "    testowy_classified['Observed class'] = None\n",
    "\n",
    "    for i in range(len(testowy.iloc[:])):\n",
    "        distancelist = []\n",
    "\n",
    "        for j in range(len(list_of_classes)):\n",
    "            distance = mahal(covar_matrix(train, list_of_features, list_of_classes[j]), mean_class(train, list_of_features, list_of_classes[j]), testowy.values[i])\n",
    "            distancelist.append((distance[0,0], list_of_classes[j]))\n",
    "\n",
    "        distancelist = sorted(distancelist, key=lambda tup: tup[0])\n",
    "        testowy_classified.iloc[i, -1] = distancelist[0][1]\n",
    "\n",
    "    true_class = list(testowy_classified.loc[:, 'Class'])\n",
    "    model_class = list(testowy_classified.loc[:, 'Observed class'])\n",
    "    return true_class, model_class"
   ],
   "metadata": {
    "collapsed": false,
    "pycharm": {
     "name": "#%%\n"
    }
   }
  },
  {
   "cell_type": "code",
   "execution_count": 95,
   "outputs": [],
   "source": [
    "list_of_classes = [4, 6, 9, 10]\n",
    "list_of_features = [0, 5, 7, 10]\n",
    "true_class, model_class = mahalanobis_model(train, test, list_of_classes, list_of_features)"
   ],
   "metadata": {
    "collapsed": false,
    "pycharm": {
     "name": "#%%\n"
    }
   }
  },
  {
   "cell_type": "code",
   "execution_count": 96,
   "outputs": [
    {
     "data": {
      "text/plain": "<Figure size 720x720 with 2 Axes>",
      "image/png": "[encoded data removed]"
     },
     "metadata": {
      "needs_background": "light"
     },
     "output_type": "display_data"
    }
   ],
   "source": [
    "confusion = confusion_matrix(true_class, model_class)\n",
    "display = ConfusionMatrixDisplay(confusion, display_labels=list_of_classes)\n",
    "display.plot(cmap='binary')\n",
    "plt.show()"
   ],
   "metadata": {
    "collapsed": false,
    "pycharm": {
     "name": "#%%\n"
    }
   }
  },
  {
   "cell_type": "code",
   "execution_count": 82,
   "outputs": [
    {
     "name": "stdout",
     "output_type": "stream",
     "text": [
      "0.9053\n"
     ]
    }
   ],
   "source": [
    "print(round(balanced_accuracy_score(true_class, model_class), 4))"
   ],
   "metadata": {
    "collapsed": false,
    "pycharm": {
     "name": "#%%\n"
    }
   }
  },
  {
   "cell_type": "markdown",
   "source": [
    "<h1><center><font size=\"6\">Porównanie modeli z różnym rozmiarem grupy klas i cech</font></center></h1>"
   ],
   "metadata": {
    "collapsed": false,
    "pycharm": {
     "name": "#%% md\n"
    }
   }
  },
  {
   "cell_type": "code",
   "execution_count": 83,
   "outputs": [],
   "source": [
    "set_2_2 = []\n",
    "f1_2_2 = []\n",
    "list_of_classes = []\n",
    "list_of_features = [0]\n",
    "for i in range(1, 3):\n",
    "    list_of_classes.append(float(i))\n",
    "for i in range(1, 3):\n",
    "    list_of_features.append(int(i))\n",
    "true_class, model_class = mahalanobis_model(train, test, list_of_classes, list_of_features)\n",
    "balacc = balanced_accuracy_score(true_class, model_class)\n",
    "prec = f1_score(true_class, model_class, average='micro')\n",
    "f1_2_2.append(prec)\n",
    "set_2_2.append(balacc)"
   ],
   "metadata": {
    "collapsed": false,
    "pycharm": {
     "name": "#%%\n"
    }
   }
  },
  {
   "cell_type": "code",
   "execution_count": 84,
   "outputs": [],
   "source": [
    "set_2_5 = []\n",
    "f1_2_5 = []\n",
    "list_of_classes = []\n",
    "list_of_features = [0]\n",
    "for i in range(1, 3):\n",
    "    list_of_classes.append(float(i))\n",
    "for i in range(1, 6):\n",
    "    list_of_features.append(int(i))\n",
    "true_class, model_class = mahalanobis_model(train, test, list_of_classes, list_of_features)\n",
    "balacc = balanced_accuracy_score(true_class, model_class)\n",
    "prec = f1_score(true_class, model_class, average='micro')\n",
    "f1_2_5.append(prec)\n",
    "set_2_5.append(balacc)"
   ],
   "metadata": {
    "collapsed": false,
    "pycharm": {
     "name": "#%%\n"
    }
   }
  },
  {
   "cell_type": "code",
   "execution_count": 85,
   "outputs": [],
   "source": [
    "set_2_10 = []\n",
    "f1_2_10 = []\n",
    "list_of_classes = []\n",
    "list_of_features = [0]\n",
    "for i in range(1, 3):\n",
    "    list_of_classes.append(float(i))\n",
    "for i in range(1, 11):\n",
    "    list_of_features.append(int(i))\n",
    "true_class, model_class = mahalanobis_model(train, test, list_of_classes, list_of_features)\n",
    "balacc = balanced_accuracy_score(true_class, model_class)\n",
    "prec = f1_score(true_class, model_class, average='micro')\n",
    "f1_2_10.append(prec)\n",
    "set_2_10.append(balacc)"
   ],
   "metadata": {
    "collapsed": false,
    "pycharm": {
     "name": "#%%\n"
    }
   }
  },
  {
   "cell_type": "code",
   "execution_count": 86,
   "outputs": [],
   "source": [
    "set_4_2 = []\n",
    "f1_4_2 = []\n",
    "list_of_classes = []\n",
    "list_of_features = [0]\n",
    "for i in range(1, 5):\n",
    "    list_of_classes.append(float(i))\n",
    "for i in range(1, 3):\n",
    "    list_of_features.append(int(i))\n",
    "true_class, model_class = mahalanobis_model(train, test, list_of_classes, list_of_features)\n",
    "balacc = balanced_accuracy_score(true_class, model_class)\n",
    "prec = f1_score(true_class, model_class, average='micro')\n",
    "f1_4_2.append(prec)\n",
    "set_4_2.append(balacc)"
   ],
   "metadata": {
    "collapsed": false,
    "pycharm": {
     "name": "#%%\n"
    }
   }
  },
  {
   "cell_type": "code",
   "execution_count": 87,
   "outputs": [],
   "source": [
    "set_4_5 = []\n",
    "f1_4_5 = []\n",
    "list_of_classes = []\n",
    "list_of_features = [0]\n",
    "for i in range(1, 5):\n",
    "    list_of_classes.append(float(i))\n",
    "for i in range(1, 6):\n",
    "    list_of_features.append(int(i))\n",
    "true_class, model_class = mahalanobis_model(train, test, list_of_classes, list_of_features)\n",
    "balacc = balanced_accuracy_score(true_class, model_class)\n",
    "prec = f1_score(true_class, model_class, average='micro')\n",
    "f1_4_5.append(prec)\n",
    "set_4_5.append(balacc)"
   ],
   "metadata": {
    "collapsed": false,
    "pycharm": {
     "name": "#%%\n"
    }
   }
  },
  {
   "cell_type": "code",
   "execution_count": 88,
   "outputs": [],
   "source": [
    "set_4_10 = []\n",
    "f1_4_10 = []\n",
    "list_of_classes = []\n",
    "list_of_features = [0]\n",
    "for i in range(1, 5):\n",
    "    list_of_classes.append(float(i))\n",
    "for i in range(1, 11):\n",
    "    list_of_features.append(int(i))\n",
    "true_class, model_class = mahalanobis_model(train, test, list_of_classes, list_of_features)\n",
    "balacc = balanced_accuracy_score(true_class, model_class)\n",
    "prec = f1_score(true_class, model_class, average='micro')\n",
    "f1_4_10.append(prec)\n",
    "set_4_10.append(balacc)"
   ],
   "metadata": {
    "collapsed": false,
    "pycharm": {
     "name": "#%%\n"
    }
   }
  },
  {
   "cell_type": "code",
   "execution_count": 89,
   "outputs": [],
   "source": [
    "set_8_2 = []\n",
    "f1_8_2 = []\n",
    "list_of_classes = []\n",
    "list_of_features = [0]\n",
    "for i in range(1, 9):\n",
    "    list_of_classes.append(float(i))\n",
    "for i in range(1, 3):\n",
    "    list_of_features.append(int(i))\n",
    "true_class, model_class = mahalanobis_model(train, test, list_of_classes, list_of_features)\n",
    "balacc = balanced_accuracy_score(true_class, model_class)\n",
    "prec = f1_score(true_class, model_class, average='micro')\n",
    "f1_8_2.append(prec)\n",
    "set_8_2.append(balacc)"
   ],
   "metadata": {
    "collapsed": false,
    "pycharm": {
     "name": "#%%\n"
    }
   }
  },
  {
   "cell_type": "code",
   "execution_count": 90,
   "outputs": [],
   "source": [
    "set_8_5 = []\n",
    "f1_8_5 = []\n",
    "list_of_classes = []\n",
    "list_of_features = [0]\n",
    "for i in range(1, 9):\n",
    "    list_of_classes.append(float(i))\n",
    "for i in range(1, 6):\n",
    "    list_of_features.append(int(i))\n",
    "true_class, model_class = mahalanobis_model(train, test, list_of_classes, list_of_features)\n",
    "balacc = balanced_accuracy_score(true_class, model_class)\n",
    "prec = f1_score(true_class, model_class, average='micro')\n",
    "f1_8_5.append(prec)\n",
    "set_8_5.append(balacc)"
   ],
   "metadata": {
    "collapsed": false,
    "pycharm": {
     "name": "#%%\n"
    }
   }
  },
  {
   "cell_type": "code",
   "execution_count": 91,
   "outputs": [],
   "source": [
    "set_8_10 = []\n",
    "f1_8_10 = []\n",
    "list_of_classes = []\n",
    "list_of_features = [0]\n",
    "for i in range(1, 9):\n",
    "    list_of_classes.append(float(i))\n",
    "for i in range(1, 11):\n",
    "    list_of_features.append(int(i))\n",
    "true_class, model_class = mahalanobis_model(train, test, list_of_classes, list_of_features)\n",
    "balacc = balanced_accuracy_score(true_class, model_class)\n",
    "prec = f1_score(true_class, model_class, average='micro')\n",
    "f1_8_10.append(prec)\n",
    "set_8_10.append(balacc)"
   ],
   "metadata": {
    "collapsed": false,
    "pycharm": {
     "name": "#%%\n"
    }
   }
  },
  {
   "cell_type": "code",
   "execution_count": 92,
   "outputs": [
    {
     "data": {
      "text/plain": "<Figure size 1440x720 with 4 Axes>",
      "image/png": "[encoded data removed]"
     },
     "metadata": {
      "needs_background": "light"
     },
     "output_type": "display_data"
    }
   ],
   "source": [
    "import seaborn as sns\n",
    "fig, (ax1, ax2) = plt.subplots(1, 2, figsize=(20,10))\n",
    "\n",
    "data_set = pd.DataFrame([[set_8_2[0], set_8_5[0], set_8_10[0]],\n",
    "                     [set_4_2[0], set_4_5[0], set_4_10[0]],\n",
    "                      [set_2_2[0], set_2_5[0], set_2_10[0]]])\n",
    "\n",
    "data_f1 = pd.DataFrame([[f1_8_2[0], f1_8_5[0], f1_8_10[0]],\n",
    "                     [f1_4_2[0], f1_4_5[0], f1_4_10[0]],\n",
    "                      [f1_2_2[0], f1_2_5[0], f1_2_10[0]]])\n",
    "\n",
    "sns.heatmap(data_set, xticklabels=[2,5,10], yticklabels=[8,4,2], annot=True, vmin=0, vmax=1, ax=ax1)\n",
    "ax1.set_xlabel('Number of features')\n",
    "ax1.set_ylabel('Number of classes')\n",
    "ax1.set_title('Balanced accuracy score of models with different class numbers and feature numbers')\n",
    "\n",
    "sns.heatmap(data_f1, xticklabels=[2,5,10], yticklabels=[8,4,2], annot=True, vmin=0, vmax=1, ax=ax2)\n",
    "ax2.set_xlabel('Number of features')\n",
    "ax2.set_ylabel('Number of classes')\n",
    "ax2.set_title('F1 score of models with different class numbers and feature numbers')\n",
    "\n",
    "plt.show()"
   ],
   "metadata": {
    "collapsed": false,
    "pycharm": {
     "name": "#%%\n"
    }
   }
  },
  {
   "cell_type": "markdown",
   "source": [
    "Przedstawione wyniki zawierają te same dane wejściowe wkładane do modeli co w moim wykonaniu ćwiczenia 3 (kNN) - jest to podstawą do porównania tych wyników. Wyniki BAS i F1S modelu NM z zaimplementowaną odległością Mahalanobisa są zauważalnie wyższe niż analogiczne wyniki dla modelu kNN (gdzie k jest dowolną wartością, która daje maksymalny BAS i F1S w ćwiczeniu poprzednim). Dla porównania: Zestaw danych o liczbie klas = 8 i cech = 10 dał w modelu NM/M BAS równy 0.8, podczas gdy w ćwiczeniu poprzednim było to ok. 0.76. Pozostałe wyniki wykazują podobną tendencję - lepsze są modele NM/M. Interesującym faktem jest również to, że modele NM/M iterowane są dużo szybciej niż kNN (jest to coś co zauważyłem podczas tworzenia kodu, nie przeprowadzałem pomiarów szybkości). Dodatkowo w modelu NM/M nie musimy szukać optymalnej wartości liczby sąsiadów w porównaniu z modelem kNN, co również znacznie przyspiesza iterację kodu."
   ],
   "metadata": {
    "collapsed": false,
    "pycharm": {
     "name": "#%% md\n"
    }
   }
  }
 ],
 "metadata": {
  "author": {
   "email": "robert.susik@p.lodz.pl",
   "name": "Robert Susik"
  },
  "kernelspec": {
   "display_name": "Python 3 (ipykernel)",
   "language": "python",
   "name": "python3"
  },
  "language_info": {
   "codemirror_mode": {
    "name": "ipython",
    "version": 3
   },
   "file_extension": ".py",
   "mimetype": "text/x-python",
   "name": "python",
   "nbconvert_exporter": "python",
   "pygments_lexer": "ipython3",
   "version": "3.9.12"
  },
  "toc": {
   "base_numbering": 1,
   "nav_menu": {},
   "number_sections": true,
   "sideBar": true,
   "skip_h1_title": false,
   "title_cell": "Table of Contents",
   "title_sidebar": "Contents",
   "toc_cell": false,
   "toc_position": {},
   "toc_section_display": true,
   "toc_window_display": false
  }
 },
 "nbformat": 4,
 "nbformat_minor": 5
}