{
 "cells": [
  {
   "cell_type": "code",
   "execution_count": 3,
   "outputs": [],
   "source": [
    "import numpy as np\n",
    "import torch\n",
    "import torchvision\n",
    "from sklearn.metrics import balanced_accuracy_score\n",
    "from torchvision.transforms import transforms\n",
    "from tqdm import tqdm\n",
    "\n",
    "torch.manual_seed(2137)\n",
    "np.random.seed(2137)"
   ],
   "metadata": {
    "collapsed": false
   }
  },
  {
   "cell_type": "code",
   "execution_count": 44,
   "outputs": [],
   "source": [
    "def gate(a, b, weight_idx):\n",
    "    match weight_idx:\n",
    "        case 0:\n",
    "            return torch.zeros_like(a)\n",
    "        case 1:\n",
    "            return a * b\n",
    "        case 2:\n",
    "            return a - a * b\n",
    "        case 3:\n",
    "            return a\n",
    "        case 4:\n",
    "            return b - a * b\n",
    "        case 5:\n",
    "            return b\n",
    "        case 6:\n",
    "            return a + b - 2 * a * b\n",
    "        case 7:\n",
    "            return a + b - a * b\n",
    "        case 8:\n",
    "            return 1 - (a + b - a * b)\n",
    "        case 9:\n",
    "            return 1 - (a + b - 2 * a * b)\n",
    "        case 10:\n",
    "            return 1 - b\n",
    "        case 11:\n",
    "            return 1 - b + a * b\n",
    "        case 12:\n",
    "            return 1 - a\n",
    "        case 13:\n",
    "            return 1 - a + a * b\n",
    "        case 14:\n",
    "            return 1 - a * b\n",
    "        case 15:\n",
    "            return torch.ones_like(a)\n",
    "\n",
    "\n",
    "def gate_loop(a, b, weights):\n",
    "    gate_sum = torch.zeros_like(a)\n",
    "    for idx in range(16):\n",
    "        gate_output = gate(a, b, idx)\n",
    "        gate_sum = gate_sum + weights[..., idx] * gate_output\n",
    "    return gate_sum\n",
    "\n",
    "\n",
    "class LogicLayer(torch.nn.Module):\n",
    "    def __init__(self, input_dim: int, output_dim: int):\n",
    "\n",
    "        super().__init__()\n",
    "        self.weights = torch.nn.parameter.Parameter(torch.randn(output_dim, 16, device='cpu'))\n",
    "        self.input_dim = input_dim\n",
    "        self.output_dim = output_dim\n",
    "        self.indices = self.get_connections()\n",
    "        self.num_weights = output_dim * 16\n",
    "\n",
    "    def forward(self, x):\n",
    "\n",
    "        a, b = x[..., self.indices[0]], x[..., self.indices[1]]\n",
    "        if self.training:\n",
    "            x = gate_loop(a, b, torch.nn.functional.softmax(self.weights, dim=-1))\n",
    "        else:\n",
    "            weights = torch.nn.functional.one_hot(self.weights.argmax(-1), 16).to(torch.float32)\n",
    "            x = gate_loop(a, b, weights)\n",
    "        return x\n",
    "\n",
    "    def get_connections(self):\n",
    "        randomized_connections = torch.randperm(2 * self.output_dim) % self.input_dim\n",
    "        randomized_connections = torch.randperm(self.input_dim)[randomized_connections]\n",
    "        randomized_connections = randomized_connections.reshape(2, self.output_dim)\n",
    "        return randomized_connections[0], randomized_connections[1]\n",
    "\n",
    "\n",
    "class Pool(torch.nn.Module):\n",
    "    def __init__(self, class_count: int):\n",
    "        super().__init__()\n",
    "        self.class_count = class_count\n",
    "\n",
    "    def forward(self, x):\n",
    "        return x.reshape(*x.shape[:-1], self.class_count, x.shape[-1] // self.class_count).sum(-1)\n",
    "\n",
    "\n",
    "def load_dataset():\n",
    "    transform = transforms.Compose(\n",
    "        [transforms.ToTensor(),\n",
    "         transforms.Normalize((0.5,), (0.5,))])\n",
    "\n",
    "    training_set = torchvision.datasets.MNIST('./data', train=True, transform=transform, download=True)\n",
    "    test_set = torchvision.datasets.MNIST('./data', train=False, transform=transform, download=True)\n",
    "\n",
    "    training_loader = torch.utils.data.DataLoader(training_set, batch_size=4, shuffle=True, num_workers=2)\n",
    "    test_loader = torch.utils.data.DataLoader(test_set, batch_size=4, shuffle=False, num_workers=2)\n",
    "\n",
    "    return training_loader, test_loader\n",
    "\n",
    "\n",
    "def get_model(input_dim: int = 784, class_count: int = 10, num_neurons: int = 1000, num_layers: int = 5):\n",
    "    layers = [torch.nn.Flatten(), LogicLayer(input_dim=input_dim, output_dim=num_neurons)]\n",
    "\n",
    "    for _ in range(num_layers - 1):\n",
    "        layers.append(LogicLayer(input_dim=num_neurons, output_dim=num_neurons))\n",
    "\n",
    "    model = torch.nn.Sequential(\n",
    "        *layers,\n",
    "        Pool(class_count)\n",
    "    )\n",
    "\n",
    "    print(f'Total number of neurons: {sum(map(lambda x: x.output_dim, layers[1:-1]))}')\n",
    "    print(f'Total number of weights: {sum(map(lambda x: x.num_weights, layers[1:-1]))}')\n",
    "    model = model.to('cpu')\n",
    "    print(model)\n",
    "\n",
    "    loss_function = torch.nn.CrossEntropyLoss()\n",
    "    optimizer = torch.optim.Adam(model.parameters(), lr=0.01)\n",
    "    return model, loss_function, optimizer"
   ],
   "metadata": {
    "collapsed": false
   }
  },
  {
   "cell_type": "code",
   "execution_count": 11,
   "outputs": [
    {
     "name": "stdout",
     "output_type": "stream",
     "text": [
      "total_num_neurons=4000\n",
      "total_num_weights=64000\n",
      "Sequential(\n",
      "  (0): Flatten(start_dim=1, end_dim=-1)\n",
      "  (1): LogicLayer()\n",
      "  (2): LogicLayer()\n",
      "  (3): LogicLayer()\n",
      "  (4): LogicLayer()\n",
      "  (5): LogicLayer()\n",
      "  (6): Pool()\n",
      ")\n"
     ]
    },
    {
     "name": "stderr",
     "output_type": "stream",
     "text": [
      "Training samples: 100%|██████████| 15000/15000 [03:25<00:00, 73.10it/s]\n",
      "Test samples: 100%|██████████| 2500/2500 [00:15<00:00, 164.82it/s]"
     ]
    },
    {
     "name": "stdout",
     "output_type": "stream",
     "text": [
      "BAS: 0.934838112623747\n"
     ]
    },
    {
     "name": "stderr",
     "output_type": "stream",
     "text": [
      "\n"
     ]
    }
   ],
   "source": [
    "EPOCHS = 1\n",
    "\n",
    "train_loader_normal, test_loader_normal = load_dataset()\n",
    "model, loss_function, optimizer = get_model()\n",
    "\n",
    "for _ in range(EPOCHS):\n",
    "    for x, y in tqdm(train_loader_normal, desc='Training samples'):\n",
    "        x = model(x)\n",
    "        loss = loss_function(x, y)\n",
    "        optimizer.zero_grad()\n",
    "        loss.backward()\n",
    "        optimizer.step()\n",
    "\n",
    "predictions = []\n",
    "true_classes = []\n",
    "for x, y in tqdm(test_loader_normal, desc='Test samples'):\n",
    "    pred = model(x)\n",
    "    little_prediction = pred.detach().numpy()\n",
    "    little_classes = y.detach().numpy()\n",
    "    for idx in range(len(little_prediction)):\n",
    "        predictions.append(little_prediction[idx])\n",
    "        true_classes.append(little_classes[idx])\n",
    "\n",
    "class_predictions = np.argmax(predictions, axis=1)\n",
    "print(f'BAS: {balanced_accuracy_score(true_classes, class_predictions)}')"
   ],
   "metadata": {
    "collapsed": false
   }
  },
  {
   "cell_type": "code",
   "execution_count": 47,
   "outputs": [
    {
     "data": {
      "text/plain": "Parameter containing:\ntensor([[ 0.7712,  1.4397,  0.3112,  ..., -0.0861, -0.7762, -0.0353],\n        [ 2.1502,  0.0836, -1.5190,  ...,  0.0589,  0.1742, -1.3334],\n        [-0.5153,  0.6478, -0.4035,  ...,  2.2095,  0.3113,  0.4971],\n        ...,\n        [ 2.1622, -0.9785,  1.0241,  ..., -2.3893,  1.2172,  0.5777],\n        [-0.8328, -0.5419, -1.6354,  ..., -1.5718, -0.0921, -1.2927],\n        [-0.5824, -2.9019,  2.3534,  ..., -2.5869,  0.1001,  0.4956]],\n       requires_grad=True)"
     },
     "execution_count": 47,
     "metadata": {},
     "output_type": "execute_result"
    }
   ],
   "source": [
    "model[1].weights"
   ],
   "metadata": {
    "collapsed": false
   }
  },
  {
   "cell_type": "code",
   "execution_count": 5,
   "outputs": [],
   "source": [],
   "metadata": {
    "collapsed": false
   }
  }
 ],
 "metadata": {
  "kernelspec": {
   "display_name": "Python 3",
   "language": "python",
   "name": "python3"
  },
  "language_info": {
   "codemirror_mode": {
    "name": "ipython",
    "version": 2
   },
   "file_extension": ".py",
   "mimetype": "text/x-python",
   "name": "python",
   "nbconvert_exporter": "python",
   "pygments_lexer": "ipython2",
   "version": "2.7.6"
  }
 },
 "nbformat": 4,
 "nbformat_minor": 0
}
