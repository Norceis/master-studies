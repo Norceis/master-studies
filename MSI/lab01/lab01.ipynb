{
 "cells": [
  {
   "cell_type": "markdown",
   "source": [
    "Zaimplementuj własny model rozmyty. Możesz korzystać z bibliotek (numpy itp.) z wyłączeniem bibliotek implementujących systemy rozmyte.\n",
    "\n",
    "Model powinien pozwalać na:\n",
    "\n",
    "Zdefiniowanie zmiennych wejściowych wraz z ich zakresem.\n",
    "Zdefiniowanie na zmiennych wejściowych zbiorów rozmytych wraz z ich nazwą i kształtem funkcji przynależności (trójkątna i trapezoidalna)\n",
    "Zdefiniowanie reguł opierających się na zmiennych wejściowych i zbiorach na nich opisanych. Wyjście reguły jest wartością liczbową zmiennej wyjściowej (Model TSK 0-rzędu)\n",
    "Określenie stopnia prawdziwości poprzednika reguły\n",
    "Określenie wartości zmiennej wyjściowej w oparciu o model wnioskowania TSK\n",
    "Wykorzystaj zaimplementowany model do określenia wartości napiwku (procentowo, 0-15) na postawie jakości jedzenia (0-10) i jakości obsługi (0-10)."
   ],
   "metadata": {
    "collapsed": false,
    "pycharm": {
     "name": "#%% md\n"
    }
   }
  },
  {
   "cell_type": "code",
   "execution_count": 170,
   "metadata": {
    "collapsed": true,
    "pycharm": {
     "name": "#%%\n"
    }
   },
   "outputs": [],
   "source": [
    "import numpy as np\n",
    "import copy\n",
    "from matplotlib import pyplot as plt"
   ]
  },
  {
   "cell_type": "code",
   "execution_count": 171,
   "outputs": [],
   "source": [
    "class Rule():\n",
    "    def __init__(self, input_1=list, operator=str, input_2=list, output=list):\n",
    "        self.input_1 = input_1\n",
    "        self.input_2 = input_2\n",
    "        self.operator = operator\n",
    "        self.output = output\n",
    "\n",
    "\n",
    "class Input():\n",
    "    def __init__(self, input_range: np.ndarray, name: str):\n",
    "        self.input_range = input_range\n",
    "        self.name = name\n",
    "        self.poor = []\n",
    "        self.average = []\n",
    "        self.good = []\n",
    "        self.values = {'poor': self.poor, 'average': self.average, 'good': self.good}\n",
    "\n",
    "    def auto_tri(self):\n",
    "        x = self.input_range[-1]\n",
    "        self.poor = [0, 0, x / 2]\n",
    "        self.average = [0, x / 2, x]\n",
    "        self.good = [x / 2, x, x]\n",
    "        self.values = {'poor': self.poor, 'average': self.average, 'good': self.good}\n",
    "\n",
    "    def auto_tra(self):\n",
    "        x = self.input_range[-1]\n",
    "        bias = x / 5\n",
    "        self.poor = [0, 0, bias, x / 2 - bias / 2]\n",
    "        self.average = [bias, x / 2 - bias / 2, x / 2 + bias / 2, x - bias]\n",
    "        self.good = [x / 2 + bias / 2, x - bias, x, x]\n",
    "        self.values = {'poor': self.poor, 'average': self.average, 'good': self.good}\n",
    "\n",
    "\n",
    "class Output():\n",
    "    def __init__(self, input_range: np.ndarray, name: str):\n",
    "        self.input_range = input_range\n",
    "        self.name = name\n",
    "        self.poor = []\n",
    "        self.average = []\n",
    "        self.good = []\n",
    "        self.values = {'poor': self.poor, 'average': self.average, 'good': self.good}\n",
    "\n",
    "    def auto_tri(self):\n",
    "        x = self.input_range[-1]\n",
    "        self.poor = [0, 0, x / 2]\n",
    "        self.average = [0, x / 2, x]\n",
    "        self.good = [x / 2, x, x]\n",
    "        self.values = {'poor': self.poor, 'average': self.average, 'good': self.good}\n",
    "\n",
    "    def auto_tra(self):\n",
    "        x = self.input_range[-1]\n",
    "        bias = x / 5\n",
    "        self.poor = [0, 0, bias, x / 2 - bias / 2]\n",
    "        self.average = [bias, x / 2 - bias / 2, x / 2 + bias / 2, x - bias]\n",
    "        self.good = [x / 2 + bias / 2, x - bias, x, x]\n",
    "        self.values = {'poor': self.poor, 'average': self.average, 'good': self.good}\n",
    "\n",
    "\n",
    "class FuzzyModel():\n",
    "    def __init__(self, inputs_values: dict, inputs_dict: dict, rules: list, output: Output):\n",
    "        self.rules = rules\n",
    "        self.inputs_dict = inputs_dict\n",
    "        self.output = output\n",
    "        self.inputs_values = inputs_values\n",
    "        self.inputs_membered = dict()\n",
    "        self.y_array = None\n",
    "        self.template_array = None\n",
    "\n",
    "    def singular_membership(self, value: float, ranges: list) -> float:\n",
    "        if len(ranges) == 3:\n",
    "            a, b, c = ranges\n",
    "\n",
    "            if value <= b:\n",
    "                max_value = b - value\n",
    "                min_value = value - a\n",
    "                sum_values = min_value + max_value\n",
    "                if sum_values == 0:\n",
    "                    return 1\n",
    "                membership = round(min_value / sum_values, 5)\n",
    "                if membership < 0: return 0\n",
    "                return membership\n",
    "\n",
    "            max_value = c - value\n",
    "            min_value = value - b\n",
    "            sum_values = min_value + max_value\n",
    "            if sum_values == 0:\n",
    "                return 1\n",
    "            membership = round(max_value / sum_values, 5)\n",
    "            if membership < 0: return 0\n",
    "            return membership\n",
    "\n",
    "        elif len(ranges) == 4:\n",
    "            a, b, c, d = ranges\n",
    "\n",
    "            if b < value <= c:\n",
    "                return 1\n",
    "\n",
    "            elif c < value <= d:\n",
    "                max_value = d - value\n",
    "                min_value = value - c\n",
    "                sum_values = min_value + max_value\n",
    "                if sum_values == 0:\n",
    "                    return 1\n",
    "                membership = round(max_value / sum_values, 5)\n",
    "                return membership\n",
    "\n",
    "            elif a < value <= b:\n",
    "                max_value = b - value\n",
    "                min_value = value - a\n",
    "                sum_values = min_value + max_value\n",
    "                if sum_values == 0:\n",
    "                    return 1\n",
    "                membership = round(min_value / sum_values, 5)\n",
    "                return membership\n",
    "\n",
    "            return 0\n",
    "\n",
    "    def membership_function(self):\n",
    "        for input in list(self.inputs_values.keys()):\n",
    "            inputs_membered_dict = dict()\n",
    "            for fuzzy_variable in self.inputs_dict[input].values.items():\n",
    "                inputs_membered_dict[fuzzy_variable[0]] = (\n",
    "                    self.singular_membership(self.inputs_values[input], fuzzy_variable[1]))\n",
    "\n",
    "            self.inputs_membered[input] = inputs_membered_dict\n",
    "\n",
    "    def deposit_rule_on_output(self, global_y_array: np.array, rule: Rule):\n",
    "\n",
    "        index_output = list(self.output.values.keys()).index(rule.output[1])\n",
    "\n",
    "        match rule.operator:\n",
    "            case 'AND':\n",
    "                cut = min(self.inputs_membered[rule.input_1[0]][rule.input_1[1]],\n",
    "                          self.inputs_membered[rule.input_2[0]][rule.input_2[1]])\n",
    "            case 'OR':\n",
    "                cut = max(self.inputs_membered[rule.input_1[0]][rule.input_1[1]],\n",
    "                          self.inputs_membered[rule.input_2[0]][rule.input_2[1]])\n",
    "\n",
    "        cut_y_array = np.where(self.template_array[index_output] > cut, cut, self.template_array[index_output])\n",
    "        return np.where(global_y_array >= cut_y_array, global_y_array, cut_y_array)\n",
    "\n",
    "    def create_template_outcome_arrays(self):\n",
    "        x_array = copy.deepcopy(self.output.input_range)\n",
    "        number_of_categories = len(self.output.values.keys())\n",
    "        self.template_array = np.zeros((number_of_categories, len(x_array)))\n",
    "\n",
    "        for category in range(number_of_categories):\n",
    "            for sample in range(len(x_array)):\n",
    "                self.template_array[category, sample] = self.singular_membership(x_array[sample],\n",
    "                                                                                 list(self.output.values.values())[category])\n",
    "\n",
    "    def calculate(self):\n",
    "        global_y_array = np.zeros(self.output.input_range.shape[0])\n",
    "\n",
    "        for rule in self.rules:\n",
    "            global_y_array = self.deposit_rule_on_output(global_y_array, rule)\n",
    "\n",
    "        self.y_array = global_y_array\n",
    "\n",
    "    def output_value(self):\n",
    "        value = 0\n",
    "        value += sum([self.output.input_range[x] * self.y_array[x] for x in range(len(self.output.input_range))])\n",
    "\n",
    "        return round(value / sum(self.y_array), 2)"
   ],
   "metadata": {
    "collapsed": false,
    "pycharm": {
     "name": "#%%\n"
    }
   }
  },
  {
   "cell_type": "code",
   "execution_count": 172,
   "outputs": [],
   "source": [
    "quality = Input(np.arange(0, 10.1, 0.1), 'quality')\n",
    "service = Input(np.arange(0, 10.1, 0.1), 'service')\n",
    "tip = Output(np.arange(0, 15.1, 0.1), 'tip')\n",
    "\n",
    "inputs_dict = {quality.name: quality,\n",
    "               service.name: service,\n",
    "               }"
   ],
   "metadata": {
    "collapsed": false,
    "pycharm": {
     "name": "#%%\n"
    }
   }
  },
  {
   "cell_type": "code",
   "execution_count": 173,
   "outputs": [],
   "source": [
    "quality.auto_tra()\n",
    "service.auto_tra()\n",
    "tip.auto_tra()"
   ],
   "metadata": {
    "collapsed": false,
    "pycharm": {
     "name": "#%%\n"
    }
   }
  },
  {
   "cell_type": "code",
   "execution_count": 174,
   "outputs": [],
   "source": [
    "inputs_values = {'quality': 4.87,\n",
    "                 'service': 7.41}\n",
    "\n",
    "rules = [Rule(['quality', 'poor'], 'AND', ['service', 'poor'], ['tip', 'poor']),\n",
    "         Rule(['quality', 'poor'], 'AND', ['service', 'average'], ['tip', 'poor']),\n",
    "         Rule(['quality', 'average'], 'AND', ['service', 'poor'], ['tip', 'poor']),\n",
    "         Rule(['quality', 'poor'], 'AND', ['service', 'good'], ['tip', 'average']),\n",
    "         Rule(['quality', 'good'], 'AND', ['service', 'poor'], ['tip', 'average']),\n",
    "         Rule(['quality', 'average'], 'AND', ['service', 'average'], ['tip', 'average']),\n",
    "         Rule(['quality', 'good'], 'AND', ['service', 'average'], ['tip', 'good']),\n",
    "         Rule(['quality', 'average'], 'AND', ['service', 'good'], ['tip', 'good']),\n",
    "         Rule(['quality', 'good'], 'AND', ['service', 'good'], ['tip', 'good']),\n",
    "         ]"
   ],
   "metadata": {
    "collapsed": false,
    "pycharm": {
     "name": "#%%\n"
    }
   }
  },
  {
   "cell_type": "code",
   "execution_count": 175,
   "outputs": [
    {
     "data": {
      "text/plain": "{'quality': {'poor': 0, 'average': 1, 'good': 0},\n 'service': {'poor': 0, 'average': 0.295, 'good': 0.705}}"
     },
     "execution_count": 175,
     "metadata": {},
     "output_type": "execute_result"
    }
   ],
   "source": [
    "model = FuzzyModel(inputs_values=inputs_values, inputs_dict=inputs_dict, rules=[], output=tip)\n",
    "model.membership_function()\n",
    "model.inputs_membered"
   ],
   "metadata": {
    "collapsed": false,
    "pycharm": {
     "name": "#%%\n"
    }
   }
  },
  {
   "cell_type": "code",
   "execution_count": 176,
   "outputs": [],
   "source": [
    "model.create_template_outcome_arrays()"
   ],
   "metadata": {
    "collapsed": false,
    "pycharm": {
     "name": "#%%\n"
    }
   }
  },
  {
   "cell_type": "code",
   "execution_count": 177,
   "outputs": [],
   "source": [
    "model.calculate()"
   ],
   "metadata": {
    "collapsed": false,
    "pycharm": {
     "name": "#%%\n"
    }
   }
  },
  {
   "cell_type": "code",
   "execution_count": 178,
   "outputs": [
    {
     "name": "stdout",
     "output_type": "stream",
     "text": [
      "Tip should be 10.48\n"
     ]
    }
   ],
   "source": [
    "print(f'Tip should be {model.output_value()}')"
   ],
   "metadata": {
    "collapsed": false,
    "pycharm": {
     "name": "#%%\n"
    }
   }
  },
  {
   "cell_type": "code",
   "execution_count": 182,
   "outputs": [
    {
     "data": {
      "text/plain": "<Figure size 640x480 with 1 Axes>",
      "image/png": "[encoded data removed]"
     },
     "metadata": {},
     "output_type": "display_data"
    }
   ],
   "source": [
    "plt.title('Model TSK')\n",
    "plt.plot(model.output.input_range, model.y_array)\n",
    "plt.show()"
   ],
   "metadata": {
    "collapsed": false,
    "pycharm": {
     "name": "#%%\n"
    }
   }
  },
  {
   "cell_type": "code",
   "execution_count": 180,
   "outputs": [
    {
     "data": {
      "text/plain": "{'quality': {'poor': 0, 'average': 1, 'good': 0},\n 'service': {'poor': 0, 'average': 0.295, 'good': 0.705}}"
     },
     "execution_count": 180,
     "metadata": {},
     "output_type": "execute_result"
    }
   ],
   "source": [
    "model.inputs_membered"
   ],
   "metadata": {
    "collapsed": false,
    "pycharm": {
     "name": "#%%\n"
    }
   }
  },
  {
   "cell_type": "code",
   "execution_count": 180,
   "outputs": [],
   "source": [],
   "metadata": {
    "collapsed": false,
    "pycharm": {
     "name": "#%%\n"
    }
   }
  }
 ],
 "metadata": {
  "kernelspec": {
   "display_name": "Python 3",
   "language": "python",
   "name": "python3"
  },
  "language_info": {
   "codemirror_mode": {
    "name": "ipython",
    "version": 2
   },
   "file_extension": ".py",
   "mimetype": "text/x-python",
   "name": "python",
   "nbconvert_exporter": "python",
   "pygments_lexer": "ipython2",
   "version": "2.7.6"
  }
 },
 "nbformat": 4,
 "nbformat_minor": 0
}