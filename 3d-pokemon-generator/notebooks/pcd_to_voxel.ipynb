{
 "cells": [
  {
   "cell_type": "code",
   "execution_count": 2,
   "metadata": {
    "ExecuteTime": {
     "end_time": "2023-05-14T17:48:56.102097200Z",
     "start_time": "2023-05-14T17:48:56.085058300Z"
    },
    "collapsed": true
   },
   "outputs": [],
   "source": [
    "import numpy as np\n",
    "import open3d as o3d\n",
    "import os\n",
    "import pandas as pd\n",
    "from tqdm import tqdm\n",
    "import pickle\n",
    "from collections import defaultdict\n",
    "\n",
    "o3d.utility.set_verbosity_level(o3d.cpu.pybind.utility.VerbosityLevel(0))"
   ]
  },
  {
   "cell_type": "code",
   "execution_count": 3,
   "metadata": {
    "ExecuteTime": {
     "end_time": "2023-05-14T18:02:42.682260400Z",
     "start_time": "2023-05-14T18:02:15.565190900Z"
    },
    "collapsed": false
   },
   "outputs": [],
   "source": [
    "dataset = pd.read_pickle('../data/4877.pickle')"
   ]
  },
  {
   "cell_type": "code",
   "execution_count": 23,
   "metadata": {},
   "outputs": [],
   "source": [
    "def pcd_to_voxel(xyz, dim_size=128, full_volume=False, plot=False):\n",
    "\n",
    "    if full_volume:\n",
    "        # scale in every dimension separatly to fit in the volume\n",
    "        for d in range(3):\n",
    "            dmin = xyz[:,d].min()\n",
    "            dmax = xyz[:,d].max()\n",
    "            xyz[:,d] = (xyz[:,d] - dmin) / (dmax - dmin) * dim_size\n",
    "    else:\n",
    "        # scale every dimension by the same factor to preserve aspect ratio\n",
    "        ratio = float('inf')\n",
    "\n",
    "        for d in range(3):\n",
    "            dmin = xyz[:,d].min()\n",
    "            dmax = xyz[:,d].max()\n",
    "            cand_ratio = dim_size/(dmax - dmin)\n",
    "            if ratio > cand_ratio:\n",
    "                ratio = cand_ratio\n",
    "            xyz[:,d] = (xyz[:,d] - dmin)  \n",
    "\n",
    "        xyz *= ratio\n",
    "        # and center the object in just one plane\n",
    "        for d in [0,2]:\n",
    "            dmin = xyz[:,d].min()\n",
    "            dmax = xyz[:,d].max()\n",
    "            xyz[:,d] += (dim_size - (dmax - dmin))/2\n",
    "\n",
    "    xyz = np.rint(xyz)\n",
    "    pcd = o3d.geometry.PointCloud()\n",
    "    pcd.points = o3d.utility.Vector3dVector(xyz)\n",
    "\n",
    "    if plot:\n",
    "        bbox = o3d.geometry.AxisAlignedBoundingBox(np.array([0,0,0]), np.array([dim_size,dim_size,dim_size]))\n",
    "        bbox.color = (255,0,0)\n",
    "        o3d.visualization.draw_geometries([pcd, bbox])\n",
    "\n",
    "    return pcd"
   ]
  },
  {
   "cell_type": "code",
   "execution_count": 26,
   "metadata": {},
   "outputs": [
    {
     "name": "stderr",
     "output_type": "stream",
     "text": [
      "100%|██████████| 4877/4877 [01:01<00:00, 78.98it/s] \n"
     ]
    }
   ],
   "source": [
    "normalized_pcds = []\n",
    "\n",
    "# iterate over dataframe and convert each pointcloud to voxel, add to new column in dataframe\n",
    "for i in tqdm(range(len(dataset))):\n",
    "    xyz = dataset.loc[i]['Points_coordinates'].copy()\n",
    "    normalized_pcds.append(pcd_to_voxel(xyz, dim_size=128, full_volume=False, plot=False))\n",
    "\n",
    "dataset['voxel'] = normalized_pcds"
   ]
  }
 ],
 "metadata": {
  "kernelspec": {
   "display_name": "Python 3",
   "language": "python",
   "name": "python3"
  },
  "language_info": {
   "codemirror_mode": {
    "name": "ipython",
    "version": 3
   },
   "file_extension": ".py",
   "mimetype": "text/x-python",
   "name": "python",
   "nbconvert_exporter": "python",
   "pygments_lexer": "ipython3",
   "version": "3.10.6"
  }
 },
 "nbformat": 4,
 "nbformat_minor": 0
}
