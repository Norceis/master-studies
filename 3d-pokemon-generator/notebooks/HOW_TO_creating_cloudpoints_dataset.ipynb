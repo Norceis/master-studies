{
 "cells": [
  {
   "cell_type": "code",
   "execution_count": 125,
   "metadata": {
    "collapsed": true,
    "ExecuteTime": {
     "end_time": "2023-05-14T17:48:56.102097200Z",
     "start_time": "2023-05-14T17:48:56.085058300Z"
    }
   },
   "outputs": [],
   "source": [
    "import numpy as np\n",
    "import open3d as o3d\n",
    "import os\n",
    "import pandas as pd\n",
    "from tqdm import tqdm\n",
    "import pickle\n",
    "from collections import defaultdict\n",
    "\n",
    "o3d.utility.set_verbosity_level(o3d.cpu.pybind.utility.VerbosityLevel(0))"
   ]
  },
  {
   "cell_type": "code",
   "execution_count": 11,
   "outputs": [],
   "source": [
    "pokedex = pd.read_csv('E:\\\\3d-pokemon-generator\\data\\Pokedex_Ver_SV2.csv') # path to your csv file\n",
    "pokedex = pokedex[['Original_Name', 'Type1', 'Type2']].drop_duplicates('Original_Name').reset_index(drop=True)"
   ],
   "metadata": {
    "collapsed": false,
    "ExecuteTime": {
     "end_time": "2023-05-14T16:50:46.665357200Z",
     "start_time": "2023-05-14T16:50:46.642372900Z"
    }
   }
  },
  {
   "cell_type": "code",
   "execution_count": 95,
   "outputs": [],
   "source": [
    "dirs = []\n",
    "names = []\n",
    "types = []\n",
    "\n",
    "for root_dir, cur_dir, files in os.walk(r'E:\\3d-pokemon-generator\\data\\modele_pokemon'): # path to your modele_pokemon folder\n",
    "    for file in files:\n",
    "        if file.endswith('.obj') or file.endswith('.OBJ'):\n",
    "            for idx, name in enumerate(pokedex['Original_Name']):\n",
    "                if name.lower() in root_dir.lower():\n",
    "                    names.append(name)\n",
    "                    types.append(pokedex.loc[idx][1])\n",
    "                    dirs.append(root_dir + '\\\\' + file)\n",
    "\n",
    "                    if str(pokedex.loc[idx][2]) != 'nan':\n",
    "                        names.append(name)\n",
    "                        types.append(pokedex.loc[idx][2])\n",
    "                        dirs.append(root_dir + '\\\\' + file)\n",
    "\n",
    "                    break"
   ],
   "metadata": {
    "collapsed": false,
    "ExecuteTime": {
     "end_time": "2023-05-14T17:25:10.499018100Z",
     "start_time": "2023-05-14T17:25:08.357002500Z"
    }
   }
  },
  {
   "cell_type": "code",
   "execution_count": 138,
   "outputs": [
    {
     "name": "stderr",
     "output_type": "stream",
     "text": [
      "100%|██████████| 4885/4885 [01:52<00:00, 43.35it/s]\n"
     ]
    }
   ],
   "source": [
    "dataset = pd.DataFrame(columns=['Name', 'Type', 'Points_coordinates'])\n",
    "\n",
    "for sample_idx in tqdm(range(len(names))):\n",
    "    try:\n",
    "        textured_mesh = o3d.io.read_triangle_mesh(dirs[sample_idx])\n",
    "        pcd = textured_mesh.sample_points_uniformly(number_of_points=20000)\n",
    "        pure_array = np.array(pcd.points)\n",
    "\n",
    "        dataset.loc[sample_idx] = [names[sample_idx], types[sample_idx], pure_array]\n",
    "    except RuntimeError:\n",
    "        pass\n",
    "\n",
    "dataset.reset_index(inplace=True, drop=True)"
   ],
   "metadata": {
    "collapsed": false,
    "ExecuteTime": {
     "end_time": "2023-05-14T18:01:48.515808500Z",
     "start_time": "2023-05-14T17:59:55.209525300Z"
    }
   }
  },
  {
   "cell_type": "code",
   "execution_count": 139,
   "outputs": [
    {
     "data": {
      "text/plain": "           Name      Type                                 Points_coordinates\n0      Squirtle     Water  [[0.9300414219934687, 3.863947015429417, 2.252...\n1       Pikachu  Electric  [[-7.001530540729028, 18.34376707098572, 1.859...\n2       Pikachu  Electric  [[0.0029545852310238737, 20.549869980770723, 7...\n3       Pikachu  Electric  [[-0.14823590880304008, 20.70945511690288, 7.9...\n4       Pikachu  Electric  [[-0.09233796966611395, 6.18907922519907, 2.84...\n...         ...       ...                                                ...\n4880    Panpour     Water  [[4.129633589832427, 49.915269048591966, 1.861...\n4881   Simipour     Water  [[-56.27355224922986, 60.295405577985, 13.2092...\n4882     Woobat   Psychic  [[8.954510301072329, 19.588021050082762, 18.15...\n4883     Woobat    Flying  [[8.94283310289448, 19.60570145736483, 18.1798...\n4884  Vanillish       Ice  [[-0.3620126967605483, 84.58333031114663, 16.0...\n\n[4877 rows x 3 columns]",
      "text/html": "<div>\n<style scoped>\n    .dataframe tbody tr th:only-of-type {\n        vertical-align: middle;\n    }\n\n    .dataframe tbody tr th {\n        vertical-align: top;\n    }\n\n    .dataframe thead th {\n        text-align: right;\n    }\n</style>\n<table border=\"1\" class=\"dataframe\">\n  <thead>\n    <tr style=\"text-align: right;\">\n      <th></th>\n      <th>Name</th>\n      <th>Type</th>\n      <th>Points_coordinates</th>\n    </tr>\n  </thead>\n  <tbody>\n    <tr>\n      <th>0</th>\n      <td>Squirtle</td>\n      <td>Water</td>\n      <td>[[0.9300414219934687, 3.863947015429417, 2.252...</td>\n    </tr>\n    <tr>\n      <th>1</th>\n      <td>Pikachu</td>\n      <td>Electric</td>\n      <td>[[-7.001530540729028, 18.34376707098572, 1.859...</td>\n    </tr>\n    <tr>\n      <th>2</th>\n      <td>Pikachu</td>\n      <td>Electric</td>\n      <td>[[0.0029545852310238737, 20.549869980770723, 7...</td>\n    </tr>\n    <tr>\n      <th>3</th>\n      <td>Pikachu</td>\n      <td>Electric</td>\n      <td>[[-0.14823590880304008, 20.70945511690288, 7.9...</td>\n    </tr>\n    <tr>\n      <th>4</th>\n      <td>Pikachu</td>\n      <td>Electric</td>\n      <td>[[-0.09233796966611395, 6.18907922519907, 2.84...</td>\n    </tr>\n    <tr>\n      <th>...</th>\n      <td>...</td>\n      <td>...</td>\n      <td>...</td>\n    </tr>\n    <tr>\n      <th>4880</th>\n      <td>Panpour</td>\n      <td>Water</td>\n      <td>[[4.129633589832427, 49.915269048591966, 1.861...</td>\n    </tr>\n    <tr>\n      <th>4881</th>\n      <td>Simipour</td>\n      <td>Water</td>\n      <td>[[-56.27355224922986, 60.295405577985, 13.2092...</td>\n    </tr>\n    <tr>\n      <th>4882</th>\n      <td>Woobat</td>\n      <td>Psychic</td>\n      <td>[[8.954510301072329, 19.588021050082762, 18.15...</td>\n    </tr>\n    <tr>\n      <th>4883</th>\n      <td>Woobat</td>\n      <td>Flying</td>\n      <td>[[8.94283310289448, 19.60570145736483, 18.1798...</td>\n    </tr>\n    <tr>\n      <th>4884</th>\n      <td>Vanillish</td>\n      <td>Ice</td>\n      <td>[[-0.3620126967605483, 84.58333031114663, 16.0...</td>\n    </tr>\n  </tbody>\n</table>\n<p>4877 rows × 3 columns</p>\n</div>"
     },
     "execution_count": 139,
     "metadata": {},
     "output_type": "execute_result"
    }
   ],
   "source": [
    "dataset"
   ],
   "metadata": {
    "collapsed": false,
    "ExecuteTime": {
     "end_time": "2023-05-14T18:01:49.028358Z",
     "start_time": "2023-05-14T18:01:48.654651700Z"
    }
   }
  },
  {
   "cell_type": "code",
   "execution_count": 140,
   "outputs": [],
   "source": [
    "dataset.to_pickle('../data/preprocessed_samples/4877.pickle')"
   ],
   "metadata": {
    "collapsed": false,
    "ExecuteTime": {
     "end_time": "2023-05-14T18:02:15.550933400Z",
     "start_time": "2023-05-14T18:01:49.028811Z"
    }
   }
  },
  {
   "cell_type": "code",
   "execution_count": 141,
   "outputs": [],
   "source": [
    "dataset = pd.read_pickle('../data/preprocessed_samples/4877.pickle')"
   ],
   "metadata": {
    "collapsed": false,
    "ExecuteTime": {
     "end_time": "2023-05-14T18:02:42.682260400Z",
     "start_time": "2023-05-14T18:02:15.565190900Z"
    }
   }
  },
  {
   "cell_type": "code",
   "execution_count": null,
   "outputs": [],
   "source": [],
   "metadata": {
    "collapsed": false
   }
  }
 ],
 "metadata": {
  "kernelspec": {
   "display_name": "Python 3",
   "language": "python",
   "name": "python3"
  },
  "language_info": {
   "codemirror_mode": {
    "name": "ipython",
    "version": 2
   },
   "file_extension": ".py",
   "mimetype": "text/x-python",
   "name": "python",
   "nbconvert_exporter": "python",
   "pygments_lexer": "ipython2",
   "version": "2.7.6"
  }
 },
 "nbformat": 4,
 "nbformat_minor": 0
}
