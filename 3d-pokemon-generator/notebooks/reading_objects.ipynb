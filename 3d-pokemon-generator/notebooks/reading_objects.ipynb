{
 "cells": [
  {
   "cell_type": "code",
   "execution_count": 64,
   "metadata": {
    "collapsed": true,
    "ExecuteTime": {
     "end_time": "2023-05-14T18:08:28.564268600Z",
     "start_time": "2023-05-14T18:08:28.487039300Z"
    }
   },
   "outputs": [],
   "source": [
    "import numpy as np\n",
    "import pyvista as pv\n",
    "import open3d as o3d\n",
    "import os\n",
    "from collections import defaultdict"
   ]
  },
  {
   "cell_type": "code",
   "execution_count": 65,
   "outputs": [
    {
     "name": "stdout",
     "output_type": "stream",
     "text": [
      "file count: dict_items([('zip', 2612), ('dae', 4040), ('fbx', 445), ('mtl', 3080), ('obj', 3388), ('smd', 1128), ('psk', 351), ('DAE', 603), ('SMD', 758), ('FBX', 502)])\n"
     ]
    }
   ],
   "source": [
    "types = defaultdict(lambda: 0)\n",
    "for root_dir, cur_dir, files in os.walk(r'E:\\3d-pokemon-generator\\data\\modele_pokemon'):\n",
    "    for file in files:\n",
    "        types[file[-3:]] += 1\n",
    "    # print(files)\n",
    "print('file count:', types.items())"
   ],
   "metadata": {
    "collapsed": false,
    "ExecuteTime": {
     "end_time": "2023-05-14T18:08:32.412685700Z",
     "start_time": "2023-05-14T18:08:29.492744100Z"
    }
   }
  },
  {
   "cell_type": "code",
   "execution_count": 66,
   "outputs": [],
   "source": [
    "dae_dirs = []\n",
    "for root_dir, cur_dir, files in os.walk(r'E:\\3d-pokemon-generator\\data\\modele_pokemon'):\n",
    "    for file in files:\n",
    "        if file.endswith('.obj') or file.endswith('.OBJ'):\n",
    "            dae_dirs.append(root_dir + '\\\\' + file)"
   ],
   "metadata": {
    "collapsed": false,
    "ExecuteTime": {
     "end_time": "2023-05-14T18:08:33.586781800Z",
     "start_time": "2023-05-14T18:08:32.390686300Z"
    }
   }
  },
  {
   "cell_type": "code",
   "execution_count": 67,
   "outputs": [
    {
     "data": {
      "text/plain": "'E:\\\\3d-pokemon-generator\\\\data\\\\modele_pokemon\\\\PokemonBattle\\\\models\\\\Wii - Pokemon Battle Revolution - 141 Kabutops.zip\\\\collision.obj'"
     },
     "execution_count": 67,
     "metadata": {},
     "output_type": "execute_result"
    }
   ],
   "source": [
    "sample_id = 500\n",
    "dae_dirs[sample_id]"
   ],
   "metadata": {
    "collapsed": false,
    "ExecuteTime": {
     "end_time": "2023-05-14T18:08:33.633783600Z",
     "start_time": "2023-05-14T18:08:33.586781800Z"
    }
   }
  },
  {
   "cell_type": "code",
   "execution_count": 68,
   "outputs": [],
   "source": [
    "textured_mesh = o3d.io.read_triangle_mesh(dae_dirs[sample_id])"
   ],
   "metadata": {
    "collapsed": false,
    "ExecuteTime": {
     "end_time": "2023-05-14T18:08:35.038712700Z",
     "start_time": "2023-05-14T18:08:34.276860700Z"
    }
   }
  },
  {
   "cell_type": "code",
   "execution_count": 69,
   "outputs": [
    {
     "name": "stdout",
     "output_type": "stream",
     "text": [
      "TriangleMesh with 1464 points and 494 triangles.\n"
     ]
    }
   ],
   "source": [
    "print(textured_mesh)"
   ],
   "metadata": {
    "collapsed": false,
    "ExecuteTime": {
     "end_time": "2023-05-14T18:08:35.858790200Z",
     "start_time": "2023-05-14T18:08:35.834778400Z"
    }
   }
  },
  {
   "cell_type": "code",
   "execution_count": 70,
   "outputs": [
    {
     "data": {
      "text/plain": "open3d.cpu.pybind.geometry.TriangleMesh"
     },
     "execution_count": 70,
     "metadata": {},
     "output_type": "execute_result"
    }
   ],
   "source": [
    "type(textured_mesh)"
   ],
   "metadata": {
    "collapsed": false,
    "ExecuteTime": {
     "end_time": "2023-05-14T18:08:36.475027Z",
     "start_time": "2023-05-14T18:08:36.452029400Z"
    }
   }
  },
  {
   "cell_type": "code",
   "execution_count": 71,
   "outputs": [],
   "source": [
    "o3d.visualization.draw_geometries([textured_mesh])"
   ],
   "metadata": {
    "collapsed": false,
    "ExecuteTime": {
     "end_time": "2023-05-14T18:08:39.952163300Z",
     "start_time": "2023-05-14T18:08:37.065124600Z"
    }
   }
  },
  {
   "cell_type": "code",
   "execution_count": 58,
   "outputs": [],
   "source": [
    "pcd = textured_mesh.sample_points_uniformly(number_of_points=50000)\n",
    "o3d.visualization.draw_geometries([pcd])"
   ],
   "metadata": {
    "collapsed": false,
    "ExecuteTime": {
     "end_time": "2023-05-14T16:34:17.199680100Z",
     "start_time": "2023-05-14T16:34:09.988301100Z"
    }
   }
  },
  {
   "cell_type": "code",
   "execution_count": 72,
   "outputs": [],
   "source": [
    "pure_array = np.array(pcd.points)"
   ],
   "metadata": {
    "collapsed": false,
    "ExecuteTime": {
     "end_time": "2023-05-14T18:08:44.467825200Z",
     "start_time": "2023-05-14T18:08:44.316826Z"
    }
   }
  },
  {
   "cell_type": "code",
   "execution_count": 60,
   "outputs": [
    {
     "data": {
      "text/plain": "array([[ 0.51346261,  6.09531733, -2.69669292],\n       [ 0.50689321,  5.99036772, -2.7556131 ],\n       [ 0.4073805 ,  5.58012098, -3.00849112],\n       ...,\n       [-1.52215362,  7.0585873 , -2.3106998 ],\n       [-1.83884275,  6.51404826, -2.15496917],\n       [-1.50142816,  6.96889239, -2.32640067]])"
     },
     "execution_count": 60,
     "metadata": {},
     "output_type": "execute_result"
    }
   ],
   "source": [
    "pure_array"
   ],
   "metadata": {
    "collapsed": false,
    "ExecuteTime": {
     "end_time": "2023-05-14T16:34:20.070841600Z",
     "start_time": "2023-05-14T16:34:20.054842700Z"
    }
   }
  },
  {
   "cell_type": "code",
   "execution_count": 61,
   "outputs": [
    {
     "name": "stdout",
     "output_type": "stream",
     "text": [
      "-6.983809575313725 13.171890348014376\n"
     ]
    }
   ],
   "source": [
    "print(pure_array.min(), pure_array.max())"
   ],
   "metadata": {
    "collapsed": false,
    "ExecuteTime": {
     "end_time": "2023-05-14T16:34:23.666438100Z",
     "start_time": "2023-05-14T16:34:23.659440900Z"
    }
   }
  },
  {
   "cell_type": "code",
   "execution_count": 63,
   "outputs": [],
   "source": [
    "np.savetxt('kabutops.txt', pure_array)"
   ],
   "metadata": {
    "collapsed": false,
    "ExecuteTime": {
     "end_time": "2023-05-14T17:01:47.943195400Z",
     "start_time": "2023-05-14T17:01:47.653195900Z"
    }
   }
  },
  {
   "cell_type": "code",
   "execution_count": 79,
   "outputs": [],
   "source": [
    "point_cloud = o3d.cpu.pybind.geometry.PointCloud()\n",
    "point_cloud.points = o3d.utility.Vector3dVector(pure_array)\n",
    "o3d.visualization.draw_geometries([point_cloud])"
   ],
   "metadata": {
    "collapsed": false,
    "ExecuteTime": {
     "end_time": "2023-05-14T18:27:28.549812800Z",
     "start_time": "2023-05-14T18:27:28.518756Z"
    }
   }
  },
  {
   "cell_type": "code",
   "execution_count": 78,
   "outputs": [],
   "source": [],
   "metadata": {
    "collapsed": false,
    "ExecuteTime": {
     "end_time": "2023-05-14T18:11:07.819691500Z",
     "start_time": "2023-05-14T18:11:04.918546900Z"
    }
   }
  },
  {
   "cell_type": "code",
   "execution_count": null,
   "outputs": [],
   "source": [],
   "metadata": {
    "collapsed": false
   }
  }
 ],
 "metadata": {
  "kernelspec": {
   "display_name": "Python 3",
   "language": "python",
   "name": "python3"
  },
  "language_info": {
   "codemirror_mode": {
    "name": "ipython",
    "version": 2
   },
   "file_extension": ".py",
   "mimetype": "text/x-python",
   "name": "python",
   "nbconvert_exporter": "python",
   "pygments_lexer": "ipython2",
   "version": "2.7.6"
  }
 },
 "nbformat": 4,
 "nbformat_minor": 0
}
