{
 "cells": [
  {
   "cell_type": "code",
   "execution_count": 33,
   "metadata": {
    "pycharm": {
     "name": "#%%\n"
    }
   },
   "outputs": [],
   "source": [
    "import sys\n",
    "import time \n",
    "import numpy as np\n",
    "from tank import *\n",
    "import vrep\n",
    "\n",
    "import skfuzzy\n",
    "from skfuzzy import control as ctrl"
   ]
  },
  {
   "cell_type": "code",
   "execution_count": 34,
   "outputs": [],
   "source": [
    "def drive_carefully(distance, tank):\n",
    "    distance_fuzzy = ctrl.Antecedent(np.arange(0, 9, 0.01), 'distance_fuzzy')\n",
    "    current_speed = ctrl.Antecedent(np.arange(0, 10, 0.01), 'current_speed')\n",
    "    new_speed = ctrl.Consequent(np.arange(0, 10, 0.01), 'new_speed')\n",
    "\n",
    "    distance_fuzzy.automf(7)\n",
    "    current_speed.automf(3)\n",
    "    new_speed.automf(3)\n",
    "\n",
    "    distance_fuzzy['dismal'] = skfuzzy.trimf(distance_fuzzy.universe, [0, 0, 0.25])\n",
    "    distance_fuzzy['poor'] = skfuzzy.trimf(distance_fuzzy.universe, [0.25, 0.75, 1.25])\n",
    "    distance_fuzzy['mediocre'] = skfuzzy.trimf(distance_fuzzy.universe, [1, 3, 4.5])\n",
    "    new_speed['poor'] = skfuzzy.trimf(new_speed.universe, [0, 0.5, 1])\n",
    "\n",
    "    # dismal poor mediocre average decent good excellent\n",
    "    rules = (\n",
    "    ctrl.Rule((distance_fuzzy['excellent'] | distance_fuzzy['good']) & (current_speed['poor'] | current_speed['average']), new_speed['good']),\n",
    "    ctrl.Rule((distance_fuzzy['decent']) & (current_speed['poor'] | current_speed['average']), new_speed['good']),\n",
    "    ctrl.Rule(distance_fuzzy['average'] & (current_speed['good'] | current_speed['average']), new_speed['good']),\n",
    "    ctrl.Rule((distance_fuzzy['mediocre']) & (current_speed['good'] | current_speed['average']), new_speed['average']),\n",
    "    ctrl.Rule((distance_fuzzy['poor']) & (current_speed['good'] | current_speed['average']), new_speed['poor']),\n",
    "    ctrl.Rule(distance_fuzzy['dismal'], new_speed['poor']),\n",
    "    )\n",
    "\n",
    "    driving_ctrl = ctrl.ControlSystem(rules)\n",
    "    driving = ctrl.ControlSystemSimulation(driving_ctrl)\n",
    "\n",
    "    driving.input['distance_fuzzy'] = distance\n",
    "    driving.input['current_speed'] = tank.readVelocity()\n",
    "    driving.compute()\n",
    "\n",
    "    return driving.output['new_speed']"
   ],
   "metadata": {
    "collapsed": false,
    "pycharm": {
     "name": "#%%\n"
    }
   }
  },
  {
   "cell_type": "code",
   "execution_count": 35,
   "outputs": [],
   "source": [
    "def drive_aggro(distance, tank):\n",
    "    distance_fuzzy = ctrl.Antecedent(np.arange(0, 9, 0.01), 'distance_fuzzy')\n",
    "    current_speed = ctrl.Antecedent(np.arange(0, 10, 0.01), 'current_speed')\n",
    "    new_speed = ctrl.Consequent(np.arange(0, 10, 0.01), 'new_speed')\n",
    "\n",
    "    distance_fuzzy.automf(7)\n",
    "    current_speed.automf(3)\n",
    "    new_speed.automf(3)\n",
    "\n",
    "    distance_fuzzy['dismal'] = skfuzzy.trimf(distance_fuzzy.universe, [0, 0, 0.25])\n",
    "    distance_fuzzy['poor'] = skfuzzy.trimf(distance_fuzzy.universe, [0.25, 0.75, 1.25])\n",
    "    distance_fuzzy['mediocre'] = skfuzzy.trimf(distance_fuzzy.universe, [1, 3, 4.5])\n",
    "\n",
    "    current_speed['poor'] = skfuzzy.trimf(current_speed.universe, [0, 0.5, 1])\n",
    "    current_speed['average'] = skfuzzy.trimf(current_speed.universe, [0.5, 5, 9.5])\n",
    "    current_speed['good'] = skfuzzy.trimf(current_speed.universe, [9, 9.5, 10])\n",
    "\n",
    "    new_speed['poor'] = skfuzzy.trimf(new_speed.universe, [0, 0.5, 1])\n",
    "    new_speed['average'] = skfuzzy.trimf(new_speed.universe, [0.5, 5, 9.5])\n",
    "    new_speed['good'] = skfuzzy.trimf(new_speed.universe, [9, 9.5, 10])\n",
    "\n",
    "    # current_speed.view()\n",
    "    rules = (\n",
    "    ctrl.Rule((distance_fuzzy['excellent'] | distance_fuzzy['good'] | distance_fuzzy['decent']) & (current_speed['poor'] | current_speed['average']), new_speed['good']),\n",
    "    ctrl.Rule((distance_fuzzy['decent'] | distance_fuzzy['average'] | distance_fuzzy['mediocre']) & (current_speed['average'] | current_speed['good']), new_speed['average']),\n",
    "    ctrl.Rule((distance_fuzzy['poor']) & (current_speed['average'] | current_speed['good']), new_speed['poor']),\n",
    "    ctrl.Rule(distance_fuzzy['dismal'], new_speed['good']),\n",
    "    )\n",
    "    # distance_fuzzy.view()\n",
    "\n",
    "    driving_ctrl = ctrl.ControlSystem(rules)\n",
    "    driving = ctrl.ControlSystemSimulation(driving_ctrl)\n",
    "\n",
    "    driving.input['distance_fuzzy'] = distance\n",
    "    driving.input['current_speed'] = tank.readVelocity()\n",
    "    driving.compute()\n",
    "\n",
    "    return driving.output['new_speed']"
   ],
   "metadata": {
    "collapsed": false,
    "pycharm": {
     "name": "#%%\n"
    }
   }
  },
  {
   "cell_type": "code",
   "execution_count": 36,
   "outputs": [
    {
     "name": "stdout",
     "output_type": "stream",
     "text": [
      "Connected to remote API server\n",
      "(0.5000000000000006, 0.5000000000000006, 0.9971662339446348)"
     ]
    },
    {
     "ename": "KeyboardInterrupt",
     "evalue": "",
     "output_type": "error",
     "traceback": [
      "\u001B[1;31m---------------------------------------------------------------------------\u001B[0m",
      "\u001B[1;31mKeyboardInterrupt\u001B[0m                         Traceback (most recent call last)",
      "Input \u001B[1;32mIn [36]\u001B[0m, in \u001B[0;36m<cell line: 20>\u001B[1;34m()\u001B[0m\n\u001B[0;32m     27\u001B[0m \u001B[38;5;28;01mif\u001B[39;00m new_speed \u001B[38;5;241m<\u001B[39m \u001B[38;5;241m0.5\u001B[39m:\n\u001B[0;32m     28\u001B[0m     tank\u001B[38;5;241m.\u001B[39mforward(\u001B[38;5;241m0\u001B[39m)\n\u001B[1;32m---> 29\u001B[0m     \u001B[43msleep\u001B[49m\u001B[43m(\u001B[49m\u001B[38;5;241;43m10\u001B[39;49m\u001B[43m)\u001B[49m\n\u001B[0;32m     30\u001B[0m     \u001B[38;5;28;01mbreak\u001B[39;00m\n\u001B[0;32m     31\u001B[0m \u001B[38;5;28;01melse\u001B[39;00m:\n",
      "\u001B[1;31mKeyboardInterrupt\u001B[0m: "
     ]
    }
   ],
   "source": [
    "from time import sleep\n",
    "\n",
    "vrep.simxFinish(-1) # closes all opened connections, in case any prevoius wasnt finished\n",
    "clientID=vrep.simxStart('127.0.0.1',19999,True,True,5000,5) # start a connection\n",
    "\n",
    "if clientID!=-1:\n",
    "    print (\"Connected to remote API server\")\n",
    "else:\n",
    "    print(\"Not connected to remote API server\")\n",
    "    sys.exit(\"Could not connect\")\n",
    "\n",
    "#create instance of Tank\n",
    "tank=Tank(clientID)\n",
    "\n",
    "# get handle to proximity sensor\n",
    "err_code,ps_handle = vrep.simxGetObjectHandle(clientID,\"Proximity_sensor\", vrep.simx_opmode_blocking)\n",
    "\n",
    "t = time.time()\n",
    "\n",
    "while (time.time()-t)<100: # 10 seconds of communitation\n",
    "    #read values from proximity sensor\n",
    "    err_code,detectionState,detectedPoint,detectedObjectHandle,detectedSurfaceNormalVector=vrep.simxReadProximitySensor(clientID,ps_handle,vrep.simx_opmode_streaming)\n",
    "    distance = np.linalg.norm(detectedPoint)\n",
    "\n",
    "    new_speed = drive_carefully(distance, tank)\n",
    "    # new_speed = drive_aggro(distance, tank)\n",
    "    if new_speed < 0.5:\n",
    "        tank.forward(0)\n",
    "        # sleep(10)\n",
    "        break\n",
    "    else:\n",
    "        tank.forward(new_speed)\n",
    "\n",
    "    print(f'\\r{new_speed, tank.readVelocity(), distance}', end='')\n",
    "    # avoid collision\n",
    "\n",
    "vrep.simxStopSimulation(clientID,vrep.simx_opmode_oneshot) # stop the simulation in vrep"
   ],
   "metadata": {
    "collapsed": false,
    "pycharm": {
     "name": "#%%\n"
    }
   }
  },
  {
   "cell_type": "code",
   "execution_count": null,
   "outputs": [],
   "source": [],
   "metadata": {
    "collapsed": false,
    "pycharm": {
     "name": "#%%\n"
    }
   }
  }
 ],
 "metadata": {
  "kernelspec": {
   "display_name": "Python 3",
   "language": "python",
   "name": "python3"
  },
  "language_info": {
   "codemirror_mode": {
    "name": "ipython",
    "version": 3
   },
   "file_extension": ".py",
   "mimetype": "text/x-python",
   "name": "python",
   "nbconvert_exporter": "python",
   "pygments_lexer": "ipython3",
   "version": "3.7.1"
  }
 },
 "nbformat": 4,
 "nbformat_minor": 2
}