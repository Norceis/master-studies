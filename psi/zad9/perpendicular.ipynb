{
 "cells": [
  {
   "cell_type": "code",
   "execution_count": 226,
   "metadata": {
    "pycharm": {
     "name": "#%%\n"
    }
   },
   "outputs": [],
   "source": [
    "import vrep \n",
    "import sys\n",
    "import time \n",
    "import numpy as np\n",
    "from tank import *\n",
    "\n",
    "import skfuzzy\n",
    "from skfuzzy import control as ctrl"
   ]
  },
  {
   "cell_type": "code",
   "execution_count": 227,
   "outputs": [],
   "source": [
    "def perpendicular_zero_stage(distance_NW_input, distance_WN_input, distance_NE_input,  tank):\n",
    "    distance_WN = ctrl.Antecedent(np.arange(0, 5, 0.01), 'distance_WN')\n",
    "    distance_NW = ctrl.Antecedent(np.arange(0, 6, 0.01), 'distance_NW')\n",
    "    distance_NE = ctrl.Antecedent(np.arange(0, 6, 0.01), 'distance_NE')\n",
    "\n",
    "    new_speed = ctrl.Consequent(np.arange(-1, 7, 0.01), 'new_speed')\n",
    "\n",
    "    distance_WN['poor'] = skfuzzy.trapmf(distance_WN.universe, [0, 0, 1.5, 3])\n",
    "    distance_WN['good'] = skfuzzy.trapmf(distance_WN.universe, [1.5, 2.51, 5, 5])\n",
    "\n",
    "    distance_NW['poor'] = skfuzzy.trapmf(distance_NW.universe, [0, 0, 1.5, 2])\n",
    "    distance_NW['good'] = skfuzzy.trapmf(distance_NW.universe, [1, 2, 4, 5])\n",
    "\n",
    "    distance_NE['poor'] = skfuzzy.trapmf(distance_NW.universe, [0, 0, 1.5, 2])\n",
    "    distance_NE['good'] = skfuzzy.trapmf(distance_NW.universe, [1, 2, 4, 5])\n",
    "\n",
    "    new_speed['zero'] = skfuzzy.trimf(new_speed.universe, [-1, 0, 1])\n",
    "    new_speed['poor'] = skfuzzy.trimf(new_speed.universe, [0, 2, 4])\n",
    "    new_speed['good'] = skfuzzy.trimf(new_speed.universe, [3, 5, 7])\n",
    "\n",
    "    # dismal poor mediocre average decent good excellent\n",
    "    rules = (\n",
    "    ctrl.Rule(distance_WN['poor'] & distance_NW['poor'] & distance_NE['poor'], new_speed['good']),\n",
    "    ctrl.Rule(distance_WN['good'] & distance_WN['poor'] & distance_NE['good'], new_speed['zero']),\n",
    "    ctrl.Rule(distance_WN['poor'] & distance_NW['good'], new_speed['good']),\n",
    "    ctrl.Rule(distance_WN['good'] & distance_NW['good'], new_speed['good'])\n",
    "    )\n",
    "\n",
    "    driving_ctrl = ctrl.ControlSystem(rules)\n",
    "    driving = ctrl.ControlSystemSimulation(driving_ctrl)\n",
    "\n",
    "    driving.input['distance_NW'] = distance_NW_input\n",
    "    driving.input['distance_WN'] = distance_WN_input\n",
    "    driving.input['distance_NE'] = distance_NE_input\n",
    "    driving.compute()\n",
    "\n",
    "    return driving.output['new_speed']\n",
    "\n",
    "def perpendicular_first_stage(distance_WN_input, distance_EN_input, distance_WS_input, distance_ES_input,  tank):\n",
    "    distance_WN = ctrl.Antecedent(np.arange(0, 5, 0.01), 'distance_WN')\n",
    "    distance_EN = ctrl.Antecedent(np.arange(0, 6, 0.01), 'distance_EN')\n",
    "    distance_WS = ctrl.Antecedent(np.arange(0, 6, 0.01), 'distance_WS')\n",
    "    distance_ES = ctrl.Antecedent(np.arange(0, 6, 0.01), 'distance_ES')\n",
    "\n",
    "    new_speed = ctrl.Consequent(np.arange(-1, 3, 0.01), 'new_speed')\n",
    "\n",
    "    distance_WN['poor'] = skfuzzy.trapmf(distance_WN.universe, [0, 0, 1, 2])\n",
    "    distance_WN['good'] = skfuzzy.trapmf(distance_WN.universe, [1.5, 2.51, 5, 5])\n",
    "\n",
    "    distance_EN['poor'] = skfuzzy.trapmf(distance_EN.universe, [0, 0, 1.5, 2])\n",
    "    distance_EN['good'] = skfuzzy.trapmf(distance_EN.universe, [1, 2, 3, 6])\n",
    "\n",
    "    distance_WS['poor'] = skfuzzy.trapmf(distance_WS.universe, [0, 0, 1.5, 2])\n",
    "    distance_WS['good'] = skfuzzy.trapmf(distance_WS.universe, [1, 2, 3, 6])\n",
    "\n",
    "    distance_ES['poor'] = skfuzzy.trapmf(distance_ES.universe, [0, 0, 1.5, 2])\n",
    "    distance_ES['good'] = skfuzzy.trapmf(distance_ES.universe, [1, 2, 3, 6])\n",
    "\n",
    "    new_speed['zero'] = skfuzzy.trimf(new_speed.universe, [-1, 0, 1])\n",
    "    new_speed['poor'] = skfuzzy.trimf(new_speed.universe, [0, 1, 2])\n",
    "    new_speed['good'] = skfuzzy.trimf(new_speed.universe, [1, 2, 3])\n",
    "\n",
    "\n",
    "    # dismal poor mediocre average decent good excellent\n",
    "    rules = (\n",
    "    ctrl.Rule(distance_WN['good'] & distance_EN['poor'], new_speed['good']),\n",
    "    ctrl.Rule(distance_WN['good'] & distance_EN['good'], new_speed['poor']),\n",
    "    ctrl.Rule(distance_WN['poor'] & distance_EN['poor'], new_speed['poor']),\n",
    "    ctrl.Rule(distance_WN['poor'] & distance_EN['good'], new_speed['poor']),\n",
    "\n",
    "    ctrl.Rule(distance_WS['good'] & distance_ES['poor'], new_speed['good']),\n",
    "    ctrl.Rule(distance_WS['good'] & distance_ES['good'], new_speed['poor']),\n",
    "    ctrl.Rule(distance_WS['poor'] & distance_ES['poor'], new_speed['zero']),\n",
    "    ctrl.Rule(distance_WS['poor'] & distance_ES['good'], new_speed['poor']),\n",
    "    )\n",
    "\n",
    "    driving_ctrl = ctrl.ControlSystem(rules)\n",
    "    driving = ctrl.ControlSystemSimulation(driving_ctrl)\n",
    "\n",
    "    driving.input['distance_WN'] = distance_WN_input\n",
    "    driving.input['distance_EN'] = distance_EN_input\n",
    "    driving.input['distance_ES'] = distance_ES_input\n",
    "    driving.input['distance_WS'] = distance_WS_input\n",
    "\n",
    "    driving.compute()\n",
    "\n",
    "    return driving.output['new_speed']"
   ],
   "metadata": {
    "collapsed": false,
    "pycharm": {
     "name": "#%%\n"
    }
   }
  },
  {
   "cell_type": "code",
   "execution_count": 228,
   "metadata": {
    "pycharm": {
     "name": "#%%\n"
    }
   },
   "outputs": [
    {
     "name": "stdout",
     "output_type": "stream",
     "text": [
      "Connected to remote API server\n"
     ]
    }
   ],
   "source": [
    "vrep.simxFinish(-1) # closes all opened connections, in case any prevoius wasnt finished\n",
    "clientID=vrep.simxStart('127.0.0.1',19999,True,True,5000,5) # start a connection\n",
    "\n",
    "if clientID!=-1:\n",
    "    print (\"Connected to remote API server\")\n",
    "else:\n",
    "    print(\"Not connected to remote API server\")\n",
    "    sys.exit(\"Could not connect\")\n",
    "\n",
    "#create instance of Tank\n",
    "tank=Tank(clientID)"
   ]
  },
  {
   "cell_type": "code",
   "execution_count": 229,
   "metadata": {
    "pycharm": {
     "name": "#%%\n"
    }
   },
   "outputs": [],
   "source": [
    "proximity_sensors=[\"EN\",\"ES\",\"NE\",\"NW\",\"SE\",\"SW\",\"WN\",\"WS\"]\n",
    "proximity_sensors_handles=[0]*8\n",
    "\n",
    "# get handle to proximity sensors\n",
    "for i in range(len(proximity_sensors)):\n",
    "    err_code,proximity_sensors_handles[i] = vrep.simxGetObjectHandle(clientID,\"Proximity_sensor_\"+proximity_sensors[i], vrep.simx_opmode_blocking)\n",
    "    \n",
    "#read and print values from proximity sensors\n",
    "#first reading should be done with simx_opmode_streaming, further with simx_opmode_buffer parameter\n",
    "for sensor_name, sensor_handle in zip(proximity_sensors,proximity_sensors_handles):\n",
    "        err_code,detectionState,detectedPoint,detectedObjectHandle,detectedSurfaceNormalVector=vrep.simxReadProximitySensor(clientID,sensor_handle,vrep.simx_opmode_streaming)"
   ]
  },
  {
   "cell_type": "code",
   "execution_count": 230,
   "metadata": {
    "pycharm": {
     "name": "#%%\n"
    }
   },
   "outputs": [
    {
     "name": "stdout",
     "output_type": "stream",
     "text": [
      "(0.5000000000000003, 3.0, 0.4345043152303278, 0.5983356706936205, 0.4308830428501173, 0.6064529501450796, 2)))32393988, 1))"
     ]
    }
   ],
   "source": [
    "from time import sleep\n",
    "\n",
    "#continue reading and printing values from proximity sensors\n",
    "distances = dict()\n",
    "detection_states = dict()\n",
    "\n",
    "for sensor_name, sensor_handle in zip(proximity_sensors,proximity_sensors_handles):\n",
    "        err_code,detectionState,detectedPoint,detectedObjectHandle,detectedSurfaceNormalVector=vrep.simxReadProximitySensor(clientID,sensor_handle,vrep.simx_opmode_buffer)\n",
    "        distances[sensor_name] = np.linalg.norm(detectedPoint)\n",
    "        detection_states[sensor_name] = detectionState\n",
    "\n",
    "current_stage = 0\n",
    "t = time.time()\n",
    "while (time.time()-t)<100: # read values for 5 seconds\n",
    "\n",
    "    for sensor_name, sensor_handle in zip(proximity_sensors,proximity_sensors_handles):\n",
    "        err_code,detectionState,detectedPoint,detectedObjectHandle,detectedSurfaceNormalVector=vrep.simxReadProximitySensor(clientID,sensor_handle,vrep.simx_opmode_buffer)\n",
    "        distances[sensor_name] = np.linalg.norm(detectedPoint)\n",
    "        detection_states[sensor_name] = detectionState\n",
    "\n",
    "    if current_stage == 0:\n",
    "        new_speed = perpendicular_zero_stage(distances['NW'], distances['WN'], distances['NE'], tank)\n",
    "        if new_speed < 3.45:\n",
    "            tank.stop()\n",
    "            # sleep(10)\n",
    "            current_stage += 1\n",
    "        else:\n",
    "            tank.forward(new_speed)\n",
    "\n",
    "    if current_stage == 1:\n",
    "        distances['WN'] = distances['WN'] if detection_states['WN'] else 5\n",
    "        distances['EN'] = distances['EN'] if detection_states['EN'] else 5\n",
    "        distances['WS'] = distances['WS'] if detection_states['WS'] else 5\n",
    "        distances['ES'] = distances['ES'] if detection_states['ES'] else 5\n",
    "\n",
    "        new_speed = perpendicular_first_stage(distances['WN'], distances['EN'], distances['WS'], distances['ES'], tank)\n",
    "        if new_speed < 0.51:\n",
    "            tank.forward(0)\n",
    "            # sleep(10)\n",
    "            current_stage += 1\n",
    "        else:\n",
    "            tank.turn_left(new_speed*1.075)\n",
    "            sleep(0.1)\n",
    "            tank.forward(new_speed*2)\n",
    "            sleep(0.2)\n",
    "\n",
    "    if current_stage == 2:\n",
    "        tank.forward(3)\n",
    "        if not detection_states['NW'] and not detection_states['NE']:\n",
    "            tank.forward(0)\n",
    "            break\n",
    "    #\n",
    "    # if current_stage == 2:\n",
    "    #     new_speed = parallel_second_stage(distances['EN'], distances['ES'], distances['SE'], distances['NE'], tank)\n",
    "    #     if new_speed < 1:\n",
    "    #         tank.forward(0)\n",
    "    #         current_stage += 1\n",
    "    #     else:\n",
    "    #         tank.leftvelocity = -new_speed\n",
    "    #         tank.rightvelocity = -new_speed / 6\n",
    "    #         tank.setVelocity()\n",
    "\n",
    "    print(f\"\\r{new_speed, tank.readVelocity(), distances['WN'], distances['NW'], distances['WS'], distances['ES'], current_stage}\", end='')"
   ]
  }
 ],
 "metadata": {
  "kernelspec": {
   "display_name": "Python 3",
   "language": "python",
   "name": "python3"
  },
  "language_info": {
   "codemirror_mode": {
    "name": "ipython",
    "version": 3
   },
   "file_extension": ".py",
   "mimetype": "text/x-python",
   "name": "python",
   "nbconvert_exporter": "python",
   "pygments_lexer": "ipython3",
   "version": "3.7.1"
  }
 },
 "nbformat": 4,
 "nbformat_minor": 2
}