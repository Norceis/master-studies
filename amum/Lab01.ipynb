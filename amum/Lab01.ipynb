{
 "cells": [
  {
   "cell_type": "markdown",
   "id": "1a7c2073",
   "metadata": {
    "pycharm": {
     "name": "#%% md\n"
    }
   },
   "source": [
    "# Algorytmika i matematyka uczenia maszynowego \n",
    "## Laboratorium 1\n",
    "\n",
    "**UWAGA**: W niniejszym laboratorium proszę nie korzystać z zewnętrzych modułów/bibliotek (poza biblioteką _matplotlib_).\n",
    "\n",
    "### Zad 1:\n",
    "\n",
    "Zaimplementuj funkcję:\n",
    "$f(x) = \\frac{1}{8}x^{4} + 2(x + 0.7)^{3} - \\frac{1}{2}x^{2} - 38 x + 1$\n",
    "\n"
   ]
  },
  {
   "cell_type": "code",
   "execution_count": 1,
   "id": "cde33477",
   "metadata": {
    "pycharm": {
     "name": "#%%\n"
    }
   },
   "outputs": [],
   "source": [
    "def func1 (x):\n",
    "    return ((1/8)*x**4+2*(x+0.7)**3-(1/2)*x**2-38*x+1)\n",
    "y = func1(1)"
   ]
  },
  {
   "cell_type": "markdown",
   "id": "1cb15eec",
   "metadata": {
    "pycharm": {
     "name": "#%% md\n"
    }
   },
   "source": [
    "### Zad 2:\n",
    "\n",
    "Oblicz wartosc funkcji $f(x)$ w przedziale [-20, 20] z krokiem 1 ($\\Delta$).\n",
    "\n"
   ]
  },
  {
   "cell_type": "code",
   "execution_count": 2,
   "id": "32f3869d",
   "metadata": {
    "pycharm": {
     "name": "#%%\n"
    }
   },
   "outputs": [
    {
     "data": {
      "text/plain": "{-20: 6182.885999999999,\n -19: 4575.650999999998,\n -18: 3289.565999999999,\n -17: 2281.1309999999994,\n -16: 1509.8459999999986,\n -15: 938.2109999999993,\n -14: 531.7259999999997,\n -13: 258.89099999999917,\n -12: 91.20599999999968,\n -11: 3.170999999999367,\n -10: -27.714000000000397,\n -9: -20.949000000000296,\n -8: 6.966000000000008,\n -7: 42.53100000000006,\n -6: 75.24600000000004,\n -5: 97.61100000000002,\n -4: 105.126,\n -3: 96.291,\n -2: 72.606,\n -1: 38.571,\n 0: 1.686,\n 1: -27.549,\n 2: -35.63399999999999,\n 3: -6.068999999999988,\n 4: 80.64600000000002,\n 5: 247.01100000000002,\n 6: 518.5260000000001,\n 7: 923.691,\n 8: 1494.0059999999996,\n 9: 2263.9709999999995,\n 10: 3271.0859999999993,\n 11: 4555.850999999999,\n 12: 6161.766,\n 13: 8135.330999999998,\n 14: 10526.045999999998,\n 15: 13386.411,\n 16: 16771.926,\n 17: 20741.091,\n 18: 25355.406,\n 19: 30679.371,\n 20: 36780.486}"
     },
     "execution_count": 2,
     "metadata": {},
     "output_type": "execute_result"
    }
   ],
   "source": [
    "values={}\n",
    "for i in range (-20,21,1):\n",
    "    values[i] = func1(i)\n",
    "values"
   ]
  },
  {
   "cell_type": "markdown",
   "id": "7fe8c5b2",
   "metadata": {
    "pycharm": {
     "name": "#%% md\n"
    }
   },
   "source": [
    "### Zad 3:\n",
    "\n",
    "Wyświetl wykres funkcji $f(x)$."
   ]
  },
  {
   "cell_type": "code",
   "execution_count": 3,
   "id": "92771912",
   "metadata": {
    "pycharm": {
     "name": "#%%\n"
    }
   },
   "outputs": [
    {
     "data": {
      "text/plain": "<Figure size 432x288 with 1 Axes>",
      "image/png": "[encoded data removed]"
     },
     "metadata": {
      "needs_background": "light"
     },
     "output_type": "display_data"
    }
   ],
   "source": [
    "import matplotlib.pyplot as plt\n",
    "plt.plot(values.keys(),values.values())\n",
    "plt.show()"
   ]
  },
  {
   "cell_type": "markdown",
   "id": "65bd3ed0",
   "metadata": {
    "pycharm": {
     "name": "#%% md\n"
    }
   },
   "source": [
    "### Zad 4:\n",
    "\n",
    "Znajdź taką wartość $x$ (w przedziale _[-20, 20]_), dla której funkcja $f(x)$ przyjmuje najmniejszą wartość."
   ]
  },
  {
   "cell_type": "code",
   "execution_count": 4,
   "id": "15bf81b0",
   "metadata": {
    "pycharm": {
     "name": "#%%\n"
    }
   },
   "outputs": [
    {
     "name": "stdout",
     "output_type": "stream",
     "text": [
      " x = 2, y = -35.63399999999999\n"
     ]
    }
   ],
   "source": [
    "minimumx = min(values, key=values.get)\n",
    "minimumy = values.get(minimumx)\n",
    "print(f' x = {minimumx}, y = {minimumy}')"
   ]
  },
  {
   "cell_type": "markdown",
   "id": "ba91da34",
   "metadata": {
    "pycharm": {
     "name": "#%% md\n"
    }
   },
   "source": [
    "### Zad 5:\n",
    "\n",
    "Wyznacz inną liczbę przedziałów (inny krok ($\\Delta$)) z zakresu _[-20, 20]_ i sprawdź czy odnajdziesz mniejszą wartość minimalną funkcji $f(x)$ niż w poprzednim zadaniu? Jeżeli tak to podaj wartość $x$ dla której znalazłeś najmniejszą wartość funkcji $f(x)$."
   ]
  },
  {
   "cell_type": "code",
   "execution_count": 5,
   "id": "a9ee22b3",
   "metadata": {
    "pycharm": {
     "name": "#%%\n"
    }
   },
   "outputs": [
    {
     "name": "stdout",
     "output_type": "stream",
     "text": [
      " x = 1.78, y = -36.46337118\n"
     ]
    }
   ],
   "source": [
    "values = {}\n",
    "for x in range(-2000, 2101):\n",
    "    values[x*0.01] = None\n",
    "for i in values.keys():\n",
    "    values[i] = float(func1(i))\n",
    "values\n",
    "minimumx = min(values, key=values.get)\n",
    "minimumy = values.get(minimumx)\n",
    "print(f' x = {minimumx}, y = {minimumy}')"
   ]
  },
  {
   "cell_type": "markdown",
   "id": "cc4741fb",
   "metadata": {
    "pycharm": {
     "name": "#%% md\n"
    }
   },
   "source": [
    "### Zad 6:\n",
    "\n",
    "Wyświetl wykres (parametry wykresu dobierz samodzielnie) prezentujący minimum funkcji $f(x)$\n"
   ]
  },
  {
   "cell_type": "code",
   "execution_count": 6,
   "id": "0e0a8ef1",
   "metadata": {
    "pycharm": {
     "name": "#%%\n"
    }
   },
   "outputs": [
    {
     "data": {
      "text/plain": "<Figure size 432x288 with 1 Axes>",
      "image/png": "[encoded data removed]"
     },
     "metadata": {
      "needs_background": "light"
     },
     "output_type": "display_data"
    }
   ],
   "source": [
    "plt.plot(values.keys(),values.values())\n",
    "plt.xlim(-15,10)\n",
    "plt.ylim(-38, 10)\n",
    "plt.show()"
   ]
  },
  {
   "cell_type": "markdown",
   "id": "c03266a9",
   "metadata": {
    "pycharm": {
     "name": "#%% md\n"
    }
   },
   "source": [
    "### Zad 7:\n",
    "\n",
    "Znajdź taką wartość $x$ (w przedziale _[-20, 20])_, dla której funkcja $f(x)$ przyjmuje najmniejszą wartość.\n",
    "W tym zadaniu wygeneruj $k$ losowych wartości $x$ (metoda Monte Carlo).\n",
    "Wyświetl wykres funkcji."
   ]
  },
  {
   "cell_type": "code",
   "execution_count": 7,
   "id": "33da4893",
   "metadata": {
    "pycharm": {
     "name": "#%%\n"
    }
   },
   "outputs": [
    {
     "name": "stdout",
     "output_type": "stream",
     "text": [
      " x = 2.249863917044653, y = -32.485289597443106\n"
     ]
    }
   ],
   "source": [
    "import random\n",
    "k=69\n",
    "losowe = sorted([random.uniform(-20, 20) for x in range(k)])\n",
    "values = {}\n",
    "for i in losowe:\n",
    "    values[i] = func1(i)\n",
    "minimumx = min(values, key=values.get)\n",
    "minimumy = values.get(minimumx)\n",
    "print(f' x = {minimumx}, y = {minimumy}')"
   ]
  },
  {
   "cell_type": "code",
   "execution_count": 8,
   "outputs": [
    {
     "data": {
      "text/plain": "<Figure size 432x288 with 1 Axes>",
      "image/png": "[encoded data removed]"
     },
     "metadata": {
      "needs_background": "light"
     },
     "output_type": "display_data"
    }
   ],
   "source": [
    "plt.plot(values.keys(),values.values())\n",
    "plt.show()"
   ],
   "metadata": {
    "collapsed": false,
    "pycharm": {
     "name": "#%%\n"
    }
   }
  },
  {
   "cell_type": "code",
   "execution_count": 8,
   "outputs": [],
   "source": [],
   "metadata": {
    "collapsed": false,
    "pycharm": {
     "name": "#%%\n"
    }
   }
  }
 ],
 "metadata": {
  "kernelspec": {
   "display_name": "Python 3 (ipykernel)",
   "language": "python",
   "name": "python3"
  },
  "language_info": {
   "codemirror_mode": {
    "name": "ipython",
    "version": 3
   },
   "file_extension": ".py",
   "mimetype": "text/x-python",
   "name": "python",
   "nbconvert_exporter": "python",
   "pygments_lexer": "ipython3",
   "version": "3.8.12"
  },
  "toc": {
   "base_numbering": 1,
   "nav_menu": {},
   "number_sections": true,
   "sideBar": true,
   "skip_h1_title": false,
   "title_cell": "Table of Contents",
   "title_sidebar": "Contents",
   "toc_cell": false,
   "toc_position": {},
   "toc_section_display": true,
   "toc_window_display": false
  }
 },
 "nbformat": 4,
 "nbformat_minor": 5
}