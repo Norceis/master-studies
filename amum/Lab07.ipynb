{
 "cells": [
  {
   "cell_type": "markdown",
   "id": "59b5dc28",
   "metadata": {
    "pycharm": {
     "name": "#%% md\n"
    }
   },
   "source": [
    "# Algorytmika i matematyka uczenia maszynowego \n",
    "## Laboratorium 7\n"
   ]
  },
  {
   "cell_type": "markdown",
   "id": "01f97ff3",
   "metadata": {
    "pycharm": {
     "name": "#%% md\n"
    }
   },
   "source": [
    "### Zadanie 1\n",
    "\n",
    "Z miasta A do miasta B kierowca przejechał ze średnią szybkością 60 km/h. Z powrotem jechał szybciej, ze średnią 80 km/h. Jaka była jego średnia szybkość na całej trasie? \n",
    "\n",
    "**Uwaga:** nie używaj gotowych implementacji.\n",
    "\n",
    "> Wskazówka: średnia harmoniczna."
   ]
  },
  {
   "cell_type": "code",
   "execution_count": 1,
   "id": "b7313777",
   "metadata": {
    "pycharm": {
     "name": "#%%\n"
    }
   },
   "outputs": [
    {
     "data": {
      "text/plain": "68.57142857142857"
     },
     "execution_count": 1,
     "metadata": {},
     "output_type": "execute_result"
    }
   ],
   "source": [
    "import numpy as np\n",
    "def harmonic_speed(list_of_speeds):\n",
    "    denominator = 0\n",
    "    for i in list_of_speeds:\n",
    "        denominator += (1/i)\n",
    "    average_speed = len(list_of_speeds)/denominator\n",
    "    return average_speed\n",
    "\n",
    "harmonic_speed([60, 80])"
   ]
  },
  {
   "cell_type": "markdown",
   "id": "ca4e7af2",
   "metadata": {
    "pycharm": {
     "name": "#%% md\n"
    }
   },
   "source": [
    "### Zadanie 2\n",
    "\n",
    "Wyobraźmy sobie miasto o liczbie 700 tys. mieszkańców. W mieście pojawiła się choroba i wiemy, że jedna osoba na 1000 zachorowała. Nie wiemy, które to dokładnie osoby, ale jest dostępny test, którego skuteczność wynosi 99%. Teraz wcielamy się w pacjenta, który przeprowadził test, a wynik testu jest pozytywny. Chcemy dowiedzieć się, jakie jest prawdopodobieństwo, że zachorowaliśmy.\n",
    "\n",
    "#### A)\n",
    "\n",
    "Przeprowadzić symulację komputerową:\n",
    "\n",
    "- Generujemy listę wielkości 700 tys.\n",
    "- Losowo wybieramy 700 tys./1000 (bo jedna na 1000 osob zachorowała) osób i zaznaczamy je jako chore.\n",
    "- Wybieramy losowo po 1% osob chorych i zdrowych, a następnie zaznaczamy ich diagnoze na nieprawidlowa (bo skutecznosc testu wynosi 99%).\n",
    "- Oblicz jakie jest prawdopodobienstwo ze osoba z pozytywnym wynikiem testu jest faktycznie chora (`liczba osób chorych z wynikiem pozytywnym` / `liczba wszystkich osob z wynikiem pozytywnym`).\n",
    "\n"
   ]
  },
  {
   "cell_type": "code",
   "execution_count": 2,
   "id": "0fea1c5d",
   "metadata": {
    "pycharm": {
     "name": "#%%\n"
    }
   },
   "outputs": [
    {
     "name": "stdout",
     "output_type": "stream",
     "text": [
      "Time:  0.8514205000000001\n",
      "0.09016393442622951\n"
     ]
    }
   ],
   "source": [
    "import random as rd\n",
    "import timeit\n",
    "\n",
    "start = timeit.default_timer()\n",
    "people = []\n",
    "for i in range(700000):\n",
    "    people.append('healthy')\n",
    "chosen_ones = rd.sample(range(700000), 700)\n",
    "for i in chosen_ones:\n",
    "    people[i] = 'sick'\n",
    "\n",
    "for i in range(7):\n",
    "    while True:\n",
    "        a = rd.randint(0,700000)\n",
    "        if 'sick' == people[a]:\n",
    "            people[a] = ['sick', 'healthy']\n",
    "            break\n",
    "for i in range(6993):\n",
    "    while True:\n",
    "        a = rd.randint(0,700000)\n",
    "        if 'healthy' == people[a]:\n",
    "            people[a] = ['healthy', 'sick']\n",
    "            break\n",
    "\n",
    "for i in range(len(people)):\n",
    "    if type(people[i]) == str:\n",
    "        people[i] = [people[i], people[i]]\n",
    "\n",
    "tp = 0\n",
    "all_positive = 0\n",
    "\n",
    "for i in range(len(people)):\n",
    "    if people[i][0] == 'sick':\n",
    "        if people[i][1] == 'sick':\n",
    "            tp += 1\n",
    "            all_positive += 1\n",
    "    if people[i][0] == 'healthy':\n",
    "        if people[i][1] == 'sick':\n",
    "            all_positive += 1\n",
    "\n",
    "stop = timeit.default_timer()\n",
    "\n",
    "print('Time: ', stop - start)\n",
    "print(tp / all_positive)"
   ]
  },
  {
   "cell_type": "markdown",
   "id": "46aa035b",
   "metadata": {
    "pycharm": {
     "name": "#%% md\n"
    }
   },
   "source": [
    "#### B)\n",
    "\n",
    "Napisać funkcję, która zwróci wynik obliczony ze wzoru Bayesa. Zmierz i porównaj czas obliczeń w zad. A i zad. B\n",
    "\n"
   ]
  },
  {
   "cell_type": "code",
   "execution_count": 7,
   "id": "1119d040",
   "metadata": {
    "pycharm": {
     "name": "#%%\n"
    }
   },
   "outputs": [
    {
     "name": "stdout",
     "output_type": "stream",
     "text": [
      "Time:  5.4900000009183714e-05  - this one is much faster\n",
      "0.09016393442622944\n"
     ]
    }
   ],
   "source": [
    "def bayes(sick_percentage, test_sensitivity):\n",
    "    return (test_sensitivity * sick_percentage / (test_sensitivity * sick_percentage + (1 - test_sensitivity) * (1 - sick_percentage)))\n",
    "\n",
    "start = timeit.default_timer()\n",
    "bayes_score = bayes(0.001, 0.99)\n",
    "stop = timeit.default_timer()\n",
    "print('Time: ', stop - start, ' - this one is much faster')\n",
    "print(bayes_score)"
   ]
  },
  {
   "cell_type": "markdown",
   "id": "2850f724",
   "metadata": {
    "pycharm": {
     "name": "#%% md\n"
    }
   },
   "source": [
    "#### C)\n",
    "\n",
    "Wyświetl wykres, gdzie na osi X znajduje się _czułość testu_ a na osi Y znajduje się _prawdopodobieństwo, że osoba z pozytywnym wynikiem jest chora_."
   ]
  },
  {
   "cell_type": "code",
   "execution_count": 59,
   "id": "7359c283",
   "metadata": {
    "pycharm": {
     "name": "#%%\n"
    }
   },
   "outputs": [
    {
     "data": {
      "text/plain": "<Figure size 720x720 with 1 Axes>",
      "image/png": "[encoded data removed]"
     },
     "metadata": {
      "needs_background": "light"
     },
     "output_type": "display_data"
    }
   ],
   "source": [
    "import matplotlib.pyplot as plt\n",
    "\n",
    "x = np.arange(0, 1, 0.01)\n",
    "\n",
    "plt.rcParams[\"figure.figsize\"] = (10,10)\n",
    "plt.plot(x, bayes(0.001, x))\n",
    "plt.xticks(np.arange(0,1.1, 0.1))\n",
    "plt.xlabel('Sensitivity')\n",
    "plt.ylabel('Probability that a sick person is labeled as sick')\n",
    "plt.show()"
   ]
  },
  {
   "cell_type": "markdown",
   "id": "2b0253f8",
   "metadata": {
    "pycharm": {
     "name": "#%% md\n"
    }
   },
   "source": [
    "### Zadanie 3\n",
    "\n",
    "Sprawdź (symulacją) jak często trafia się \"ręka\" zawierająca $\\ge 8$ kart w jednym kolorze z 13 kart. Czyli losujemy 13 kart z 52 (wiec \"ręki\" jak w brydzu) tak długo, aż w jakimś kolorze dostaniemy $\\ge 8$ kart. Przeprowadź 1000 takich prob i oblicz średnią. Dodatkowo wypisz jedną (np. ostatnią) taką wylosowaną rękę."
   ]
  },
  {
   "cell_type": "code",
   "execution_count": 50,
   "id": "622ec278",
   "metadata": {
    "pycharm": {
     "name": "#%%\n"
    }
   },
   "outputs": [
    {
     "name": "stdout",
     "output_type": "stream",
     "text": [
      "The last hand is [3 2 3 2 1 0 0 1 0 0 1 3 2]\n",
      "The measured probability of getting >= 8 same color cards from 13 picked cards is 0.0043%\n"
     ]
    }
   ],
   "source": [
    "cards = []\n",
    "\n",
    "for i in range(13):\n",
    "    cards.append(0)\n",
    "    cards.append(1)\n",
    "    cards.append(2)\n",
    "    cards.append(3)\n",
    "\n",
    "rd.shuffle(cards)\n",
    "score = 0\n",
    "dict_of_colors = {}\n",
    "\n",
    "for i in range(10000):\n",
    "    dict_of_colors[0] = 0\n",
    "    dict_of_colors[1] = 0\n",
    "    dict_of_colors[2] = 0\n",
    "    dict_of_colors[3] = 0\n",
    "    hand = np.random.choice(cards, size=13, replace=False)\n",
    "\n",
    "    for i in hand:\n",
    "        dict_of_colors[i] += 1\n",
    "    for i in list(dict_of_colors.values()):\n",
    "        if i >= 8:\n",
    "            score += 1\n",
    "            break\n",
    "\n",
    "print(f'The last hand is {hand}')\n",
    "print(f'The measured probability of getting >= 8 same color cards from 13 picked cards is {score/10000}%')"
   ]
  }
 ],
 "metadata": {
  "author": {
   "email": "robert.susik@p.lodz.pl",
   "name": "Robert Susik"
  },
  "kernelspec": {
   "display_name": "Python 3 (ipykernel)",
   "language": "python",
   "name": "python3"
  },
  "language_info": {
   "codemirror_mode": {
    "name": "ipython",
    "version": 3
   },
   "file_extension": ".py",
   "mimetype": "text/x-python",
   "name": "python",
   "nbconvert_exporter": "python",
   "pygments_lexer": "ipython3",
   "version": "3.8.13"
  },
  "toc": {
   "base_numbering": 1,
   "nav_menu": {},
   "number_sections": true,
   "sideBar": true,
   "skip_h1_title": false,
   "title_cell": "Table of Contents",
   "title_sidebar": "Contents",
   "toc_cell": false,
   "toc_position": {},
   "toc_section_display": true,
   "toc_window_display": false
  }
 },
 "nbformat": 4,
 "nbformat_minor": 5
}