{
 "cells": [
  {
   "cell_type": "markdown",
   "id": "59b5dc28",
   "metadata": {
    "pycharm": {
     "name": "#%% md\n"
    }
   },
   "source": [
    "# Algorytmika i matematyka uczenia maszynowego \n",
    "## Laboratorium 3\n",
    "\n",
    "Do wykonania laboratorium należy skorzystać z bibliotek:\n",
    "- [numpy](https://numpy.org/)\n",
    "- [matplotlib](https://matplotlib.org/)\n",
    "\n",
    "### Zadanie 1 - zakupy\n",
    "\n",
    "W sklepie dostępne są następujące produkty:\n",
    "\n",
    "| Produkt | Cena (netto) | Podatek |\n",
    "| --- | --- | --- |\n",
    "| Chleb | 3 | 5% |\n",
    "| Butelka wody (1l) | 2 | 8% |\n",
    "| Pomidor 1szt. | 2 | 5% |\n",
    "| Olej (1l) | 6 | 5% |\n",
    "| Szafran | 1.5 | 8% |\n",
    "| Krewetki (opakowanie) | 20 | 23% |\n",
    "| Lód (opakowanie) | 5 | 23% |\n",
    "\n",
    "\n",
    "#### Zadanie 1 A\n",
    "\n",
    "- Zapisz nazwy produktów w tablicy `N`.\n",
    "- Zapisz ceny produktów w tablicy `C`.\n",
    "- Zapisz podatek w tablicy `P`.\n",
    "\n",
    "*(tablicy jedno wymiarowej czyli wektorze)*\n",
    "\n"
   ]
  },
  {
   "cell_type": "code",
   "execution_count": 2,
   "id": "adf73c67",
   "metadata": {
    "pycharm": {
     "name": "#%%\n"
    }
   },
   "outputs": [],
   "source": [
    "import numpy as np\n",
    "import matplotlib.pyplot as plt\n",
    "N = np.array(['Chleb', 'Butelka wody (1l)', 'Pomidor (1szt.)', 'Olej (1l)', 'Szafran', 'Krewetki (opakowanie)', 'Lód (opakowanie)'])\n",
    "C = np.array([3, 2, 2, 6, 1.5, 20, 5])\n",
    "P = np.array([5, 8, 5, 5, 8, 23, 23])"
   ]
  },
  {
   "cell_type": "markdown",
   "id": "ca4e7af2",
   "metadata": {
    "pycharm": {
     "name": "#%% md\n"
    }
   },
   "source": [
    "#### Zadanie 1 B\n",
    "\n",
    "Klient kupił:\n",
    "\n",
    "- 2 szt. chleba, \n",
    "- 6 butelek wody,\n",
    "- 1 opakowanie krewetek.\n",
    "\n",
    "Zapisz zakupy klienta w wektorze `Z` (zachowaj wymiarowość)."
   ]
  },
  {
   "cell_type": "code",
   "execution_count": 3,
   "id": "81391828",
   "metadata": {
    "pycharm": {
     "name": "#%%\n"
    }
   },
   "outputs": [],
   "source": [
    "Z = np.array([2,6,0,0,0,1,0])"
   ]
  },
  {
   "cell_type": "markdown",
   "id": "4d64ce4b",
   "metadata": {
    "pycharm": {
     "name": "#%% md\n"
    }
   },
   "source": [
    "\n",
    "#### Zadanie 1C\n",
    "\n",
    "Oblicz sumę **netto** jaką klient musi zapłacić bez używania:\n",
    "- operatora `+`, \n",
    "- funkcji/metody `sum`\n",
    "- operatego mnożenia skalarnego (`*`, `__mul__`).\n",
    "\n",
    "_Podpowiedź: jeden z wektorów trzeba transponować_"
   ]
  },
  {
   "cell_type": "code",
   "execution_count": 4,
   "id": "bb0b4e4e",
   "metadata": {
    "pycharm": {
     "name": "#%%\n"
    }
   },
   "outputs": [
    {
     "data": {
      "text/plain": "38.0"
     },
     "execution_count": 4,
     "metadata": {},
     "output_type": "execute_result"
    }
   ],
   "source": [
    "D = C.T @ Z\n",
    "D"
   ]
  },
  {
   "cell_type": "markdown",
   "id": "fe9e7805",
   "metadata": {
    "pycharm": {
     "name": "#%% md\n"
    }
   },
   "source": [
    "#### Zadanie 1D\n",
    "\n",
    "Oblicz wartość **brutto** jaką klient musi zapłacić w sklepie. W tym zadaniu możesz użyć operatora `*`.\n",
    "\n",
    "Dodatkowo, wyświetl rachunek w postaci tabeli zawierającą kolumny: \n",
    "- nazwa produktu,\n",
    "- cena netto, \n",
    "- liczba sztuk, \n",
    "- cena netto danej pozycji (cena netto x liczba sztuk), \n",
    "- podatek (procentowo np. `5%`),\n",
    "- cena brutto danej pozycji. \n",
    "\n",
    "Na końcu tabeli ma się wyświetlić suma brutto do zapłaty."
   ]
  },
  {
   "cell_type": "code",
   "execution_count": 5,
   "id": "f11e2e28",
   "metadata": {
    "pycharm": {
     "name": "#%%\n"
    }
   },
   "outputs": [
    {
     "name": "stdout",
     "output_type": "stream",
     "text": [
      "|      Nazwa towaru       |  Cena netto   | Liczba sztuk  |   Cena netto za sumę sztuk   | Podatek  |  Cena brutto  \n",
      "|          Chleb          |      3.0      |       2       |             6.0              |    5     |      6.3      \n",
      "|    Butelka wody (1l)    |      2.0      |       6       |             12.0             |    8     |     12.96     \n",
      "|     Pomidor (1szt.)     |      2.0      |       0       |             0.0              |    5     |      0.0      \n",
      "|        Olej (1l)        |      6.0      |       0       |             0.0              |    5     |      0.0      \n",
      "|         Szafran         |      1.5      |       0       |             0.0              |    8     |      0.0      \n",
      "|  Krewetki (opakowanie)  |     20.0      |       1       |             20.0             |    23    |     24.6      \n",
      "|    Lód (opakowanie)     |      5.0      |       0       |             0.0              |    23    |      0.0      \n",
      "|          Suma           |               |               |                              |          |     38.0      \n"
     ]
    }
   ],
   "source": [
    "E = np.array([N, C, Z, C.T*Z, P, C.T*Z+C.T*Z*(P/100)]).T\n",
    "print(f'|{\"Nazwa towaru\":^25}|{\"Cena netto\":^15}|{\"Liczba sztuk\":^15}|{\"Cena netto za sumę sztuk\":^30}|{\"Podatek\":^10}|{\"Cena brutto\":^15}')\n",
    "for i in range(len(N)):\n",
    "    print(f'|{N[i]:^25}|{C[i]:^15}|{Z[i]:^15}|{(C.T*Z)[i]:^30}|{P[i]:^10}|{(C.T*Z+C.T*Z*(P/100))[i]:^15}')\n",
    "print(f'|{\"Suma\":^25}|{\" \":^15}|{\" \":^15}|{\" \":^30}|{\" \":^10}|{D:^15}')"
   ]
  },
  {
   "cell_type": "markdown",
   "id": "67b1b17f",
   "metadata": {
    "heading_collapsed": true,
    "pycharm": {
     "name": "#%% md\n"
    }
   },
   "source": [
    "### Zadanie 2\n",
    "\n",
    "Zmodyfikuj kod z zadania pierwszego w ten sposób, że dane o produktach będą wczytywane z pliku `produkty.csv` a dane do rachunku (liczba zakupionych produktów) z pliku `rachunek.csv`.\n",
    "\n",
    "Utwórz przykładowe dane (inne niż w zadaniu 1)."
   ]
  },
  {
   "cell_type": "code",
   "execution_count": 6,
   "outputs": [
    {
     "name": "stdout",
     "output_type": "stream",
     "text": [
      "[('Butelka octu (1l)',  7. ,  8) ('Ziemniak (1szt.)',  1. ,  5)\n",
      " ('Jogurt (1l)',  3. , 23) ('Ziele angielskie',  2.5,  8)\n",
      " ('Chipsy Lays (opakowanie)', 10. , 23)\n",
      " ('Truskawki mrożone (opakowanie)',  5. , 23)]\n"
     ]
    }
   ],
   "source": [
    "produkty = np.recfromcsv('produkty.csv', delimiter=',', encoding='utf-8')\n",
    "rachunek = np.recfromcsv('rachunek.csv', delimiter=',', encoding='utf-8')\n",
    "print(produkty)"
   ],
   "metadata": {
    "collapsed": false,
    "pycharm": {
     "name": "#%%\n"
    }
   }
  },
  {
   "cell_type": "markdown",
   "id": "20d45341",
   "metadata": {
    "pycharm": {
     "name": "#%% md\n"
    }
   },
   "source": [
    "### Zadanie 3\n",
    "\n",
    "#### Zadanie 3 A\n",
    "\n",
    "Utwórz dwa wektory dwuelementowe `A` i `B` (dowolne wartości dodatnie różne od zera).\n",
    "\n",
    "Następnie wykonaj sumowanie elementów obu wektorów i zapisz w zmiennej `C`.\n"
   ]
  },
  {
   "cell_type": "code",
   "execution_count": 7,
   "id": "741e4a50",
   "metadata": {
    "pycharm": {
     "name": "#%%\n"
    }
   },
   "outputs": [
    {
     "data": {
      "text/plain": "[15, 6]"
     },
     "execution_count": 7,
     "metadata": {},
     "output_type": "execute_result"
    }
   ],
   "source": [
    "a = [5,4]\n",
    "b = [10,2]\n",
    "c = [a[0]+b[0], a[1]+b[1]]\n",
    "c"
   ]
  },
  {
   "cell_type": "markdown",
   "id": "6825bb23",
   "metadata": {
    "pycharm": {
     "name": "#%% md\n"
    }
   },
   "source": [
    "#### Zadanie 3 B\n",
    "\n",
    "Wyświetl na wykresie:\n",
    "- _wektor wodzący_ (strzałkę) z punktu `(0, 0)` do punktów `A` oraz `B` (w kolorze <font color='green'>zielonym</font>),\n",
    "- _wektor wodzący_ (strzałkę) z punktu `(0, 0)` do punktu `C` (w kolorze <font color='red'>czerwonym</font>)\n",
    "- wektor wodzący z punktu `A` do punktu `C` (w kolorze <font color='blue'>niebieskim</font>),\n",
    "- wektor wodzący z punktu `B` do punktu `C` (w kolorze <font color='blue'>niebieskim</font>)."
   ]
  },
  {
   "cell_type": "code",
   "execution_count": 8,
   "outputs": [
    {
     "data": {
      "text/plain": "<Figure size 432x288 with 1 Axes>",
      "image/png": "[encoded data removed]"
     },
     "metadata": {
      "needs_background": "light"
     },
     "output_type": "display_data"
    }
   ],
   "source": [
    "import matplotlib.pyplot as plt\n",
    "plt.arrow(0, 0, a[0], a[1], length_includes_head=True, color='green', width=0.01, head_width=0.2)\n",
    "plt.arrow(0, 0, b[0], b[1], length_includes_head=True, color='green', width=0.01, head_width=0.2)\n",
    "plt.arrow(0, 0, c[0], c[1], length_includes_head=True, color='red', width=0.01, head_width=0.2)\n",
    "plt.arrow(a[0], a[1], c[0], c[1], length_includes_head=True, color='blue', width=0.01, head_width=0.2)\n",
    "plt.arrow(b[0], b[1], c[0], c[1], length_includes_head=True, color='blue', width=0.01, head_width=0.2)\n",
    "plt.show()"
   ],
   "metadata": {
    "collapsed": false,
    "pycharm": {
     "name": "#%%\n"
    }
   }
  },
  {
   "cell_type": "markdown",
   "id": "98e6ec6a",
   "metadata": {
    "pycharm": {
     "name": "#%% md\n"
    }
   },
   "source": [
    "### Zadanie 4\n",
    "\n",
    "Wygeneruj losową macierz 8×8 wg rozkładu Gaussa (średnia: 100, odch. std = 15),\n",
    "wartości zaokrąglij do liczb całkowitych (int). Macierz ta reprezentuje pewien obraz (w skali szarości).\n",
    "\n",
    "Następnie zastosuj filtr uśredniający o masce 3×3 dla elementów wewnętrznych (tj. poza brzegiem) tej macierzy i wypisz wynik. W filtrze uśredniającym zastosuj zaokrąglanie w dół do liczby całkowitej.\n",
    "\n",
    "_Podpowiedź: generacja danych: np.random.normal, np.round._"
   ]
  },
  {
   "cell_type": "code",
   "execution_count": 12,
   "outputs": [
    {
     "data": {
      "text/plain": "array([[ 88., 100., 107.,  99., 103.,  95., 111.,  95.],\n       [ 86., 103., 108.,  89., 108.,  99., 106., 125.],\n       [ 96.,  79.,  90., 117.,  88., 105.,  93.,  92.],\n       [ 95.,  92., 118., 108., 112.,  85.,  91., 102.],\n       [ 85.,  98.,  88., 104.,  96., 106., 122.,  91.],\n       [109., 102., 119., 120., 106.,  95.,  98., 121.],\n       [ 80., 116.,  97.,  74., 128., 113.,  87.,  84.],\n       [ 86.,  95., 100., 105.,  93.,  87.,  87.,  60.]])"
     },
     "execution_count": 12,
     "metadata": {},
     "output_type": "execute_result"
    }
   ],
   "source": [
    "np.random.seed(696969)\n",
    "matrix = np.random.normal(loc=100, scale=15, size=(8,8))\n",
    "matrix = matrix.round()\n",
    "np.round(matrix)"
   ],
   "metadata": {
    "collapsed": false,
    "pycharm": {
     "name": "#%%\n"
    }
   }
  },
  {
   "cell_type": "code",
   "execution_count": 13,
   "outputs": [
    {
     "data": {
      "text/plain": "array([[ 95.22222222,  98.24691358,  99.91632373, 101.54625819,\n        100.17180647, 102.46353405],\n       [ 94.38545953, 101.41899101, 104.90316517, 100.50417262,\n         98.9650857 ,  98.8444918 ],\n       [ 96.42271673, 101.45892583, 101.80947274, 101.02021069,\n         99.92599565, 100.19284146],\n       [ 99.32018251, 103.55681087, 105.87171335, 103.51415471,\n        103.5170225 , 103.62620662],\n       [101.20855482, 103.99525128, 104.65977002, 103.72918451,\n        103.93184093, 100.56389667],\n       [ 98.68931179,  97.72809866, 101.12358939, 104.38270943,\n         97.73418128,  92.02554654]])"
     },
     "execution_count": 13,
     "metadata": {},
     "output_type": "execute_result"
    }
   ],
   "source": [
    "for i in range(1,len(matrix)-1):\n",
    "    for j in range(1,len(matrix)-1):\n",
    "        matrix[i,j] = np.mean([matrix[i-1,j-1],\n",
    "                               matrix[i-1,j],\n",
    "                               matrix[i-1,j+1],\n",
    "                               matrix[i,j-1],\n",
    "                               matrix[i,j],\n",
    "                               matrix[i,j+1],\n",
    "                               matrix[i+1,j-1],\n",
    "                               matrix[i+1,j],\n",
    "                               matrix[i+1,j+1]])\n",
    "matrix1 = np.delete(matrix, obj=0, axis=0)\n",
    "matrix2 = np.delete(matrix1, obj=6, axis=0)\n",
    "matrix3 = np.delete(matrix2, obj=0, axis=1)\n",
    "matrix4 = np.delete(matrix3, obj=6, axis=1)\n",
    "matrix4"
   ],
   "metadata": {
    "collapsed": false,
    "pycharm": {
     "name": "#%%\n"
    }
   }
  },
  {
   "cell_type": "code",
   "execution_count": 14,
   "outputs": [
    {
     "data": {
      "text/plain": "array([[ 95.,  98.,  99., 101., 100., 102.],\n       [ 94., 101., 104., 100.,  98.,  98.],\n       [ 96., 101., 101., 101.,  99., 100.],\n       [ 99., 103., 105., 103., 103., 103.],\n       [101., 103., 104., 103., 103., 100.],\n       [ 98.,  97., 101., 104.,  97.,  92.]])"
     },
     "execution_count": 14,
     "metadata": {},
     "output_type": "execute_result"
    }
   ],
   "source": [
    "matrix = np.floor(matrix4)\n",
    "matrix"
   ],
   "metadata": {
    "collapsed": false,
    "pycharm": {
     "name": "#%%\n"
    }
   }
  },
  {
   "cell_type": "code",
   "execution_count": null,
   "outputs": [],
   "source": [],
   "metadata": {
    "collapsed": false,
    "pycharm": {
     "name": "#%%\n"
    }
   }
  }
 ],
 "metadata": {
  "author": {
   "email": "robert.susik@p.lodz.pl",
   "name": "Robert Susik"
  },
  "kernelspec": {
   "display_name": "Python 3 (ipykernel)",
   "language": "python",
   "name": "python3"
  },
  "language_info": {
   "codemirror_mode": {
    "name": "ipython",
    "version": 3
   },
   "file_extension": ".py",
   "mimetype": "text/x-python",
   "name": "python",
   "nbconvert_exporter": "python",
   "pygments_lexer": "ipython3",
   "version": "3.8.11"
  },
  "toc": {
   "base_numbering": 1,
   "nav_menu": {},
   "number_sections": true,
   "sideBar": true,
   "skip_h1_title": false,
   "title_cell": "Table of Contents",
   "title_sidebar": "Contents",
   "toc_cell": false,
   "toc_position": {},
   "toc_section_display": true,
   "toc_window_display": false
  }
 },
 "nbformat": 4,
 "nbformat_minor": 5
}