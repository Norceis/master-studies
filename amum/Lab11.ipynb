{
 "cells": [
  {
   "cell_type": "markdown",
   "id": "1d685a9d",
   "metadata": {
    "pycharm": {
     "name": "#%% md\n"
    }
   },
   "source": [
    "# Algorytmika i matematyka uczenia maszynowego\n",
    "## Laboratorium 11 - macierz odwrotna i wyznacznik macierzy\n",
    "\n",
    "\n",
    "### Zadanie 1 - szyfr Hilla\n",
    "\n",
    "Zaimplementuj dwie funkcje do kodowania i dekodowania wiadomości za pomocą szyfru [Hilla](https://pl.wikipedia.org/wiki/Szyfr_Hilla):\n",
    "* `encrypt(t, K)` - szyfruje tekst $t$ za pomocą klucza (macierzy) $K$.\n",
    "* `decrypt(s, K)` - deszyfruje kod $s$ za pomocą klucza (macierzy) $K$.\n",
    "\n",
    "#### Kodowanie\n",
    "\n",
    "W systemie kodowania ASCII litery A - Z zapisane są jako liczby z zakresu 65 - 90. Aby zaszyfrować tekst za pomocą klucza $K$ (macierz o wymiarach $m$ x $m$), należy zapisać znaki tekstu w postaci macierzy o wymiarach $m$ x $n$, a następnie wykonać następujące operacje:\n",
    "\n",
    "1. Utworzyć macierz szyfrującą $K$, której wyznacznik wynosi $det(K) = 1$.\n",
    "> Uwaga: jest to odstępstwo od oryginalnego algorytmu mające na celu uproszczenie przykładu.\n",
    "> Macierz taką można utworzyć z macierzy jednostkowej (`np.identity`), korzystając z operacji elementarnych np. dodając do jednego wiersza macierzy inny wiersz pomnożony przez skalar.\n",
    "1. Zamienić litery tekstu $t$ o długości $h$ na wektor liczb.\n",
    "1. Dopełnić (_padding_) zerami, aby można było wykonać kolejny krok.\n",
    "1. Przekształcić na macierz $X$ o wymiarach ($m$ x $n$), gdzie $n = \\lceil \\frac{h}{m} \\rceil$ (możesz użyć funkcji `reshape`).\n",
    "1. Wykonać operację $S = (KX)$.\n",
    "1. Skonwertować macierz $S$ na wektor (możesz użyć funkcji `flatten`) i zwrócić szyfrogram $s$ (zaszyfrowany tekst).\n",
    "\n",
    "\n",
    "> Uwaga 1: Przedstawiony algorytm jest uproszczonym algorytmem, posiadającym ograniczenie $det(K)=1$, które można pominąć, ale wtedy należy do macierzy kodującej wyznaczyć macierz odwrotną modulo 26 (liczba znaków A-Z, ale może być dowolna inna). Podobnie, należy macierz $S$ zamienić na modulo 26. **Istotne**: W tym przypadku należy pamiętać, że wyznacznik macierzy szyfrującej $det(K)$ nie może posiadać wspólnego dzielnika z liczbą 26 (czyli obie liczby muszą być względnie pierwsze). Dlaczego? Bo w przeciwnym wypadku nie istnieje liczba odwrotna do $det(K) \\textit{ mod } 26$.\n",
    "\n",
    "> Uwaga 2: ciąg $s$ może zawierać niedrukowalne znaki. Jeżeli chcesz tego uniknąć możesz np. zmapować znaki (65-90) do zakresu 0-25. Następnie przy wyświetlaniu przeprowadzić operację w drugą stronę.\n",
    "\n",
    "\n",
    "#### Dekodowanie\n",
    "\n",
    "Aby rozszyfrować zaszyfrowaną wiadomość $s$, należy:\n",
    "\n",
    "1. Zamienić ciąg $s$ na macierz $S$.\n",
    "1. Obliczyć macierz odwrotną $K^{-1}$ (funkcja `np.linalg.inv`).\n",
    "1. Rozszyfrować wiadomość wykonując operację $W = K^{-1} S$.\n",
    "1. Skonwertować wiadomość $W$ na ciąg tekstowy $w$.\n",
    "\n",
    "\n",
    "**Uwaga**: Jest to tylko laboratoryjny przykład na zastosowanie operacji macierzowych. Przedstawione rozwiązanie nie jest bezpieczne."
   ]
  },
  {
   "cell_type": "code",
   "execution_count": 94,
   "id": "56603989",
   "metadata": {
    "pycharm": {
     "name": "#%%\n"
    }
   },
   "outputs": [
    {
     "data": {
      "text/plain": "'ķâŕģŐŝŠŇķÌ\\x81áÂÞãçÙÌ'"
     },
     "execution_count": 94,
     "metadata": {},
     "output_type": "execute_result"
    }
   ],
   "source": [
    "import numpy as np\n",
    "\n",
    "def encode(text, m):\n",
    "    size = len(text)\n",
    "    K = np.random.randint(low=1, high=3, size = (m,m))\n",
    "\n",
    "    while True:\n",
    "        if np.linalg.det(K) > 0:\n",
    "            break\n",
    "        else:\n",
    "            K = np.random.randint(low=1, high=3, size = (m,m))\n",
    "\n",
    "    ascii = []\n",
    "    n = size/m\n",
    "\n",
    "    for letter in text:\n",
    "        ascii.append(ord(letter))\n",
    "\n",
    "    ascii = np.asarray(ascii)\n",
    "    while len(ascii) % m != 0:\n",
    "        ascii = np.append(ascii, [0])\n",
    "\n",
    "    X = ascii.reshape(m, int(np.ceil(n)))\n",
    "    S = K @ X\n",
    "    flattened = np.ndarray.flatten(S)\n",
    "\n",
    "    ciphrogram = []\n",
    "    for element in flattened:\n",
    "        ciphrogram.append(chr(element))\n",
    "    encrypted_string = ''.join(ciphrogram)\n",
    "\n",
    "    return encrypted_string, K\n",
    "\n",
    "\n",
    "text = 'katarzynka malinka'\n",
    "encrypted_string, K = encode(text, 2)\n",
    "encrypted_string"
   ]
  },
  {
   "cell_type": "code",
   "execution_count": 98,
   "outputs": [
    {
     "name": "stdout",
     "output_type": "stream",
     "text": [
      "[[2 1]\n",
      " [1 1]]\n"
     ]
    }
   ],
   "source": [
    "print(K)"
   ],
   "metadata": {
    "collapsed": false,
    "pycharm": {
     "name": "#%%\n"
    }
   }
  },
  {
   "cell_type": "code",
   "execution_count": 95,
   "outputs": [
    {
     "data": {
      "text/plain": "'katarzynka malinka'"
     },
     "execution_count": 95,
     "metadata": {},
     "output_type": "execute_result"
    }
   ],
   "source": [
    "def decode(encrypted_string, K):\n",
    "    ascii = []\n",
    "    size = len(text)\n",
    "    n = size/K.shape[0]\n",
    "\n",
    "    for letter in encrypted_string:\n",
    "        ascii.append(ord(letter))\n",
    "\n",
    "    ascii = np.asarray(ascii)\n",
    "    X = ascii.reshape(K.shape[0], int(np.ceil(n)))\n",
    "    W = np.linalg.inv(K) @ X\n",
    "    flattened = np.ndarray.flatten(W)\n",
    "\n",
    "    ciphrogram = []\n",
    "    for element in flattened:\n",
    "        ciphrogram.append(chr(int(element)))\n",
    "    decrypted_string = ''.join(ciphrogram)\n",
    "    \n",
    "    return decrypted_string\n",
    "\n",
    "decode(encrypted_string, K)"
   ],
   "metadata": {
    "collapsed": false,
    "pycharm": {
     "name": "#%%\n"
    }
   }
  },
  {
   "cell_type": "markdown",
   "id": "08744169",
   "metadata": {
    "pycharm": {
     "name": "#%% md\n"
    }
   },
   "source": [
    "### Zadanie 2\n",
    "\n",
    "Zaimplementować funkcję, która przyjmuje macierz kwadratową jako argument i zwraca jej wyznacznik obliczony zgodnie ze wzorem [Leibniza](https://en.wikipedia.org/wiki/Leibniz_formula_for_determinants) (_definicja permutacyjna_) i porównaj z wynikiem gotowej funkcji z biblioteki numpy `np.linalg.det`.\n",
    "\n",
    "$$\n",
    "\\text{det}(A) = \\sum_{\\sigma \\in S_n}\\left(\\text{sgn}(\\sigma)\\prod_{i=0}^{n-1}a_{i, \\sigma(i)}\\right)\n",
    "$$\n",
    "\n",
    ", gdzie:\n",
    "\n",
    "* $S_n$ - [grupa permutacji](https://en.wikipedia.org/wiki/Symmetric_group) (dla macierzy 3x3 będą to permutacje ze zbioru {0, 1, 2})\n",
    "* $\\text{sgn}$ - jest to symbol \"+\", \"-\" w zależny od [parzystości permutacji](https://en.wikipedia.org/wiki/Parity_of_a_permutation). Np. dla permutacji `[1, 2, 0]` będzie to \"+\" (trzeba wykonać dwie operacje - zamienić `0` z `1` a później `0` z `2`, a dla permutacji `[0, 2, 1]` będzie \"-\" ponieważ wystarczy jedna operacja (zamiana `1` z `2`).\n",
    "* $\\sigma$ - permutacja (element z grupy permutacji $S_n$)\n",
    "\n",
    "##### Przykład dla macierzy 3x3\n",
    "\n",
    "| $\\sigma$ | $\\text{sgn}$ | $\\text{sgn}(\\sigma)\\prod_{i=0}^{n-1}a_{i, \\sigma(i)}$ |\n",
    "| :---     | :---         | ---: |\n",
    "| 1, 2, 3  | +            | $+a_{1,1}a_{2,2}a_{3,3}$ |\n",
    "| 1, 3, 2  | -            | $-a_{1,1}a_{2,3}a_{3,2}$ |\n",
    "| 3, 1, 2  | +            | $+a_{1,3}a_{2,1}a_{3,2}$ |\n",
    "| 3, 2, 1  | -            | $-a_{1,3}a_{2,2}a_{3,1}$ |\n",
    "| 2, 3, 1  | +            | $+a_{1,2}a_{2,3}a_{3,1}$ |\n",
    "| 2, 1, 3  | -            | $-a_{1,2}a_{2,1}a_{3,3}$ |\n",
    "\n",
    "$\\text{det}(A) = a_{1,1}a_{2,2}a_{3,3} - a_{1,1}a_{2,3}a_{3,2} + a_{1,3}a_{2,1}a_{3,2} - a_{1,3}a_{2,2}a_{3,1} + a_{1,2}a_{2,3}a_{3,1} - a_{1,2}a_{2,1}a_{3,3}$\n",
    "\n",
    "> Uwaga 1: Aby sprawdzić parzystość permutacji możesz użyć funkcji `parity` z biblioteki [`sympy`](https://docs.sympy.org/latest/modules/combinatorics/permutations.html#sympy.combinatorics.permutations.Permutation.parity). Przykład:\n",
    "    ```from sympy.combinatorics import Permutation\n",
    "Permutation([0, 2, 1]).parity()\n",
    "    ```\n",
    "\n",
    "> Uwaga 2: W celu wygenerowania permutacji możesz użyć funkcji `permutations` z modułu [`itertools`](https://docs.python.org/3/library/itertools.html#itertools.permutations)\n",
    "\n",
    "> Uwaga 3: Pamiętaj, że w numpy porównywanie liczb zmiennoprzecinkowych wykonuje się za pomocą funkcji [`allclose`](https://numpy.org/doc/stable/reference/generated/numpy.allclose.html)"
   ]
  },
  {
   "cell_type": "code",
   "execution_count": 96,
   "outputs": [
    {
     "ename": "ModuleNotFoundError",
     "evalue": "No module named 'sympy'",
     "output_type": "error",
     "traceback": [
      "\u001B[1;31m---------------------------------------------------------------------------\u001B[0m",
      "\u001B[1;31mModuleNotFoundError\u001B[0m                       Traceback (most recent call last)",
      "Input \u001B[1;32mIn [96]\u001B[0m, in \u001B[0;36m<cell line: 1>\u001B[1;34m()\u001B[0m\n\u001B[1;32m----> 1\u001B[0m \u001B[38;5;28;01mfrom\u001B[39;00m \u001B[38;5;21;01msympy\u001B[39;00m\u001B[38;5;21;01m.\u001B[39;00m\u001B[38;5;21;01mcombinatorics\u001B[39;00m \u001B[38;5;28;01mimport\u001B[39;00m Permutation\n\u001B[0;32m      2\u001B[0m \u001B[38;5;28;01mfrom\u001B[39;00m \u001B[38;5;21;01mitertools\u001B[39;00m \u001B[38;5;28;01mimport\u001B[39;00m permutations\n\u001B[0;32m      4\u001B[0m \u001B[38;5;28;01mdef\u001B[39;00m \u001B[38;5;21mdeterminant\u001B[39m(matrix):\n",
      "\u001B[1;31mModuleNotFoundError\u001B[0m: No module named 'sympy'"
     ]
    }
   ],
   "source": [
    "from sympy.combinatorics import Permutation\n",
    "from itertools import permutations\n",
    "\n",
    "def determinant(matrix):\n",
    "\n",
    "    elements = []\n",
    "    sum = 0\n",
    "\n",
    "    for element in range(len(matrix)):\n",
    "        elements.append(element)\n",
    "\n",
    "    perms = permutations(elements)\n",
    "\n",
    "    for permutation in perms:\n",
    "        if Permutation(permutation).parity() == 1:\n",
    "            list_of_mults = []\n",
    "            for element_of_mult in range(len(matrix)):\n",
    "                list_of_mults.append(matrix[element_of_mult, permutation[element_of_mult]])\n",
    "            sum += -1 * np.prod(list_of_mults)\n",
    "\n",
    "        else:\n",
    "            list_of_mults = []\n",
    "            for element_of_mult in range(len(matrix)):\n",
    "                list_of_mults.append(matrix[element_of_mult, permutation[element_of_mult]])\n",
    "            sum += 1 * np.prod(list_of_mults)\n",
    "\n",
    "    return sum\n",
    "\n",
    "matrix = np.random.randint(1,10, size=(8,8))\n",
    "det = determinant(matrix)\n",
    "print(f' My own: {det} Numpy: {round(np.linalg.det(matrix))}')"
   ],
   "metadata": {
    "collapsed": false,
    "pycharm": {
     "name": "#%%\n"
    }
   }
  }
 ],
 "metadata": {
  "author": {
   "email": "robert.susik@p.lodz.pl",
   "name": "Robert Susik"
  },
  "kernelspec": {
   "display_name": "Python 3 (ipykernel)",
   "language": "python",
   "name": "python3"
  },
  "language_info": {
   "codemirror_mode": {
    "name": "ipython",
    "version": 3
   },
   "file_extension": ".py",
   "mimetype": "text/x-python",
   "name": "python",
   "nbconvert_exporter": "python",
   "pygments_lexer": "ipython3",
   "version": "3.8.11"
  },
  "toc": {
   "base_numbering": 1,
   "nav_menu": {},
   "number_sections": true,
   "sideBar": true,
   "skip_h1_title": false,
   "title_cell": "Table of Contents",
   "title_sidebar": "Contents",
   "toc_cell": false,
   "toc_position": {},
   "toc_section_display": true,
   "toc_window_display": false
  }
 },
 "nbformat": 4,
 "nbformat_minor": 5
}