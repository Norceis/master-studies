{
 "cells": [
  {
   "cell_type": "markdown",
   "id": "9ed56307",
   "metadata": {
    "pycharm": {
     "name": "#%% md\n"
    }
   },
   "source": [
    "# Algorytmika i matematyka uczenia maszynowego \n",
    "## Laboratorium 2\n",
    "\n",
    "Do wykonania zadań proszę zapoznać się z metodami, właściwościami, oraz funkcjami:\n",
    "`__repr__`, `__str__`, `__add__`, `__sub__`, `__eq__`, `__lt__`, `__gt__`, `__le__`, `__ge__`, `__ne__`, `__hash__`, `__truediv__`, `__mul__`, `__class__`, `__name__`, `id`.\n",
    "\n",
    "Operatory: https://docs.python.org/3/library/operator.html\n",
    "\n",
    "\n",
    "**UWAGA**: W ninejszym laboratorium proszę nie korzystać z zewnętrzych modułów/bibliotek (poza biblioteką _matplotlib_).\n",
    "\n",
    "**UWAGA 2**: Obsługę błędów należy zrealizować w postaci wyjątków.\n",
    "\n",
    "### Zadanie 1\n",
    "\n",
    "Napisz klasę `Vector` udostępniającą funkcjonalność:\n",
    "- reprezentuje wektor dowolnej długości,\n",
    "- obiekt inicjowany listą (np. `Vector([1, 2, 3])`,\n",
    "- posiada funkcję zwracającą moduł wektora,\n",
    "- umożliwia dodawanie (`+`) i odejmowanie (`-`) wektorów. Dodaj obsługę błędów (różna długość (liczba elementów) wektora),\n",
    "- możliwość wyświetlenia wektora jako listy za pomocą funkcji `print(v)` (metoda `__str__`),\n",
    "- uruchomienie komórki zawierającej jedynie nazwę zmiennej (typu `Vector`) spowoduje wyświetlenie nazwy typu `Vector`, adresu zmiennej w pamięci (funkcja `id`) oraz jej zawartości, np. `<Vector([1, 2, 3]) at 140185630442880>` (metoda `__repr__`)"
   ]
  },
  {
   "cell_type": "code",
   "execution_count": 154,
   "id": "ac82ae76",
   "metadata": {
    "pycharm": {
     "name": "#%%\n"
    }
   },
   "outputs": [],
   "source": [
    "class Vector:\n",
    "    def __init__(self, coordinates):\n",
    "        self.coordinates = coordinates\n",
    "\n",
    "    def module(self):\n",
    "        number = 0\n",
    "        for i in (self.coordinates):\n",
    "            number += i ** 2\n",
    "        return number ** (1 / 2)\n",
    "\n",
    "    def __repr__(self):\n",
    "        rep = 'Vector(' + str(self.coordinates) + ') at ' + str(id(self))\n",
    "        return rep\n",
    "\n",
    "    def __add__(self, other):\n",
    "        c = Vector([])\n",
    "        if len(self.coordinates) == len(other.coordinates):\n",
    "            for i in range(len(self.coordinates)):\n",
    "                c.coordinates.append(self.coordinates[i] + other.coordinates[i])\n",
    "            return (c)\n",
    "        else:\n",
    "            raise OverflowError(\"Vectors don't fit together\")\n",
    "\n",
    "    def __sub__(self, other):\n",
    "        c = Vector([])\n",
    "        if len(self.coordinates) == len(other.coordinates):\n",
    "            for i in range(len(self.coordinates)):\n",
    "                c.coordinates.append(self.coordinates[i] - other.coordinates[i])\n",
    "            return (c)\n",
    "        else:\n",
    "            raise OverflowError(\"Vectors don't fit together\")\n",
    "\n",
    "    def __str__(self):\n",
    "        return 'Vector(' + str(self.coordinates) + ')'\n",
    "\n",
    "    def __eq__(self, other):\n",
    "        c = Vector([])\n",
    "        if len(self.coordinates) == len(other.coordinates):\n",
    "            for i in range(len(self.coordinates)):\n",
    "                if self.coordinates[i] == other.coordinates[i]:\n",
    "                    c.coordinates.append(True)\n",
    "                else:\n",
    "                    c.coordinates.append(False)\n",
    "            return (c)\n",
    "        else:\n",
    "            raise OverflowError(\"Vectors don't fit together\")\n",
    "\n",
    "    def __lt__(self, other):\n",
    "        c = Vector([])\n",
    "        if len(self.coordinates) == len(other.coordinates):\n",
    "            for i in range(len(self.coordinates)):\n",
    "                if self.coordinates[i] < other.coordinates[i]:\n",
    "                    c.coordinates.append(True)\n",
    "                else:\n",
    "                    c.coordinates.append(False)\n",
    "            return (c)\n",
    "        else:\n",
    "            raise OverflowError(\"Vectors don't fit together\")\n",
    "\n",
    "    def __gt__(self, other):\n",
    "        c = Vector([])\n",
    "        if len(self.coordinates) == len(other.coordinates):\n",
    "            for i in range(len(self.coordinates)):\n",
    "                if self.coordinates[i] > other.coordinates[i]:\n",
    "                    c.coordinates.append(True)\n",
    "                else:\n",
    "                    c.coordinates.append(False)\n",
    "            return (c)\n",
    "        else:\n",
    "            raise OverflowError(\"Vectors don't fit together\")\n",
    "\n",
    "    def __le__(self, other):\n",
    "        c = Vector([])\n",
    "        if len(self.coordinates) == len(other.coordinates):\n",
    "            for i in range(len(self.coordinates)):\n",
    "                if self.coordinates[i] <= other.coordinates[i]:\n",
    "                    c.coordinates.append(True)\n",
    "                else:\n",
    "                    c.coordinates.append(False)\n",
    "            return (c)\n",
    "        else:\n",
    "            raise OverflowError(\"Vectors don't fit together\")\n",
    "\n",
    "    def __ge__(self, other):\n",
    "        c = Vector([])\n",
    "        if len(self.coordinates) == len(other.coordinates):\n",
    "            for i in range(len(self.coordinates)):\n",
    "                if self.coordinates[i] >= other.coordinates[i]:\n",
    "                    c.coordinates.append(True)\n",
    "                else:\n",
    "                    c.coordinates.append(False)\n",
    "            return (c)\n",
    "        else:\n",
    "            raise OverflowError(\"Vectors don't fit together\")\n",
    "\n",
    "    def __ne__(self, other):\n",
    "        c = Vector([])\n",
    "        if len(self.coordinates) == len(other.coordinates):\n",
    "            for i in range(len(self.coordinates)):\n",
    "                if self.coordinates[i] != other.coordinates[i]:\n",
    "                    c.coordinates.append(True)\n",
    "                else:\n",
    "                    c.coordinates.append(False)\n",
    "            return (c)\n",
    "        else:\n",
    "            raise OverflowError(\"Vectors don't fit together\")\n",
    "\n",
    "    def plot(self):\n",
    "        if len(self.coordinates) == 2:\n",
    "            plt.arrow(0, 0, self.coordinates[0], self.coordinates[1], length_includes_head=True, width=0.01, head_width=0.2)\n",
    "            plt.show()\n",
    "        else:\n",
    "            raise OverflowError(\"Vectors don't fit together\")\n",
    "\n",
    "    def __hash__(self):\n",
    "        tupla = tuple(self.coordinates)\n",
    "        return hash(tupla)\n",
    "\n",
    "    def __truediv__(self, other):\n",
    "        c = Vector([])\n",
    "        if other != 0:\n",
    "            for i in range(len(self.coordinates)):\n",
    "                c.coordinates.append((self.coordinates[i])/other)\n",
    "            return (c)\n",
    "        else:\n",
    "            raise OverflowError(\"You shall not divideth by 0\")\n",
    "\n",
    "    def __mul__(self, other):\n",
    "        c = Vector([])\n",
    "        for i in range(len(self.coordinates)):\n",
    "            c.coordinates.append((self.coordinates[i])*other)\n",
    "        return (c)"
   ]
  },
  {
   "cell_type": "code",
   "execution_count": 155,
   "outputs": [
    {
     "data": {
      "text/plain": "Vector([4, 5, 7]) at 1618464728112"
     },
     "execution_count": 155,
     "metadata": {},
     "output_type": "execute_result"
    }
   ],
   "source": [
    "a = Vector([2,2,3])\n",
    "b = Vector([2,3,4])\n",
    "a+b"
   ],
   "metadata": {
    "collapsed": false,
    "pycharm": {
     "name": "#%%\n"
    }
   }
  },
  {
   "cell_type": "code",
   "execution_count": 156,
   "outputs": [
    {
     "data": {
      "text/plain": "Vector([2, 2, 3]) at 1618464729312"
     },
     "execution_count": 156,
     "metadata": {},
     "output_type": "execute_result"
    }
   ],
   "source": [
    "a"
   ],
   "metadata": {
    "collapsed": false,
    "pycharm": {
     "name": "#%%\n"
    }
   }
  },
  {
   "cell_type": "markdown",
   "id": "87da7375",
   "metadata": {
    "pycharm": {
     "name": "#%% md\n"
    }
   },
   "source": [
    "### Zadanie 2\n",
    "\n",
    "Do wcześniej zaimplementowanej klasy dopisz funkcje pozwalające na porównanie wektorów za pomocą operatorów: `==`, `>=`, `<=`, `>`, `<`, `!=`. Porównanie ma zostać wykonane na poziomie elementów wektorów (_element wise_), poniżej przykład:\n",
    "\n",
    "```ipython\n",
    " In [1]: a = Vector([1, 2, 3]) \\\n",
    "    ...: b = Vector([3, 2, 1]) \\\n",
    "    ...: a <= b\n",
    "Out [1]: <Vector([True, True, False]) at 140185575662832>\n",
    "```"
   ]
  },
  {
   "cell_type": "code",
   "execution_count": 157,
   "id": "3b99972a",
   "metadata": {
    "pycharm": {
     "name": "#%%\n"
    }
   },
   "outputs": [
    {
     "data": {
      "text/plain": "Vector([False, True, True]) at 1618464729840"
     },
     "execution_count": 157,
     "metadata": {},
     "output_type": "execute_result"
    }
   ],
   "source": [
    "a != b"
   ]
  },
  {
   "cell_type": "markdown",
   "id": "d8e9a446",
   "metadata": {
    "pycharm": {
     "name": "#%% md\n"
    }
   },
   "source": [
    "### Zadanie 3\n",
    "\n",
    "Do klasy `Vector` dopisz funkcję umożliwiającą wyświetlenie wektora na wykresie (zaimplementuj wyświetlanie za pomocą biblioteki `matplotlib`. \n",
    "\n",
    "> **UWAGA**: Funkcja powinna działać tylko dla wektora o dwóch wymiarach (dwuelementowa lista) - wykres 2D i wyświetlać komunikat jeżeli wymiar jest inny.\n",
    "\n",
    "> Podpowiedź: możesz wykorzystać funkcję [matplotlib.pyplot.arrow](https://matplotlib.org/3.5.1/api/_as_gen/matplotlib.pyplot.arrow.html)"
   ]
  },
  {
   "cell_type": "code",
   "execution_count": 158,
   "id": "c9f9de7b",
   "metadata": {
    "pycharm": {
     "name": "#%%\n"
    }
   },
   "outputs": [
    {
     "data": {
      "text/plain": "<Figure size 432x288 with 1 Axes>",
      "image/png": "[encoded data removed]"
     },
     "metadata": {
      "needs_background": "light"
     },
     "output_type": "display_data"
    }
   ],
   "source": [
    "import matplotlib.pyplot as plt\n",
    "c = Vector([-3,4])\n",
    "c.plot()"
   ]
  },
  {
   "cell_type": "markdown",
   "id": "ebc3c411",
   "metadata": {
    "pycharm": {
     "name": "#%% md\n"
    }
   },
   "source": [
    "### Zadanie 4\n",
    "\n",
    "Dodaj możliwość zastosowania obiektu klasy `Vector` jako klucza w słowniku. Np.:\n",
    "\n",
    "```python\n",
    "d = {\n",
    "    Vector([1, 2, 3]): 'Wektor 1',\n",
    "    Vector([2, 2, 3]): 'Wektor 2'\n",
    "}\n",
    "d[Vector([2, 2, 3])]\n",
    "```"
   ]
  },
  {
   "cell_type": "code",
   "execution_count": 159,
   "id": "d1db2d39",
   "metadata": {
    "pycharm": {
     "name": "#%%\n"
    }
   },
   "outputs": [
    {
     "data": {
      "text/plain": "{Vector([2, 2, 3]) at 1618464729312: 'Wektor 1',\n Vector([2, 3, 4]) at 1618464727344: 'Wektor 2',\n Vector([-3, 4]) at 1618464728880: 'Wektor 3'}"
     },
     "execution_count": 159,
     "metadata": {},
     "output_type": "execute_result"
    }
   ],
   "source": [
    "dict = {\n",
    "    a: 'Wektor 1',\n",
    "    b: 'Wektor 2',\n",
    "    c: 'Wektor 3'\n",
    "}\n",
    "dict"
   ]
  },
  {
   "cell_type": "markdown",
   "id": "8aec816a",
   "metadata": {
    "pycharm": {
     "name": "#%% md\n"
    }
   },
   "source": [
    "### Zadanie 5\n",
    "\n",
    "Dodaj funkcjonalność:\n",
    "- dzielenia przez skalar (np. `Vector([2, 4]) / 2`),\n",
    "- mnożenia przez skalar (np. `Vector([2, 4]) * 2`).\n",
    "\n",
    "> Podpowiedź: Pamiętaj o obsłudze błędów."
   ]
  },
  {
   "cell_type": "code",
   "execution_count": 164,
   "id": "2bb3d9bb",
   "metadata": {
    "pycharm": {
     "name": "#%%\n"
    }
   },
   "outputs": [
    {
     "data": {
      "text/plain": "Vector([0.4, 0.4, 0.6]) at 1618477222496"
     },
     "execution_count": 164,
     "metadata": {},
     "output_type": "execute_result"
    }
   ],
   "source": [
    "a/5"
   ]
  },
  {
   "cell_type": "code",
   "execution_count": 165,
   "outputs": [
    {
     "data": {
      "text/plain": "Vector([4, 4, 6]) at 1618477973952"
     },
     "execution_count": 165,
     "metadata": {},
     "output_type": "execute_result"
    }
   ],
   "source": [
    "a*2"
   ],
   "metadata": {
    "collapsed": false,
    "pycharm": {
     "name": "#%%\n"
    }
   }
  }
 ],
 "metadata": {
  "author": {
   "email": "robert.susik@p.lodz.pl",
   "name": "Robert Susik"
  },
  "kernelspec": {
   "display_name": "Python 3 (ipykernel)",
   "language": "python",
   "name": "python3"
  },
  "language_info": {
   "codemirror_mode": {
    "name": "ipython",
    "version": 3
   },
   "file_extension": ".py",
   "mimetype": "text/x-python",
   "name": "python",
   "nbconvert_exporter": "python",
   "pygments_lexer": "ipython3",
   "version": "3.8.11"
  },
  "toc": {
   "base_numbering": 1,
   "nav_menu": {},
   "number_sections": true,
   "sideBar": true,
   "skip_h1_title": false,
   "title_cell": "Table of Contents",
   "title_sidebar": "Contents",
   "toc_cell": false,
   "toc_position": {},
   "toc_section_display": true,
   "toc_window_display": false
  }
 },
 "nbformat": 4,
 "nbformat_minor": 5
}